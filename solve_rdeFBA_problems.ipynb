{
 "cells": [
  {
   "cell_type": "markdown",
   "metadata": {},
   "source": [
    "This Notebook was built to solve different r-deFBA models and investigate their variability, using r-deFVA.\n",
    "\n",
    "It lets the user choose from a numerous scenarios (i.e., initial conditions) and gives several choices on how the MILP is created and solved.\n",
    "\n",
    "**Note: To run r-deFVA, CPLEX must be used!**"
   ]
  },
  {
   "cell_type": "markdown",
   "metadata": {
    "tags": []
   },
   "source": [
    "# Imports"
   ]
  },
  {
   "cell_type": "code",
   "execution_count": 1,
   "metadata": {
    "tags": []
   },
   "outputs": [],
   "source": [
    "import copy \n",
    "import os\n",
    "import sys\n",
    "\n",
    "import numpy as np\n",
    "import pandas as pd\n",
    "import matplotlib.pyplot as plt\n",
    "import seaborn as sns\n",
    "\n",
    "from pathlib import Path\n",
    "from time import sleep\n",
    "\n",
    "# module_path = os.path.abspath(os.path.join('..'))\n",
    "# if module_path not in sys.path:\n",
    "#     sys.path.append(module_path)\n",
    "from pyrrrateFBA.pyrrrateModel import Model\n",
    "\n",
    "from src import RESULT_PATH, LPFILE_PATH, FIGURE_PATH, FVA_PATH, discretization_schemes\n",
    "from src.optimization_problem.OptimizationProblem import rdeFBA_Problem\n",
    "from src.helpers import compute_biomass, compute_state_changes, create_dataframes_from_solution\n",
    "from src.notebook.helpers import set_initial_values, print_y_and_u, print_var_indices, plotting\n",
    "from src.models import toy_model, self_replicator, covert2001, simulation_dicti\n"
   ]
  },
  {
   "cell_type": "markdown",
   "metadata": {
    "jp-MarkdownHeadingCollapsed": true,
    "tags": []
   },
   "source": [
    "# 1 General User Input\n",
    "In the following you can choose a model and scenario, and define different parameters, such as the discretization method or scaling factors. These always have to be defined. For simulations, as well as r-deFVA"
   ]
  },
  {
   "cell_type": "markdown",
   "metadata": {
    "tags": []
   },
   "source": [
    "### 1.1.1 Choose Model and Scenario\n",
    "You can choose from four different models and their respective scenarios. Scenarios define the initial conditions (environment), the simulation time, and number of timesteps.:\n",
    "* (Model) `toy_model` - Toy Model\n",
    "    * (Scenario) `'toy_model'` - Default scenario to show optimal solution can be non-unique  <br/><br/>\n",
    "* (Model) `self_replicator` - Regulatory Self Replicator\n",
    "    * (Scenario) `'sr_default'` - Aerobic growth on two carbon sources\n",
    "    * (Scenario) `'sr_high'` - Same as the default scenario, but with very large initial carbon amounts. Can break regulatory rules <br/><br/>\n",
    "* (Model) `covert01` - Core Carbon Model\n",
    "    * (Scenario) `'cov01_scenario1'` - Aerobic growth on two carbon sources\n",
    "    * (Scenario) `'cov01_scenario2'` - Switch from aerobic to anaerobic growth\n",
    "    * (Scenario) `'cov01_scenario3'` - Aerobic growth on carbon and amino acids, with carbon in excess.\n",
    "    * (Scenario) `'cov01_scenario4'` - Aerobic growth on carbon and amino acids, with amino acids in excess. <br/><br/>\n",
    "* (Model) `covert02` - E.coli Core Model\n",
    "    * (Scenario) `'cov02_default'` - Aerobic growth on glucose\n",
    "    \n",
    "To define your own scenario, set `scenario=None` and define the initial conditions, simulation time and number of timesteps in Sec. 1.1.3\n"
   ]
  },
  {
   "cell_type": "code",
   "execution_count": 2,
   "metadata": {
    "tags": []
   },
   "outputs": [],
   "source": [
    "### Toy Model\n",
    "# model = toy_model\n",
    "# scenario = 'tm_default'\n",
    "\n",
    "### Self-Replicator Model\n",
    "model = self_replicator\n",
    "scenario = 'sr_default'\n",
    "# scenario = 'sr_high'\n",
    "\n",
    "### Carbon Core Model (Covert01)\n",
    "# model = covert2001\n",
    "# scenario = 'cov01_scenario1'\n",
    "# scenario = 'cov01_scenario2'\n",
    "# scenario = 'cov01_scenario3'\n",
    "# scenario = 'cov01_scenario4'\n",
    "\n",
    "### E.coli Core Model\n",
    "# model = covert02\n",
    "# scenario = 'cov02_default'\n",
    "\n",
    "\n",
    "# scenario = None"
   ]
  },
  {
   "cell_type": "markdown",
   "metadata": {
    "tags": []
   },
   "source": [
    "### 1.1.2 Additional Parameters:\n",
    "\n",
    "r-deFBA parameters concern the model building. They define things like the temporal discretization method, model scaling, etc.:\n",
    "\n",
    "* `rdeFBA`   -   a boolean. Determines whether r-deFBA (`True`) or deFBA (`False`) is carried out\n",
    "* `phi` - float. discount parameter in objective function. Default is 0.001\n",
    "* `discretization_method` - a string. Defines the method used for temporal discretization. Choices are: `default` (trapezoidal + midpoint rule), `explicit_euler`, `implicit_euler`, `implicit_midpoint`, `trapezoidal`, `rk4`.\n",
    "* `indicator_constraints` - a boolean. If `True` regulatory constraints are created as indicator constraints. Otherwise bigM formulation is used.\n",
    "* `eps_scaling_factor` - a tuple of size 2 defining the scaling factors. Elements of the tuple can be either floats or arrays of floats. First element defines the scaling of dynamical species, second element defines scaling of reaction fluxes. If a single float is given, all species/fluxes are scaled by the same factor. If an array is passed, the array must contain a value for **every** dynamical species/reaction flux. Set to `(1, 1)` for no scaling.\n",
    "\n",
    "Optimization parameters include solver parameters, verbosity, etc.:\n",
    "\n",
    "* `write_model` - a boolean. If `True` the MILP will be written to a .lp-file\n",
    "* `mip_file` - a string or Path object. Path/to/lp-file to where the MILP will be written.\n",
    "* `logfile` - a string or Path object. Path/to/logfile. The CPLEX optimization log will be written to the logfile\n",
    "* `verbosity_level` - an integer [1-3]. 1-No feedback, 2-Prints optimal value, 3-Prints optimization log\n",
    "* `solver_parameters` - dictionary. Set solver parameters (key) and their values (value) here.\\\n",
    "  A list of CPLEX parameters can be found here: [CPLEX](https://www.ibm.com/docs/en/icos/12.8.0.0?topic=cplex-list-parameters), [Gurobi](https://www.gurobi.com/documentation/current/refman/parameters.html), [SCIP](https://www.scipopt.org/doc/html/PARAMETERS.php). \n",
    "\n",
    "***Note: BigM and small epsilon can currently not be changed from within this notebook. These values can only be changed in the source code. To do so, open: path_to_repository/pyrrrateFBA/optimization/lp.py and change bigM and small epsilon in lines 21 and 22***"
   ]
  },
  {
   "cell_type": "code",
   "execution_count": 3,
   "metadata": {},
   "outputs": [],
   "source": [
    "# r-deFBA PARAMETERS\n",
    "rdeFBA = True\n",
    "phi = 0.001\n",
    "discretization_method = 'default'\n",
    "indicator_constraints = True\n",
    "scaling_factors = (1, 1)\n",
    "\n",
    "# OPTIMIZATION PARAMETERS\n",
    "write_model = False\n",
    "mip_file = RESULT_PATH / LPFILE_PATH / f\"{scenario}.lp\"\n",
    "verbosity_level = 3\n",
    "\n",
    "solver_parameters = {\n",
    "    # 'simplex.tolerances.feasibility': 1e-9,     # CPLEX - Feasibility Tolerance\n",
    "    # 'mip.tolerances.integrality': 0,            # CPLEX - Integrality Tolerance\n",
    "    # 'emphasis.numerical': 1,                    # CPLEX - Numerical Emphasis (0-off, 1-on)\n",
    "    # 'mip.strategy.startalgorithm': 4,           # CPLEX - Root Solving Algorithm\n",
    "    # 'timelimit': 2400                           # CPLEX - Time limit in seconds\n",
    "    \n",
    "    # 'FeasibilityTol': 1e-9,                     # Gurobi - Feasibility Tolerance\n",
    "    # 'IntFeasTol': 0,                            # Gurobi - Integrality Tolerance\n",
    "    # 'NumericFocus': 2                           # Gurobi - Numerical Focus (0-3)\n",
    "    \n",
    "    # 'numerics/feastol': 1e-6                    # SCIP - Feasibility Tolerance\n",
    "}"
   ]
  },
  {
   "cell_type": "markdown",
   "metadata": {
    "jp-MarkdownHeadingCollapsed": true,
    "tags": []
   },
   "source": [
    "### 1.1.3 Define your own simulation\n",
    "To define your own scenario, first set `scenario = None` in section 1.1.1.  Then set the initial values (`environment` and `macromolecules`), simulation time `t_end` and number of discretization steps `n`\n",
    "\n",
    " * Initial amounts of extracellular species can be defined in the dictionary `environment` (key-species name, value-initial amount [mmol]) (e.g. `'Carbon1': 1000`). Any species that is not defined starts with 0.0mmol. \n",
    " * Initial values of macromolecules can be defined in the dictionary `macromolecules` (key - macromolecule name, value - amount in mmol).\\\n",
    "   For those macromolecules where no initial value is set, the initial amount will be chosen by the solver, such that the initial biomass is 1g.\n",
    "   \n",
    "These inputs will be ignored if a preset scenario was chosen in Sec. 1.1.1\n",
    "\n",
    "To see what species (extracellular and macromolecules) the model contains, execute the cell below."
   ]
  },
  {
   "cell_type": "code",
   "execution_count": 4,
   "metadata": {
    "tags": []
   },
   "outputs": [
    {
     "name": "stdout",
     "output_type": "stream",
     "text": [
      "Extracellular Species:\n",
      "['C1', 'C2']\n",
      "\n",
      "Enzymes and Structural Compounds (Macromolecules):\n",
      "['T1', 'T2', 'R', 'Q']\n",
      "\n",
      "Regulatory proteins (Macromolecules):\n",
      "['RP']\n"
     ]
    }
   ],
   "source": [
    "# Print Model Species\n",
    "print_y_and_u(model, 'y')"
   ]
  },
  {
   "cell_type": "code",
   "execution_count": 5,
   "metadata": {
    "tags": []
   },
   "outputs": [],
   "source": [
    "# INITIAL VALUES & MODEL PARAMETERS\n",
    "\n",
    "extracellular = {\n",
    "    # 'C1': 1000,\n",
    "}\n",
    "\n",
    "macromolecules = {\n",
    "}\n",
    "\n",
    "t_end = 50\n",
    "n = 50\n"
   ]
  },
  {
   "cell_type": "markdown",
   "metadata": {
    "jp-MarkdownHeadingCollapsed": true,
    "tags": []
   },
   "source": [
    "# 2. Solve r-deFBA problem\n",
    "\n",
    "Execute the cell below to simulate the previously specified model. Simulation results will be stored in dataframes `df_y` (dynamic species), `df_u` (reaction fluxes) and `df_x` (regulatory variables). \n",
    "\n",
    "Simulation results can be plotted in Section 3."
   ]
  },
  {
   "cell_type": "code",
   "execution_count": 6,
   "metadata": {},
   "outputs": [
    {
     "name": "stdout",
     "output_type": "stream",
     "text": [
      "Version identifier: 22.1.0.0 | 2022-03-09 | 1a383f8ce\n",
      "CPXPARAM_Read_DataCheck                          1\n",
      "Tried aggregator 2 times.\n",
      "MIP Presolve eliminated 8 rows and 34 columns.\n",
      "MIP Presolve modified 327 coefficients.\n",
      "Aggregator did 213 substitutions.\n",
      "Reduced MIP has 1280 rows, 1120 columns, and 4452 nonzeros.\n",
      "Reduced MIP has 119 binaries, 0 generals, 0 SOSs, and 125 indicators.\n",
      "Presolve time = 0.01 sec. (4.11 ticks)\n",
      "Probing fixed 1 vars, tightened 1103 bounds.\n",
      "Probing time = 0.02 sec. (10.53 ticks)\n",
      "Tried aggregator 2 times.\n",
      "Detecting symmetries...\n",
      "MIP Presolve eliminated 4 rows and 4 columns.\n",
      "MIP Presolve modified 181 coefficients.\n",
      "Aggregator did 51 substitutions.\n",
      "Reduced MIP has 1225 rows, 1065 columns, and 4385 nonzeros.\n",
      "Reduced MIP has 118 binaries, 0 generals, 0 SOSs, and 125 indicators.\n",
      "Presolve time = 0.01 sec. (3.43 ticks)\n",
      "Probing fixed 2 vars, tightened 842 bounds.\n",
      "Probing time = 0.01 sec. (6.32 ticks)\n",
      "Clique table members: 95.\n",
      "MIP emphasis: balance optimality and feasibility.\n",
      "MIP search method: dynamic search.\n",
      "Parallel mode: deterministic, using up to 8 threads.\n",
      "Root relaxation solution time = 0.09 sec. (72.50 ticks)\n",
      "\n",
      "        Nodes                                         Cuts/\n",
      "   Node  Left     Objective  IInf  Best Integer    Best Bound    ItCnt     Gap\n",
      "\n",
      "      0     0 -2294682.0608    23               -2294682.0608     1489         \n",
      "      0     0 -2255620.8721    15                    Cuts: 20     1543         \n",
      "*     0+    0                     -1774601.8681 -2254207.2815            27.03%\n",
      "*     0+    0                     -2009024.2145 -2254207.2815            12.20%\n",
      "Detecting symmetries...\n",
      "      0     2 -2254207.2815    15 -2009024.2145 -2075686.7582     1545    3.32%\n",
      "Elapsed time = 0.42 sec. (291.03 ticks, tree = 0.02 MB, solutions = 2)\n",
      "\n",
      "Flow cuts applied:  8\n",
      "Mixed integer rounding cuts applied:  2\n",
      "Gomory fractional cuts applied:  2\n",
      "\n",
      "Root node processing (before b&c):\n",
      "  Real time             =    0.42 sec. (290.17 ticks)\n",
      "Parallel b&c, 8 threads:\n",
      "  Real time             =    0.11 sec. (96.19 ticks)\n",
      "  Sync time (average)   =    0.08 sec.\n",
      "  Wait time (average)   =    0.00 sec.\n",
      "                          ------------\n",
      "Total (root+branch&cut) =    0.53 sec. (386.36 ticks)\n",
      "Optimal solution found with objective value: -2009024.214511042\n"
     ]
    }
   ],
   "source": [
    "# set initial values\n",
    "if scenario is not None:\n",
    "    y0 = simulation_dicti[scenario]['y0']\n",
    "    tspan = (0, simulation_dicti[scenario]['t_sim'])\n",
    "    n_steps = simulation_dicti[scenario]['n_steps']\n",
    "else:\n",
    "    y0 = np.zeros((1, len(model.extracellular_dict) + len(model.macromolecules_dict)))\n",
    "    y0[0, len(model.extracellular_dict):] = np.nan\n",
    "    tspan = (0, t_end)\n",
    "    n_steps = n\n",
    "    set_initial_values(model, y0, extracellular, macromolecules)\n",
    "\n",
    "\n",
    "rdeFBA_kwargs = {\n",
    "    'n_steps': n_steps,\n",
    "    'run_rdeFBA': rdeFBA,\n",
    "    'indicator_constraints': indicator_constraints,\n",
    "    'set_y0': y0,\n",
    "    'scaling_factors': scaling_factors,\n",
    "    'runge_kutta': discretization_schemes[discretization_method]\n",
    "}\n",
    "\n",
    "optimization_kwargs = {\n",
    "    'parameters': solver_parameters,\n",
    "    'verbosity_level': verbosity_level,\n",
    "    'write_model': write_model,\n",
    "}\n",
    "\n",
    "# solve MILP\n",
    "solution = model.rdeFBA(tspan=tspan, varphi=phi, optimization_kwargs=optimization_kwargs, **rdeFBA_kwargs)\n",
    "\n",
    "# store solution in dataframes and compute biomass\n",
    "df_y, df_u, df_x = create_dataframes_from_solution(model=model, solution=solution, run_rdeFBA=rdeFBA)\n",
    "biomass = compute_biomass(model=model, df=df_y)"
   ]
  },
  {
   "cell_type": "markdown",
   "metadata": {
    "jp-MarkdownHeadingCollapsed": true,
    "tags": []
   },
   "source": [
    "# 3 Plotting\n",
    "\n",
    "In the following section you can plot the simulation results from section 2. These include substrate-, enzyme- and regulatory protein amounts, as well as biomass, reaction fluxes and regulatory states over time.\n",
    "\n",
    "You can define which substrates, enzymes, regulatory proteins and reaction fluxes to plot, by listing them in `substrates_to_plot`, `enzymes_to_plot`, `rp_to_plot` and `reactions_to_plot`, respectively.\n",
    "By leaving the lists empty, all variables of the respective group will be plotted.\n",
    "\n",
    "An overview of all substrates, macromolecules and reactions can be displayed by executing cell 3.2."
   ]
  },
  {
   "cell_type": "markdown",
   "metadata": {
    "tags": []
   },
   "source": [
    "## 3.1 User Input for Plotting\n",
    "\n",
    "* `show_state_changes` - a boolean. If true state changes are shown in all figures as vertical lines.\n",
    "* `substrates_to_plot` - a list containing all the substrates to plot.\n",
    "* `enzymes_to_plot` - a list containing all the enzymes to plot.\n",
    "* `rp_to_plot` - a list containing all the regulatory proteins to plot.\n",
    "* `quota_to_plot` - a list containing all the quota species to plot.\n",
    "* `reactions_to_plot` - a list containing all the reactions to plot.\n",
    "\n"
   ]
  },
  {
   "cell_type": "code",
   "execution_count": 7,
   "metadata": {},
   "outputs": [],
   "source": [
    "show_state_changes = True\n",
    "\n",
    "extracellular_to_plot = []\n",
    "enzymes_to_plot = []\n",
    "rp_to_plot = []\n",
    "quota_to_plot = []\n",
    "reactions_to_plot = []"
   ]
  },
  {
   "cell_type": "markdown",
   "metadata": {
    "tags": []
   },
   "source": [
    "## 3.2 Display Model Overview"
   ]
  },
  {
   "cell_type": "code",
   "execution_count": 8,
   "metadata": {
    "tags": []
   },
   "outputs": [
    {
     "name": "stdout",
     "output_type": "stream",
     "text": [
      "Extracellular Species:\n",
      "['C1', 'C2']\n",
      "\n",
      "Enzymes and Structural Compounds (Macromolecules):\n",
      "['T1', 'T2', 'R', 'Q']\n",
      "\n",
      "Regulatory proteins (Macromolecules):\n",
      "['RP']\n",
      "\n",
      "Exchange reactions:\n",
      "[]\n",
      "\n",
      "Metabolic reactions:\n",
      "[]\n",
      "\n",
      "Macromolecule synthesis reactions:\n",
      "['vC1', 'vC2', 'vQ', 'vR', 'vT1', 'vT2', 'vRP']\n"
     ]
    }
   ],
   "source": [
    "print_y_and_u(model)"
   ]
  },
  {
   "cell_type": "markdown",
   "metadata": {
    "tags": []
   },
   "source": [
    "## 3.3 Plotting\n",
    "Execute the cell below to plot"
   ]
  },
  {
   "cell_type": "code",
   "execution_count": 9,
   "metadata": {
    "tags": []
   },
   "outputs": [
    {
     "data": {
      "text/plain": [
       "Text(0.5, 0, 'Time')"
      ]
     },
     "execution_count": 9,
     "metadata": {},
     "output_type": "execute_result"
    },
    {
     "data": {
      "image/png": "[encoded data removed]",
      "text/plain": [
       "<Figure size 432x288 with 1 Axes>"
      ]
     },
     "metadata": {
      "needs_background": "light"
     },
     "output_type": "display_data"
    },
    {
     "data": {
      "image/png": "[encoded data removed]",
      "text/plain": [
       "<Figure size 432x288 with 1 Axes>"
      ]
     },
     "metadata": {
      "needs_background": "light"
     },
     "output_type": "display_data"
    },
    {
     "data": {
      "image/png": "[encoded data removed]",
      "text/plain": [
       "<Figure size 432x288 with 1 Axes>"
      ]
     },
     "metadata": {
      "needs_background": "light"
     },
     "output_type": "display_data"
    },
    {
     "data": {
      "image/png": "[encoded data removed]",
      "text/plain": [
       "<Figure size 432x288 with 1 Axes>"
      ]
     },
     "metadata": {
      "needs_background": "light"
     },
     "output_type": "display_data"
    },
    {
     "data": {
      "image/png": "[encoded data removed]",
      "text/plain": [
       "<Figure size 432x288 with 1 Axes>"
      ]
     },
     "metadata": {
      "needs_background": "light"
     },
     "output_type": "display_data"
    },
    {
     "data": {
      "image/png": "[encoded data removed]",
      "text/plain": [
       "<Figure size 432x288 with 1 Axes>"
      ]
     },
     "metadata": {
      "needs_background": "light"
     },
     "output_type": "display_data"
    }
   ],
   "source": [
    "plt.rcParams['figure.dpi'] = 50   # quality of plots shown in notebook\n",
    "\n",
    "# compute time of state changes\n",
    "df_state_changes = compute_state_changes(df_x)\n",
    "if show_state_changes:\n",
    "    state_changes = df_state_changes.index[1:]\n",
    "else:\n",
    "    state_changes = []\n",
    "\n",
    "# plot extracellular species\n",
    "fig_ext, ax_ext = plt.subplots()\n",
    "plotting(model, df_y, extracellular_to_plot, 'extracellular', ax_ext, state_changes)\n",
    "\n",
    "# plot enzymes\n",
    "fig_enz, ax_enz = plt.subplots()\n",
    "plotting(model, df_y, enzymes_to_plot, 'enzymes', ax_enz, state_changes)\n",
    "\n",
    "# # plot regulatory proteins\n",
    "fig_rp, ax_rp = plt.subplots()\n",
    "plotting(model, df_y, rp_to_plot, 'rp', ax_rp, state_changes)\n",
    "\n",
    "# # plot structural compounds (Quota)\n",
    "fig_q, ax_q = plt.subplots()\n",
    "plotting(model, df_y, quota_to_plot, 'quota', ax_q, state_changes)\n",
    "\n",
    "# # plot reactions\n",
    "fig_react, ax_react = plt.subplots()\n",
    "plotting(model, df_u, reactions_to_plot, 'reactions', ax_react, state_changes, ylabel='Reaction Flux')\n",
    "\n",
    "# # plot biomass\n",
    "biomass = compute_biomass(model, df_y)\n",
    "fig_biomass, ax_biomass = plt.subplots()\n",
    "ax_biomass.plot(df_y.index, biomass)\n",
    "ax_biomass.set_ylabel('Biomass')\n",
    "ax_biomass.set_xlabel('Time')\n",
    "# plotting(df_y, biomass_to_plot, ax_biomass)\n",
    "# print state change table\n"
   ]
  },
  {
   "cell_type": "markdown",
   "metadata": {
    "jp-MarkdownHeadingCollapsed": true,
    "tags": []
   },
   "source": [
    "# 4 r-deFVA\n",
    "In the following section we can run an r-deFVA on the previously specified model. r-deFVA creates two files called `<var>_min.tsv` and `<var>_min.tsv` containing the min and max trajectories of each variable. `<var>` is the variable type used. The files will be stored under `rdeFBA-Variability/results/rdeFVA/`.\n",
    "\n",
    "Before running r-deFVA some additional user inputs are required.\n",
    "\n",
    "**Note: The current implementation of r-deFVA only works with CPLEX!**"
   ]
  },
  {
   "cell_type": "markdown",
   "metadata": {},
   "source": [
    "## 4.1 User Input\n",
    "`var_type` - The variable type on which you want to investigate for variability. Possible choices are 'y' (dynamic species) and 'u' (reactions)\n",
    "`var_indices` - The indices of the variables to investigate variability. Choose `None` for all variables of the respective variables type. To display variables and their indices run the command `print_var_indices(model)` in the cell below\n",
    "`relaxation_constants` - A tuple defining the relative and absolute relaxation constant "
   ]
  },
  {
   "cell_type": "code",
   "execution_count": 10,
   "metadata": {
    "tags": []
   },
   "outputs": [],
   "source": [
    "var_type = 'y'                         # possible choices are 'y', 'u'\n",
    "var_indices = None\n",
    "relaxation_constants = (1e-6, 1e-6)"
   ]
  },
  {
   "cell_type": "code",
   "execution_count": 11,
   "metadata": {
    "tags": []
   },
   "outputs": [
    {
     "name": "stdout",
     "output_type": "stream",
     "text": [
      "# Dynamic Species (y)\n",
      "{0: 'C1', 1: 'C2', 2: 'T1', 3: 'T2', 4: 'R', 5: 'RP', 6: 'Q'}\n",
      "\n",
      "# Reactions (u)\n",
      "{0: 'vC1', 1: 'vC2', 2: 'vQ', 3: 'vR', 4: 'vT1', 5: 'vT2', 6: 'vRP', 7: 'kdQ', 8: 'kdR', 9: 'kdT1', 10: 'kdT2', 11: 'kdRP'}\n"
     ]
    }
   ],
   "source": [
    "print_var_indices(model)"
   ]
  },
  {
   "cell_type": "code",
   "execution_count": 12,
   "metadata": {},
   "outputs": [
    {
     "name": "stdout",
     "output_type": "stream",
     "text": [
      "####################\n",
      "Perform r-deFBA\n",
      "####################\n",
      "####################\n",
      "Perform r-deFVA\n",
      "####################\n",
      "In deFVA, min-/maximizing C1 (y_1)\n",
      "In deFVA, min-/maximizing C2 (y_2)\n",
      "In deFVA, min-/maximizing T1 (y_3)\n",
      "In deFVA, min-/maximizing T2 (y_4)\n",
      "In deFVA, min-/maximizing R (y_5)\n",
      "In deFVA, min-/maximizing RP (y_6)\n",
      "In deFVA, min-/maximizing Q (y_7)\n",
      "\n",
      "Results saved to:\n",
      "   /home/yannid/repos/rdeFBA-Variability/results/rdeFVA/y_min.tsv and\n",
      "   /home/yannid/repos/rdeFBA-Variability/results/rdeFVA/y_max.tsv\n"
     ]
    }
   ],
   "source": [
    "# set initial values\n",
    "if scenario is not None:\n",
    "    y0 = simulation_dicti[scenario]['y0']\n",
    "    tspan = (0, simulation_dicti[scenario]['t_sim'])\n",
    "    n_steps = simulation_dicti[scenario]['n_steps']\n",
    "else:\n",
    "    y0 = np.zeros((1, len(model.extracellular_dict) + len(model.macromolecules_dict)))\n",
    "    y0[0, len(model.extracellular_dict):] = np.nan\n",
    "    tspan = (0, t_end)\n",
    "    n_steps = n\n",
    "    set_initial_values(model, y0, extracellular, macromolecules)\n",
    "\n",
    "\n",
    "rdeFBA_kwargs = {\n",
    "    'n_steps': n_steps,\n",
    "    'run_rdeFBA': rdeFBA,\n",
    "    'indicator_constraints': indicator_constraints,\n",
    "    'set_y0': y0,\n",
    "    'scaling_factors': scaling_factors,\n",
    "    'runge_kutta': discretization_schemes[discretization_method]\n",
    "}\n",
    "\n",
    "optimization_kwargs = {\n",
    "    'parameters': solver_parameters,\n",
    "    'verbosity_level': verbosity_level,\n",
    "    # 'write_model': write_model,\n",
    "}\n",
    "    \n",
    "optimization_problem = rdeFBA_Problem(model, **rdeFBA_kwargs)\n",
    "optimization_problem.create_MIP()\n",
    "df_min, df_max, _ = optimization_problem.run_rdeFVA(var_indices=var_indices, var_type=var_type, relaxation_constants=relaxation_constants, fva_level=1, return_solution=False, optimization_kwargs=optimization_kwargs)\n",
    "\n",
    "df_min.to_csv(FVA_PATH / f'{var_type}_min.tsv', sep='\\t')\n",
    "df_max.to_csv(FVA_PATH / f'{var_type}_max.tsv', sep='\\t')\n",
    "\n",
    "print(f\"\\nResults saved to:\\n   {FVA_PATH / var_type}_min.tsv and\\n   {FVA_PATH / var_type}_max.tsv\")"
   ]
  }
 ],
 "metadata": {
  "kernelspec": {
   "display_name": "Python 3 (ipykernel)",
   "language": "python",
   "name": "python3"
  },
  "language_info": {
   "codemirror_mode": {
    "name": "ipython",
    "version": 3
   },
   "file_extension": ".py",
   "mimetype": "text/x-python",
   "name": "python",
   "nbconvert_exporter": "python",
   "pygments_lexer": "ipython3",
   "version": "3.9.12"
  },
  "toc-autonumbering": false,
  "toc-showcode": false,
  "toc-showmarkdowntxt": false,
  "toc-showtags": false
 },
 "nbformat": 4,
 "nbformat_minor": 4
}
