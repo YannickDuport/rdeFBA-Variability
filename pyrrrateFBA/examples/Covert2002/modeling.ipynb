{
 "cells": [
  {
   "cell_type": "code",
   "execution_count": 1,
   "metadata": {},
   "outputs": [],
   "source": [
    "import pandas as pd\n",
    "import numpy as np\n",
    "import re\n",
    "\n",
    "from datetime import date"
   ]
  },
  {
   "cell_type": "markdown",
   "metadata": {},
   "source": [
    "## Changes made by Yannick\n",
    "\n",
    "### CODE\n",
    "* TODO:\n",
    "\n",
    "    * Parameters, such as maintenance coefficient or degradation rates, shouldn't be defined somewhere within the code. This makes it very tedious to change them.\n",
    "      Either they should be defined in the beginning of the notebook, or better in a .tsv file\n",
    "      \n",
    "    \n",
    "* 06. Dec 2022\n",
    "\n",
    "    * (CELL 135): Splitting of reversible reactions into a forward and backward reaction, since PyrrrateFBA currently cannot handle reversible reactions. The backward reaction is named \\<reaction_id>_rev. \n",
    "    * (CELLS 49/50/65): Protein abundances are taken from proteomics data from Li et al. The corresponding dataset contains both the absolute abundance, as well as normalized abundances (ppm). The code previously took absolute abundances for some proteins and relative for others, which doesn't make sense. This was changed that it now takes relative abundances for all proteins.\n",
    "    * (CELLS 63/64) In the code 'weighted abundance' and 'adjusted abundance' is computed. Weighted abundance is the abundance weighted by the molecular weight. Adjusted abundance is the abundance multiplied by some factor, such that the sum of all weighted abundances make out the correct fraction of the total biomass. Previously weighted abundances were set as initial values. But since initial values are once again multiplied by the molecular weight for biomass computation, initial values should be adjusted abundances. Fixed!\n",
    "    * (CELLS 65/59) The fraction of explicitly modeled protein was computed as sum_expl/(sum_tot - sum_expl), where sum_expl is the summed abundance of all explicitly modeled proteins, and sum_tot is the summed abundance of all proteins. However, the fraction should be computed as sum_expl/sum_tot. This then tells us that 17.5% of total biomass are explicitly modeled proteins, which is then the specified target amount (cell 57)\n",
    "    \n",
    "* 2023\n",
    "    * The parameter **epsilon_trans** is split into **epsilon_trans_E** and **epsilon_trans_RP**. **epsilon_trans_E = 0.0** is the lower flux bound for actively translated regulated enzymes, and **epsilon_trans_RP = 1e-5** the lower bound for actively translated regulatory proteins.\n",
    "    * The following parameters are not hardcoded into this notebook anymore. Instead they are imported from /pyrrrateFBA/examples/Covert2002/model_parameters.tsv:\n",
    "        * **theta_xt**\n",
    "        * **theta_v**\n",
    "        * **theta_RP**\n",
    "        * **epsilon_trans_E**\n",
    "        * **epsilon_trans_RP**\n",
    "\n",
    "### MODEL\n",
    "\n",
    "* 06. Dec 2022\n",
    "\n",
    "    1) **Protons:** The model now differenciates between internal (H) and external (HEXT) Protons:\n",
    "         * Proton symporters now pump an external proton into the cell when exporting a metabolite, and vice versa.\n",
    "         * ATP synthase pumps external protons into the cell when synthesizing ATP\n",
    "         * The follwing reactions now produce/consume an internal proton:\n",
    "             * **ACEB** (Malate synthase)\n",
    "             * **ADHER** (Acetaldehyde dehydrogenase; 2 reactions summarized into 1; creates 2 H)\n",
    "             * **DLD1R** (D-Lactate dehydrogenase 1)\n",
    "             * **GAPAR** (Glyceraldehyde-3-phosphate dehydrogenase-A complex)\n",
    "             * **GLTA** (Citrate synthase)\n",
    "             * **MDHR** (Malate dehydrogenase)\n",
    "             * **PFKA/B** (Phosphofructokinase A/B)\n",
    "             * **PGL** (6-Phosphogluconolactonase)\n",
    "             * **PPC** (Phosphoenolpyruvate carboxylase)\n",
    "             * **PPSA** (Phosphoenolpyruvate synthase)\n",
    "             * **ZWFR** (Glucose 6-phosphate-1-dehydrogenase)\n",
    "             * **R_Quota_rest** (Quota rest synthesis (non-protein biomass))\n",
    "             * **Check whether some reaction in Glycerol-metabolism or Lactose/Galactose-metabolism produce protons**\n",
    "         * The electron transport chain is the only way to pump internal protons back out and keep the equilibrium\n",
    " \n",
    "    2) **Initial Conditions:** Initial conditions were slightly changed. (See CODE part)\n",
    "    \n",
    "    \n",
    "* 07. Dec 2022\n",
    "    1) **Degradation Reactions:** It is now possible to model protein degradation as breakdown into amino acids, instead of just vanishing of mass.\n",
    "    \n",
    "        Before, protein degradation was modeled as 'vanishing' of proteins. It is now possible to model it as a catabolic reaction, i.e. proteins are broken down into amino acids. Currently, the reaction will be implemented the following way: \n",
    "        \n",
    "        kd_p * P -> kd_p * m_p * Z\n",
    "\n",
    "        where kd_p is the degradation rate of protein P and m_p is the number of amino acids Z that were used to produce one molecule of P ***(Not sure whether this is correct. Have to think about it!)***\n",
    "        \n",
    "        To model protein degradation as a catabolic reaction, set <code>no_degradation_products = False</code>\n",
    "    \n",
    "     \n",
    " "
   ]
  },
  {
   "cell_type": "markdown",
   "metadata": {},
   "source": [
    "# User Input"
   ]
  },
  {
   "cell_type": "code",
   "execution_count": 2,
   "metadata": {},
   "outputs": [],
   "source": [
    "filename_out = \"ecoli_rdeFBA3\"              # if no name is given (filename_out=None), the model file will be called 'ecoli_core_rdefba_<current date>.xml'\n",
    "\n",
    "rdefba = True                    # True if model is r-deFBA model\n",
    "include_degradation = True       # include degradation reactions\n",
    "no_degradation_products = True   # set to False if proteins should degrade into amino acids (not recommended)\n",
    "split_reversible_reactions = True"
   ]
  },
  {
   "cell_type": "markdown",
   "metadata": {},
   "source": [
    "# Read original rFBA model\n",
    "\n",
    "PDF file needs to be parsed manually...\n",
    "\n",
    "(in order to be in accordance with the syntax of 'id' attribute values of the SBML type 'SId' (Reference: L3V2 Section 3.1.7), the metabolites 13PDG, 2PG, and 3PG were renamed to PDG13, PG2, and PG3, respectively.)"
   ]
  },
  {
   "cell_type": "code",
   "execution_count": 3,
   "metadata": {},
   "outputs": [],
   "source": [
    "#import PyPDF2\n",
    "#pdfFileObj = open('Covert2002/SI.pdf', 'rb')\n",
    "#pdfReader = PyPDF2.PdfFileReader(pdfFileObj)\n",
    "#pageObj = pdfReader.getPage(3)\n",
    "#pageObj.extractText()"
   ]
  },
  {
   "cell_type": "code",
   "execution_count": 4,
   "metadata": {},
   "outputs": [],
   "source": [
    "# reactions\n",
    "SI1 = pd.read_csv('SI-1.tsv', sep='\\t')\n",
    "SI1 = SI1.dropna(axis=0, how='all').reset_index(drop=True) # remove empty rows"
   ]
  },
  {
   "cell_type": "code",
   "execution_count": 5,
   "metadata": {},
   "outputs": [],
   "source": [
    "# \"superoxide radicals\" are not modeled \n",
    "SI1.loc[SI1.ID == 'FUMCR', 'Regulatory logic'] = np.nan\n",
    "# crp regulation is complex and thus split into many separate statements (vide infra)\n",
    "SI1.drop(SI1[SI1.Gene == 'crp'].index, inplace=True)\n"
   ]
  },
  {
   "cell_type": "code",
   "execution_count": 6,
   "metadata": {},
   "outputs": [],
   "source": [
    "# metabolites\n",
    "SI2 = pd.read_csv('SI-2.tsv', sep='\\t')\n",
    "SI2 = SI2.sort_values(by=['id'])"
   ]
  },
  {
   "cell_type": "code",
   "execution_count": 7,
   "metadata": {},
   "outputs": [],
   "source": [
    "# Read all parameters and convert to dictionary\n",
    "# These include parameters for reactions, such as maintenance coefficient or degradataion rates, as well as \n",
    "# parameters that will be used in the Parameter section\n",
    "\n",
    "parameter_df = pd.read_csv('model_parameters.tsv', sep='\\t')\n",
    "parameters = {row['parameter_name']: row['value'] for _, row in parameter_df.iterrows()}"
   ]
  },
  {
   "cell_type": "markdown",
   "metadata": {},
   "source": [
    "## Add Amino Acid-producing enzyme and Ribosome"
   ]
  },
  {
   "cell_type": "code",
   "execution_count": 8,
   "metadata": {},
   "outputs": [
    {
     "name": "stderr",
     "output_type": "stream",
     "text": [
      "/tmp/ipykernel_27889/3314254349.py:1: FutureWarning: The frame.append method is deprecated and will be removed from pandas in a future version. Use pandas.concat instead.\n",
      "  SI1 = SI1.append({'ID': 'ASPT', 'Protein': 'L-aspartase', 'Gene': 'aspA', 'Reaction': 'FUM <-> Z'}, ignore_index=True)\n",
      "/tmp/ipykernel_27889/3314254349.py:2: FutureWarning: The frame.append method is deprecated and will be removed from pandas in a future version. Use pandas.concat instead.\n",
      "  SI1 = SI1.append({'ID': 'R', 'Protein': 'Ribosome', 'Gene': 'rplA, rplB, rplC, rplD, rplE, rplF, rplI, rplJ, rplK, rplL, rplM, rplN, rplO, rplP, rplQ, rplR, rplS, rplT, rplU, rplV, rplW, rplX, rplY, rpmA, rpmB, rpmC, rpmD, rpmE, rpmF, rpmG, rpmH, rpmI, rpmJ, rpsA, rpsB, rpsC, rpsD, rpsE, rpsF, rpsG, rpsH, rpsI, rpsJ, rpsK, rpsL, rpsM, rpsN, rpsO, rpsP, rpsQ, rpsR, rpsS, rpsT, rpsU'}, ignore_index=True)\n"
     ]
    }
   ],
   "source": [
    "SI1 = SI1.append({'ID': 'ASPT', 'Protein': 'L-aspartase', 'Gene': 'aspA', 'Reaction': 'FUM <-> Z'}, ignore_index=True)\n",
    "SI1 = SI1.append({'ID': 'R', 'Protein': 'Ribosome', 'Gene': 'rplA, rplB, rplC, rplD, rplE, rplF, rplI, rplJ, rplK, rplL, rplM, rplN, rplO, rplP, rplQ, rplR, rplS, rplT, rplU, rplV, rplW, rplX, rplY, rpmA, rpmB, rpmC, rpmD, rpmE, rpmF, rpmG, rpmH, rpmI, rpmJ, rpsA, rpsB, rpsC, rpsD, rpsE, rpsF, rpsG, rpsH, rpsI, rpsJ, rpsK, rpsL, rpsM, rpsN, rpsO, rpsP, rpsQ, rpsR, rpsS, rpsT, rpsU'}, ignore_index=True)"
   ]
  },
  {
   "cell_type": "markdown",
   "metadata": {},
   "source": [
    "## Reformulate gene IDs"
   ]
  },
  {
   "cell_type": "code",
   "execution_count": 9,
   "metadata": {},
   "outputs": [],
   "source": [
    "# Reformulation of \"lumped\" IDs\n",
    "SI1.loc[SI1.ID == 'ACEE', 'Gene'] = 'aceE, aceF, lpdA'\n",
    "SI1.loc[SI1.ID == 'ATPAR', 'Gene'] = 'atpA, atpB, atpC, atpD, atpE, atpF, atpG, atpH, atpI'\n",
    "SI1.loc[SI1.ID == 'CYDA', 'Gene'] = 'cydA, cydB'\n",
    "SI1.loc[SI1.ID == 'CYOA', 'Gene'] = 'cyoA, cyoB, cyoC, cyoD'\n",
    "SI1.loc[SI1.ID == 'FDNG', 'Gene'] = 'fdnG, fdnH, fdnI'\n",
    "SI1.loc[SI1.ID == 'FDOH', 'Gene'] = 'fdoI, fdoH, fdoG'\n",
    "SI1.loc[SI1.ID == 'FRDA', 'Gene'] = 'frdA, frdB, frdC, frdD'\n",
    "SI1.loc[SI1.ID == 'GLPA', 'Gene'] = 'glpA, glpB, glpC'\n",
    "SI1.loc[SI1.ID == 'NUOA', 'Gene'] = 'nuoA, nuoB, nuoE, nuoF, nuoG, nuoH, nuoI, nuoJ, nuoK, nuoL, nuoM, nuoN'\n",
    "SI1.loc[SI1.ID == 'PFLA', 'Gene'] = 'pflA, pflB'\n",
    "SI1.loc[SI1.ID == 'PFLC', 'Gene'] = 'pflC, pflD'\n",
    "SI1.loc[SI1.ID == 'PNTA1', 'Gene'] = 'pntA, pntB'\n",
    "SI1.loc[SI1.ID == 'PNTA2', 'Gene'] = 'pntA, pntB'\n",
    "SI1.loc[SI1.ID == 'SDHA1', 'Gene'] = 'sdhA, sdhB, sdhC, sdhD'\n",
    "SI1.loc[SI1.ID == 'SDHA2', 'Gene'] = 'sdhA, sdhB, sdhC, sdhD'\n",
    "SI1.loc[SI1.ID == 'SUCA', 'Gene'] = 'sucA, sucB, lpdA'\n",
    "SI1.loc[SI1.ID == 'SUCCR', 'Gene'] = 'sucC, sucD'\n",
    "SI1.loc[SI1.ID == 'GLCPTS', 'Gene'] = 'ptsG, ptsH, ptsI, crr'\n",
    "SI1.loc[SI1.ID == 'PIUP2R', 'Gene'] = 'pitA, pitB'\n",
    "SI1.loc[SI1.ID == 'RIBUPR', 'Gene'] = 'rbsA, rbsB, rbsC, rbsD'"
   ]
  },
  {
   "cell_type": "code",
   "execution_count": 10,
   "metadata": {},
   "outputs": [],
   "source": [
    "# manual curation\n",
    "SI1.loc[SI1.Protein == 'Catabolite activator protein', 'Gene'] = 'cra' # 'cra (fruR)' - beide Namen bezeichnen das gleiche Gen\n",
    "SI1.loc[SI1.ID == 'GLCUP', 'Gene'] = 'galP' # 'galP, etc.' - galP ist ausreichend\n",
    "SI1.loc[SI1.ID == 'PCKA', 'Gene'] = 'pck' # 'pckA'\n",
    "SI1.loc[SI1.ID == 'SFCA', 'Gene'] = 'maeA' # 'sfcA'\n",
    "SI1.loc[SI1.ID == 'GPMBR', 'Gene'] = 'gpmA' # 'sfcA' - gpmB gibt es nicht; gpmA katalysiert die gleiche Reaktion"
   ]
  },
  {
   "cell_type": "code",
   "execution_count": 11,
   "metadata": {},
   "outputs": [],
   "source": [
    "genes_list = []\n",
    "\n",
    "for index, value in SI1['Gene'].items():\n",
    "    if isinstance(value, str):\n",
    "        for g in value.split(', '):\n",
    "            if g not in genes_list:\n",
    "                genes_list.append(g)"
   ]
  },
  {
   "cell_type": "markdown",
   "metadata": {},
   "source": [
    "# Species"
   ]
  },
  {
   "cell_type": "code",
   "execution_count": 12,
   "metadata": {},
   "outputs": [],
   "source": [
    "# Split SI2 into intra- and extracellular metabolites\n",
    "\n",
    "# add column with boolean variable\n",
    "SI2['external'] = 1\n",
    "SI2['external'] = SI2['name'].str.contains(\"External\")\n",
    "\n",
    "# split dataset\n",
    "extracellular = SI2.query(\"external\")\n",
    "intracellular = SI2.query(\"external == False\")"
   ]
  },
  {
   "cell_type": "markdown",
   "metadata": {},
   "source": [
    "## Intracellular Metabolites $\\mathcal{X}$"
   ]
  },
  {
   "cell_type": "code",
   "execution_count": 13,
   "metadata": {},
   "outputs": [],
   "source": [
    "# drop boolean column\n",
    "intracellular = intracellular.drop(['external'], axis=1)"
   ]
  },
  {
   "cell_type": "code",
   "execution_count": 14,
   "metadata": {},
   "outputs": [
    {
     "name": "stderr",
     "output_type": "stream",
     "text": [
      "/tmp/ipykernel_27889/3831488098.py:2: FutureWarning: The frame.append method is deprecated and will be removed from pandas in a future version. Use pandas.concat instead.\n",
      "  intracellular = intracellular.append({'id': 'Z', 'name': 'amino acid'}, ignore_index=True)\n"
     ]
    }
   ],
   "source": [
    "# add amino acid\n",
    "intracellular = intracellular.append({'id': 'Z', 'name': 'amino acid'}, ignore_index=True)"
   ]
  },
  {
   "cell_type": "code",
   "execution_count": 15,
   "metadata": {},
   "outputs": [],
   "source": [
    "# add attributes\n",
    "intracellular[\"compartment\"] = 'cytosol'\n",
    "intracellular[\"constant\"] = 'false'\n",
    "intracellular[\"boundaryCondition\"] = 'false'\n",
    "intracellular[\"hasOnlySubstanceUnits\"] = 'true'\n",
    "intracellular[\"ram:speciesType\"] = 'metabolite'"
   ]
  },
  {
   "cell_type": "markdown",
   "metadata": {},
   "source": [
    "## Extracellular Metabolites $\\mathcal{Y}$"
   ]
  },
  {
   "cell_type": "code",
   "execution_count": 16,
   "metadata": {},
   "outputs": [],
   "source": [
    "# drop boolean column\n",
    "extracellular = extracellular.drop(['external'], axis=1)"
   ]
  },
  {
   "cell_type": "code",
   "execution_count": 17,
   "metadata": {},
   "outputs": [
    {
     "data": {
      "text/html": [
       "<div>\n",
       "<style scoped>\n",
       "    .dataframe tbody tr th:only-of-type {\n",
       "        vertical-align: middle;\n",
       "    }\n",
       "\n",
       "    .dataframe tbody tr th {\n",
       "        vertical-align: top;\n",
       "    }\n",
       "\n",
       "    .dataframe thead th {\n",
       "        text-align: right;\n",
       "    }\n",
       "</style>\n",
       "<table border=\"1\" class=\"dataframe\">\n",
       "  <thead>\n",
       "    <tr style=\"text-align: right;\">\n",
       "      <th></th>\n",
       "      <th>id</th>\n",
       "      <th>name</th>\n",
       "    </tr>\n",
       "  </thead>\n",
       "  <tbody>\n",
       "    <tr>\n",
       "      <th>25</th>\n",
       "      <td>ACxt</td>\n",
       "      <td>External acetate</td>\n",
       "    </tr>\n",
       "    <tr>\n",
       "      <th>65</th>\n",
       "      <td>CO2xt</td>\n",
       "      <td>External carbon dioxide</td>\n",
       "    </tr>\n",
       "    <tr>\n",
       "      <th>10</th>\n",
       "      <td>ETHxt</td>\n",
       "      <td>External ethanol</td>\n",
       "    </tr>\n",
       "    <tr>\n",
       "      <th>34</th>\n",
       "      <td>FORxt</td>\n",
       "      <td>External Formate</td>\n",
       "    </tr>\n",
       "    <tr>\n",
       "      <th>70</th>\n",
       "      <td>GLCxt</td>\n",
       "      <td>External glucose</td>\n",
       "    </tr>\n",
       "    <tr>\n",
       "      <th>76</th>\n",
       "      <td>GLxt</td>\n",
       "      <td>External glycerol</td>\n",
       "    </tr>\n",
       "    <tr>\n",
       "      <th>2</th>\n",
       "      <td>HEXT</td>\n",
       "      <td>External H+</td>\n",
       "    </tr>\n",
       "    <tr>\n",
       "      <th>15</th>\n",
       "      <td>LACxt</td>\n",
       "      <td>External lactate</td>\n",
       "    </tr>\n",
       "    <tr>\n",
       "      <th>23</th>\n",
       "      <td>LCTSxt</td>\n",
       "      <td>External Lactose</td>\n",
       "    </tr>\n",
       "    <tr>\n",
       "      <th>51</th>\n",
       "      <td>O2xt</td>\n",
       "      <td>External Oxygen</td>\n",
       "    </tr>\n",
       "    <tr>\n",
       "      <th>71</th>\n",
       "      <td>PIxt</td>\n",
       "      <td>External phosphate</td>\n",
       "    </tr>\n",
       "    <tr>\n",
       "      <th>4</th>\n",
       "      <td>PYRxt</td>\n",
       "      <td>External pyruvate</td>\n",
       "    </tr>\n",
       "    <tr>\n",
       "      <th>24</th>\n",
       "      <td>RIBxt</td>\n",
       "      <td>External ribose</td>\n",
       "    </tr>\n",
       "    <tr>\n",
       "      <th>44</th>\n",
       "      <td>SUCCxt</td>\n",
       "      <td>External succinate</td>\n",
       "    </tr>\n",
       "  </tbody>\n",
       "</table>\n",
       "</div>"
      ],
      "text/plain": [
       "        id                     name\n",
       "25    ACxt         External acetate\n",
       "65   CO2xt  External carbon dioxide\n",
       "10   ETHxt         External ethanol\n",
       "34   FORxt         External Formate\n",
       "70   GLCxt         External glucose\n",
       "76    GLxt        External glycerol\n",
       "2     HEXT              External H+\n",
       "15   LACxt         External lactate\n",
       "23  LCTSxt         External Lactose\n",
       "51    O2xt          External Oxygen\n",
       "71    PIxt       External phosphate\n",
       "4    PYRxt        External pyruvate\n",
       "24   RIBxt          External ribose\n",
       "44  SUCCxt       External succinate"
      ]
     },
     "execution_count": 17,
     "metadata": {},
     "output_type": "execute_result"
    }
   ],
   "source": [
    "extracellular"
   ]
  },
  {
   "cell_type": "code",
   "execution_count": 18,
   "metadata": {},
   "outputs": [],
   "source": [
    "# abundant species\n",
    "extracellular.loc[extracellular['id'] == 'CO2xt', 'initialAmount'] = 10000\n",
    "extracellular.loc[extracellular['id'] == 'HEXT', 'initialAmount'] = 10000\n",
    "extracellular.loc[extracellular['id'] == 'PIxt', 'initialAmount'] = 10000\n",
    "\n",
    "# potential product are initially zero\n",
    "extracellular.loc[extracellular['id'] == 'ETHxt', 'initialAmount'] = 0\n",
    "extracellular.loc[extracellular['id'] == 'FORxt', 'initialAmount'] = 0\n",
    "extracellular.loc[extracellular['id'] == 'LACxt', 'initialAmount'] = 0\n",
    "extracellular.loc[extracellular['id'] == 'LCTSxt', 'initialAmount'] = 0\n",
    "extracellular.loc[extracellular['id'] == 'PYRxt', 'initialAmount'] = 0\n",
    "\n",
    "# carbon sources and O2: initial amount depends on the scenario; aerobic glucose as default:\n",
    "extracellular.loc[extracellular['id'] == 'ACxt', 'initialAmount'] = 0\n",
    "extracellular.loc[extracellular['id'] == 'GLCxt', 'initialAmount'] = 100\n",
    "extracellular.loc[extracellular['id'] == 'GLxt', 'initialAmount'] = 0\n",
    "extracellular.loc[extracellular['id'] == 'O2xt', 'initialAmount'] = 10000\n",
    "extracellular.loc[extracellular['id'] == 'RIBxt', 'initialAmount'] = 0\n",
    "extracellular.loc[extracellular['id'] == 'SUCCxt', 'initialAmount'] = 0"
   ]
  },
  {
   "cell_type": "code",
   "execution_count": 19,
   "metadata": {},
   "outputs": [],
   "source": [
    "# add attributes\n",
    "extracellular[\"compartment\"] = 'extracellular'\n",
    "extracellular[\"constant\"] = 'false'\n",
    "extracellular[\"boundaryCondition\"] = 'false' # not false for every species\n",
    "extracellular[\"hasOnlySubstanceUnits\"] = 'true'\n",
    "extracellular[\"ram:speciesType\"] = 'extracellular'"
   ]
  },
  {
   "cell_type": "markdown",
   "metadata": {},
   "source": [
    "## Macromolecules $\\mathcal{P}$"
   ]
  },
  {
   "cell_type": "markdown",
   "metadata": {},
   "source": [
    "### Enzymes $\\mathcal{E}$"
   ]
  },
  {
   "cell_type": "code",
   "execution_count": 20,
   "metadata": {},
   "outputs": [],
   "source": [
    "# create copy of first part of SI\n",
    "enzymes = SI1[['ID', 'Protein', 'Gene', 'Regulatory logic']].copy()"
   ]
  },
  {
   "cell_type": "code",
   "execution_count": 21,
   "metadata": {},
   "outputs": [],
   "source": [
    "# delete rows without ID (i.e. regulatory proteins), without Gene (i.e. spontaneous) or without Protein (exchange, biomass, maintenance)\n",
    "enzymes.dropna(subset=['ID', 'Protein', 'Gene'], inplace=True) # in place: Keep df with valid entries in the same variable"
   ]
  },
  {
   "cell_type": "code",
   "execution_count": 22,
   "metadata": {},
   "outputs": [],
   "source": [
    "# create enzyme IDs ('E_' + reaction id)\n",
    "enzymes[\"id\"] = 'E_' + enzymes[\"ID\"]\n",
    "enzymes = enzymes.drop(['ID'], axis=1) # delete old IDs\n",
    "enzymes = enzymes[['id', 'Protein', 'Gene', 'Regulatory logic']] # order columns"
   ]
  },
  {
   "cell_type": "code",
   "execution_count": 23,
   "metadata": {
    "scrolled": true
   },
   "outputs": [],
   "source": [
    "enzymes = enzymes.rename(columns={\"Protein\": \"name\"})"
   ]
  },
  {
   "cell_type": "code",
   "execution_count": 24,
   "metadata": {},
   "outputs": [],
   "source": [
    "# add attributes\n",
    "enzymes[\"compartment\"] = 'cytosol'\n",
    "enzymes[\"constant\"] = 'false'\n",
    "enzymes[\"boundaryCondition\"] = 'false'\n",
    "enzymes[\"hasOnlySubstanceUnits\"] = 'true'\n",
    "enzymes[\"initialAmount\"] = 'NaN'\n",
    "enzymes[\"ram:molecularWeight\"] = None # are set later\n",
    "enzymes[\"ram:objectiveWeight\"] = None # are set later\n",
    "enzymes[\"ram:biomassPercentage\"] = 0.0\n",
    "enzymes[\"ram:speciesType\"] = 'enzyme'\n",
    "enzymes[\"degradationRate\"] = parameters['enzyme_degradation']"
   ]
  },
  {
   "cell_type": "code",
   "execution_count": 25,
   "metadata": {
    "scrolled": true
   },
   "outputs": [],
   "source": [
    "enzymes.loc[enzymes[\"id\"] == \"R\", \"degradationRate\"] = parameters['ribosomal_degradation']"
   ]
  },
  {
   "cell_type": "code",
   "execution_count": 26,
   "metadata": {},
   "outputs": [
    {
     "data": {
      "text/html": [
       "<div>\n",
       "<style scoped>\n",
       "    .dataframe tbody tr th:only-of-type {\n",
       "        vertical-align: middle;\n",
       "    }\n",
       "\n",
       "    .dataframe tbody tr th {\n",
       "        vertical-align: top;\n",
       "    }\n",
       "\n",
       "    .dataframe thead th {\n",
       "        text-align: right;\n",
       "    }\n",
       "</style>\n",
       "<table border=\"1\" class=\"dataframe\">\n",
       "  <thead>\n",
       "    <tr style=\"text-align: right;\">\n",
       "      <th></th>\n",
       "      <th>id</th>\n",
       "      <th>name</th>\n",
       "      <th>Gene</th>\n",
       "      <th>Regulatory logic</th>\n",
       "      <th>compartment</th>\n",
       "      <th>constant</th>\n",
       "      <th>boundaryCondition</th>\n",
       "      <th>hasOnlySubstanceUnits</th>\n",
       "      <th>initialAmount</th>\n",
       "      <th>ram:molecularWeight</th>\n",
       "      <th>ram:objectiveWeight</th>\n",
       "      <th>ram:biomassPercentage</th>\n",
       "      <th>ram:speciesType</th>\n",
       "      <th>degradationRate</th>\n",
       "    </tr>\n",
       "  </thead>\n",
       "  <tbody>\n",
       "    <tr>\n",
       "      <th>0</th>\n",
       "      <td>E_ACEA</td>\n",
       "      <td>Isocitrate lyase</td>\n",
       "      <td>aceA</td>\n",
       "      <td>IF not (IclR)</td>\n",
       "      <td>cytosol</td>\n",
       "      <td>false</td>\n",
       "      <td>false</td>\n",
       "      <td>true</td>\n",
       "      <td>NaN</td>\n",
       "      <td>None</td>\n",
       "      <td>None</td>\n",
       "      <td>0.0</td>\n",
       "      <td>enzyme</td>\n",
       "      <td>0.01</td>\n",
       "    </tr>\n",
       "    <tr>\n",
       "      <th>1</th>\n",
       "      <td>E_ACEB</td>\n",
       "      <td>Malate synthase A</td>\n",
       "      <td>aceB</td>\n",
       "      <td>IF not (ArcA or IclR)</td>\n",
       "      <td>cytosol</td>\n",
       "      <td>false</td>\n",
       "      <td>false</td>\n",
       "      <td>true</td>\n",
       "      <td>NaN</td>\n",
       "      <td>None</td>\n",
       "      <td>None</td>\n",
       "      <td>0.0</td>\n",
       "      <td>enzyme</td>\n",
       "      <td>0.01</td>\n",
       "    </tr>\n",
       "    <tr>\n",
       "      <th>2</th>\n",
       "      <td>E_ACEE</td>\n",
       "      <td>Pyruvate dehydrogenase</td>\n",
       "      <td>aceE, aceF, lpdA</td>\n",
       "      <td>IF (not PdhR)</td>\n",
       "      <td>cytosol</td>\n",
       "      <td>false</td>\n",
       "      <td>false</td>\n",
       "      <td>true</td>\n",
       "      <td>NaN</td>\n",
       "      <td>None</td>\n",
       "      <td>None</td>\n",
       "      <td>0.0</td>\n",
       "      <td>enzyme</td>\n",
       "      <td>0.01</td>\n",
       "    </tr>\n",
       "    <tr>\n",
       "      <th>3</th>\n",
       "      <td>E_ACKAR</td>\n",
       "      <td>Acetate kinase A</td>\n",
       "      <td>ackA</td>\n",
       "      <td>NaN</td>\n",
       "      <td>cytosol</td>\n",
       "      <td>false</td>\n",
       "      <td>false</td>\n",
       "      <td>true</td>\n",
       "      <td>NaN</td>\n",
       "      <td>None</td>\n",
       "      <td>None</td>\n",
       "      <td>0.0</td>\n",
       "      <td>enzyme</td>\n",
       "      <td>0.01</td>\n",
       "    </tr>\n",
       "    <tr>\n",
       "      <th>4</th>\n",
       "      <td>E_ACNAR</td>\n",
       "      <td>Aconitase A</td>\n",
       "      <td>acnA</td>\n",
       "      <td>IF (GLCxt or LCTSxt or RIBxt or GLxt or LACxt ...</td>\n",
       "      <td>cytosol</td>\n",
       "      <td>false</td>\n",
       "      <td>false</td>\n",
       "      <td>true</td>\n",
       "      <td>NaN</td>\n",
       "      <td>None</td>\n",
       "      <td>None</td>\n",
       "      <td>0.0</td>\n",
       "      <td>enzyme</td>\n",
       "      <td>0.01</td>\n",
       "    </tr>\n",
       "    <tr>\n",
       "      <th>...</th>\n",
       "      <td>...</td>\n",
       "      <td>...</td>\n",
       "      <td>...</td>\n",
       "      <td>...</td>\n",
       "      <td>...</td>\n",
       "      <td>...</td>\n",
       "      <td>...</td>\n",
       "      <td>...</td>\n",
       "      <td>...</td>\n",
       "      <td>...</td>\n",
       "      <td>...</td>\n",
       "      <td>...</td>\n",
       "      <td>...</td>\n",
       "      <td>...</td>\n",
       "    </tr>\n",
       "    <tr>\n",
       "      <th>94</th>\n",
       "      <td>E_DCUAR</td>\n",
       "      <td>Succinate transport</td>\n",
       "      <td>dcuA</td>\n",
       "      <td>NaN</td>\n",
       "      <td>cytosol</td>\n",
       "      <td>false</td>\n",
       "      <td>false</td>\n",
       "      <td>true</td>\n",
       "      <td>NaN</td>\n",
       "      <td>None</td>\n",
       "      <td>None</td>\n",
       "      <td>0.0</td>\n",
       "      <td>enzyme</td>\n",
       "      <td>0.01</td>\n",
       "    </tr>\n",
       "    <tr>\n",
       "      <th>95</th>\n",
       "      <td>E_DCUBR</td>\n",
       "      <td>Succinate transport</td>\n",
       "      <td>dcuB</td>\n",
       "      <td>IF not (GLCxt or LCTSxt or RIBxt or GLxt or LA...</td>\n",
       "      <td>cytosol</td>\n",
       "      <td>false</td>\n",
       "      <td>false</td>\n",
       "      <td>true</td>\n",
       "      <td>NaN</td>\n",
       "      <td>None</td>\n",
       "      <td>None</td>\n",
       "      <td>0.0</td>\n",
       "      <td>enzyme</td>\n",
       "      <td>0.01</td>\n",
       "    </tr>\n",
       "    <tr>\n",
       "      <th>96</th>\n",
       "      <td>E_DCUC</td>\n",
       "      <td>Succinate efflux</td>\n",
       "      <td>dcuC</td>\n",
       "      <td>IF (FNR or ArcA)</td>\n",
       "      <td>cytosol</td>\n",
       "      <td>false</td>\n",
       "      <td>false</td>\n",
       "      <td>true</td>\n",
       "      <td>NaN</td>\n",
       "      <td>None</td>\n",
       "      <td>None</td>\n",
       "      <td>0.0</td>\n",
       "      <td>enzyme</td>\n",
       "      <td>0.01</td>\n",
       "    </tr>\n",
       "    <tr>\n",
       "      <th>131</th>\n",
       "      <td>E_ASPT</td>\n",
       "      <td>L-aspartase</td>\n",
       "      <td>aspA</td>\n",
       "      <td>NaN</td>\n",
       "      <td>cytosol</td>\n",
       "      <td>false</td>\n",
       "      <td>false</td>\n",
       "      <td>true</td>\n",
       "      <td>NaN</td>\n",
       "      <td>None</td>\n",
       "      <td>None</td>\n",
       "      <td>0.0</td>\n",
       "      <td>enzyme</td>\n",
       "      <td>0.01</td>\n",
       "    </tr>\n",
       "    <tr>\n",
       "      <th>132</th>\n",
       "      <td>E_R</td>\n",
       "      <td>Ribosome</td>\n",
       "      <td>rplA, rplB, rplC, rplD, rplE, rplF, rplI, rplJ...</td>\n",
       "      <td>NaN</td>\n",
       "      <td>cytosol</td>\n",
       "      <td>false</td>\n",
       "      <td>false</td>\n",
       "      <td>true</td>\n",
       "      <td>NaN</td>\n",
       "      <td>None</td>\n",
       "      <td>None</td>\n",
       "      <td>0.0</td>\n",
       "      <td>enzyme</td>\n",
       "      <td>0.01</td>\n",
       "    </tr>\n",
       "  </tbody>\n",
       "</table>\n",
       "<p>92 rows × 14 columns</p>\n",
       "</div>"
      ],
      "text/plain": [
       "          id                    name  \\\n",
       "0     E_ACEA        Isocitrate lyase   \n",
       "1     E_ACEB       Malate synthase A   \n",
       "2     E_ACEE  Pyruvate dehydrogenase   \n",
       "3    E_ACKAR        Acetate kinase A   \n",
       "4    E_ACNAR             Aconitase A   \n",
       "..       ...                     ...   \n",
       "94   E_DCUAR     Succinate transport   \n",
       "95   E_DCUBR     Succinate transport   \n",
       "96    E_DCUC        Succinate efflux   \n",
       "131   E_ASPT             L-aspartase   \n",
       "132      E_R                Ribosome   \n",
       "\n",
       "                                                  Gene  \\\n",
       "0                                                 aceA   \n",
       "1                                                 aceB   \n",
       "2                                     aceE, aceF, lpdA   \n",
       "3                                                 ackA   \n",
       "4                                                 acnA   \n",
       "..                                                 ...   \n",
       "94                                                dcuA   \n",
       "95                                                dcuB   \n",
       "96                                                dcuC   \n",
       "131                                               aspA   \n",
       "132  rplA, rplB, rplC, rplD, rplE, rplF, rplI, rplJ...   \n",
       "\n",
       "                                      Regulatory logic compartment constant  \\\n",
       "0                                        IF not (IclR)     cytosol    false   \n",
       "1                                IF not (ArcA or IclR)     cytosol    false   \n",
       "2                                        IF (not PdhR)     cytosol    false   \n",
       "3                                                  NaN     cytosol    false   \n",
       "4    IF (GLCxt or LCTSxt or RIBxt or GLxt or LACxt ...     cytosol    false   \n",
       "..                                                 ...         ...      ...   \n",
       "94                                                 NaN     cytosol    false   \n",
       "95   IF not (GLCxt or LCTSxt or RIBxt or GLxt or LA...     cytosol    false   \n",
       "96                                    IF (FNR or ArcA)     cytosol    false   \n",
       "131                                                NaN     cytosol    false   \n",
       "132                                                NaN     cytosol    false   \n",
       "\n",
       "    boundaryCondition hasOnlySubstanceUnits initialAmount ram:molecularWeight  \\\n",
       "0               false                  true           NaN                None   \n",
       "1               false                  true           NaN                None   \n",
       "2               false                  true           NaN                None   \n",
       "3               false                  true           NaN                None   \n",
       "4               false                  true           NaN                None   \n",
       "..                ...                   ...           ...                 ...   \n",
       "94              false                  true           NaN                None   \n",
       "95              false                  true           NaN                None   \n",
       "96              false                  true           NaN                None   \n",
       "131             false                  true           NaN                None   \n",
       "132             false                  true           NaN                None   \n",
       "\n",
       "    ram:objectiveWeight  ram:biomassPercentage ram:speciesType  \\\n",
       "0                  None                    0.0          enzyme   \n",
       "1                  None                    0.0          enzyme   \n",
       "2                  None                    0.0          enzyme   \n",
       "3                  None                    0.0          enzyme   \n",
       "4                  None                    0.0          enzyme   \n",
       "..                  ...                    ...             ...   \n",
       "94                 None                    0.0          enzyme   \n",
       "95                 None                    0.0          enzyme   \n",
       "96                 None                    0.0          enzyme   \n",
       "131                None                    0.0          enzyme   \n",
       "132                None                    0.0          enzyme   \n",
       "\n",
       "     degradationRate  \n",
       "0               0.01  \n",
       "1               0.01  \n",
       "2               0.01  \n",
       "3               0.01  \n",
       "4               0.01  \n",
       "..               ...  \n",
       "94              0.01  \n",
       "95              0.01  \n",
       "96              0.01  \n",
       "131             0.01  \n",
       "132             0.01  \n",
       "\n",
       "[92 rows x 14 columns]"
      ]
     },
     "execution_count": 26,
     "metadata": {},
     "output_type": "execute_result"
    }
   ],
   "source": [
    "enzymes"
   ]
  },
  {
   "cell_type": "markdown",
   "metadata": {},
   "source": [
    "### Regulatory Proteins $\\mathcal{RP}$"
   ]
  },
  {
   "cell_type": "code",
   "execution_count": 27,
   "metadata": {},
   "outputs": [],
   "source": [
    "# create copy of first part of SI\n",
    "rp = SI1[['ID', 'Protein', 'Gene']].copy()"
   ]
  },
  {
   "cell_type": "code",
   "execution_count": 28,
   "metadata": {},
   "outputs": [],
   "source": [
    "# keep rows without ID\n",
    "rp = rp[pd.isnull(rp['ID'])]\n",
    "rp = rp.drop(['ID'], axis=1)"
   ]
  },
  {
   "cell_type": "code",
   "execution_count": 29,
   "metadata": {},
   "outputs": [],
   "source": [
    "# define function for create protein names (uppercase) from gene names (lowercase)\n",
    "def repl_func(m):\n",
    "    \"\"\"process regular expression match groups for word upper-casing problem\"\"\"\n",
    "    return m.group(1) + m.group(2).upper()"
   ]
  },
  {
   "cell_type": "code",
   "execution_count": 30,
   "metadata": {},
   "outputs": [],
   "source": [
    "rp['id_protein'] = rp['Gene'].map(lambda element: re.sub(\"(^|\\s)(\\S)\", repl_func, element))"
   ]
  },
  {
   "cell_type": "code",
   "execution_count": 31,
   "metadata": {},
   "outputs": [],
   "source": [
    "# rp id = 'RP_' + protein id\n",
    "rp[\"id\"] = 'RP_' + rp[\"id_protein\"]\n",
    "rp = rp[['id', 'Protein', 'Gene']] # order columns"
   ]
  },
  {
   "cell_type": "code",
   "execution_count": 32,
   "metadata": {},
   "outputs": [],
   "source": [
    "rp.loc[rp.id == 'RP_Fnr', 'id'] = 'RP_FNR'"
   ]
  },
  {
   "cell_type": "code",
   "execution_count": 33,
   "metadata": {
    "scrolled": true
   },
   "outputs": [],
   "source": [
    "rp = rp.rename(columns={\"Protein\": \"name\"})"
   ]
  },
  {
   "cell_type": "code",
   "execution_count": 34,
   "metadata": {},
   "outputs": [],
   "source": [
    "# add attributes\n",
    "rp[\"compartment\"] = 'cytosol'\n",
    "rp[\"constant\"] = 'false'\n",
    "rp[\"boundaryCondition\"] = 'false'\n",
    "rp[\"hasOnlySubstanceUnits\"] = 'true'\n",
    "rp[\"initialAmount\"] = 'NaN'\n",
    "rp[\"ram:biomassPercentage\"] = 0.0\n",
    "rp[\"ram:molecularWeight\"] = None # are set later\n",
    "rp[\"ram:objectiveWeight\"] = None # are set later\n",
    "rp[\"ram:speciesType\"] = 'enzyme'\n",
    "rp[\"degradationRate\"] = parameters['rp_degradation']"
   ]
  },
  {
   "cell_type": "code",
   "execution_count": 35,
   "metadata": {},
   "outputs": [
    {
     "data": {
      "text/html": [
       "<div>\n",
       "<style scoped>\n",
       "    .dataframe tbody tr th:only-of-type {\n",
       "        vertical-align: middle;\n",
       "    }\n",
       "\n",
       "    .dataframe tbody tr th {\n",
       "        vertical-align: top;\n",
       "    }\n",
       "\n",
       "    .dataframe thead th {\n",
       "        text-align: right;\n",
       "    }\n",
       "</style>\n",
       "<table border=\"1\" class=\"dataframe\">\n",
       "  <thead>\n",
       "    <tr style=\"text-align: right;\">\n",
       "      <th></th>\n",
       "      <th>id</th>\n",
       "      <th>name</th>\n",
       "      <th>Gene</th>\n",
       "      <th>compartment</th>\n",
       "      <th>constant</th>\n",
       "      <th>boundaryCondition</th>\n",
       "      <th>hasOnlySubstanceUnits</th>\n",
       "      <th>initialAmount</th>\n",
       "      <th>ram:biomassPercentage</th>\n",
       "      <th>ram:molecularWeight</th>\n",
       "      <th>ram:objectiveWeight</th>\n",
       "      <th>ram:speciesType</th>\n",
       "      <th>degradationRate</th>\n",
       "    </tr>\n",
       "  </thead>\n",
       "  <tbody>\n",
       "    <tr>\n",
       "      <th>116</th>\n",
       "      <td>RP_ArcA</td>\n",
       "      <td>Aerobic/Anaerobic response regulator</td>\n",
       "      <td>arcA</td>\n",
       "      <td>cytosol</td>\n",
       "      <td>false</td>\n",
       "      <td>false</td>\n",
       "      <td>true</td>\n",
       "      <td>NaN</td>\n",
       "      <td>0.0</td>\n",
       "      <td>None</td>\n",
       "      <td>None</td>\n",
       "      <td>enzyme</td>\n",
       "      <td>0.2</td>\n",
       "    </tr>\n",
       "    <tr>\n",
       "      <th>117</th>\n",
       "      <td>RP_Cra</td>\n",
       "      <td>Catabolite activator protein</td>\n",
       "      <td>cra</td>\n",
       "      <td>cytosol</td>\n",
       "      <td>false</td>\n",
       "      <td>false</td>\n",
       "      <td>true</td>\n",
       "      <td>NaN</td>\n",
       "      <td>0.0</td>\n",
       "      <td>None</td>\n",
       "      <td>None</td>\n",
       "      <td>enzyme</td>\n",
       "      <td>0.2</td>\n",
       "    </tr>\n",
       "    <tr>\n",
       "      <th>118</th>\n",
       "      <td>RP_DcuR</td>\n",
       "      <td>Dicarboxylate response regulator</td>\n",
       "      <td>dcuR</td>\n",
       "      <td>cytosol</td>\n",
       "      <td>false</td>\n",
       "      <td>false</td>\n",
       "      <td>true</td>\n",
       "      <td>NaN</td>\n",
       "      <td>0.0</td>\n",
       "      <td>None</td>\n",
       "      <td>None</td>\n",
       "      <td>enzyme</td>\n",
       "      <td>0.2</td>\n",
       "    </tr>\n",
       "    <tr>\n",
       "      <th>119</th>\n",
       "      <td>RP_DcuS</td>\n",
       "      <td>Dicarboxylate response sensor</td>\n",
       "      <td>dcuS</td>\n",
       "      <td>cytosol</td>\n",
       "      <td>false</td>\n",
       "      <td>false</td>\n",
       "      <td>true</td>\n",
       "      <td>NaN</td>\n",
       "      <td>0.0</td>\n",
       "      <td>None</td>\n",
       "      <td>None</td>\n",
       "      <td>enzyme</td>\n",
       "      <td>0.2</td>\n",
       "    </tr>\n",
       "    <tr>\n",
       "      <th>120</th>\n",
       "      <td>RP_FadR</td>\n",
       "      <td>Fatty acid/Acetate response regulator</td>\n",
       "      <td>fadR</td>\n",
       "      <td>cytosol</td>\n",
       "      <td>false</td>\n",
       "      <td>false</td>\n",
       "      <td>true</td>\n",
       "      <td>NaN</td>\n",
       "      <td>0.0</td>\n",
       "      <td>None</td>\n",
       "      <td>None</td>\n",
       "      <td>enzyme</td>\n",
       "      <td>0.2</td>\n",
       "    </tr>\n",
       "    <tr>\n",
       "      <th>121</th>\n",
       "      <td>RP_FNR</td>\n",
       "      <td>Aerobic/Anaerobic response regulator</td>\n",
       "      <td>fnr</td>\n",
       "      <td>cytosol</td>\n",
       "      <td>false</td>\n",
       "      <td>false</td>\n",
       "      <td>true</td>\n",
       "      <td>NaN</td>\n",
       "      <td>0.0</td>\n",
       "      <td>None</td>\n",
       "      <td>None</td>\n",
       "      <td>enzyme</td>\n",
       "      <td>0.2</td>\n",
       "    </tr>\n",
       "    <tr>\n",
       "      <th>122</th>\n",
       "      <td>RP_GalR</td>\n",
       "      <td>Galactose operon repressor</td>\n",
       "      <td>galR</td>\n",
       "      <td>cytosol</td>\n",
       "      <td>false</td>\n",
       "      <td>false</td>\n",
       "      <td>true</td>\n",
       "      <td>NaN</td>\n",
       "      <td>0.0</td>\n",
       "      <td>None</td>\n",
       "      <td>None</td>\n",
       "      <td>enzyme</td>\n",
       "      <td>0.2</td>\n",
       "    </tr>\n",
       "    <tr>\n",
       "      <th>123</th>\n",
       "      <td>RP_GalS</td>\n",
       "      <td>Galactose operon repressor</td>\n",
       "      <td>galS</td>\n",
       "      <td>cytosol</td>\n",
       "      <td>false</td>\n",
       "      <td>false</td>\n",
       "      <td>true</td>\n",
       "      <td>NaN</td>\n",
       "      <td>0.0</td>\n",
       "      <td>None</td>\n",
       "      <td>None</td>\n",
       "      <td>enzyme</td>\n",
       "      <td>0.2</td>\n",
       "    </tr>\n",
       "    <tr>\n",
       "      <th>124</th>\n",
       "      <td>RP_GlpR</td>\n",
       "      <td>Glycerol response regulator</td>\n",
       "      <td>glpR</td>\n",
       "      <td>cytosol</td>\n",
       "      <td>false</td>\n",
       "      <td>false</td>\n",
       "      <td>true</td>\n",
       "      <td>NaN</td>\n",
       "      <td>0.0</td>\n",
       "      <td>None</td>\n",
       "      <td>None</td>\n",
       "      <td>enzyme</td>\n",
       "      <td>0.2</td>\n",
       "    </tr>\n",
       "    <tr>\n",
       "      <th>125</th>\n",
       "      <td>RP_IclR</td>\n",
       "      <td>Fatty acid/Acetate response regulator</td>\n",
       "      <td>iclR</td>\n",
       "      <td>cytosol</td>\n",
       "      <td>false</td>\n",
       "      <td>false</td>\n",
       "      <td>true</td>\n",
       "      <td>NaN</td>\n",
       "      <td>0.0</td>\n",
       "      <td>None</td>\n",
       "      <td>None</td>\n",
       "      <td>enzyme</td>\n",
       "      <td>0.2</td>\n",
       "    </tr>\n",
       "    <tr>\n",
       "      <th>126</th>\n",
       "      <td>RP_LacI</td>\n",
       "      <td>Lactose operon repressor</td>\n",
       "      <td>lacI</td>\n",
       "      <td>cytosol</td>\n",
       "      <td>false</td>\n",
       "      <td>false</td>\n",
       "      <td>true</td>\n",
       "      <td>NaN</td>\n",
       "      <td>0.0</td>\n",
       "      <td>None</td>\n",
       "      <td>None</td>\n",
       "      <td>enzyme</td>\n",
       "      <td>0.2</td>\n",
       "    </tr>\n",
       "    <tr>\n",
       "      <th>127</th>\n",
       "      <td>RP_Mlc</td>\n",
       "      <td>Glucose response regulator</td>\n",
       "      <td>mlc</td>\n",
       "      <td>cytosol</td>\n",
       "      <td>false</td>\n",
       "      <td>false</td>\n",
       "      <td>true</td>\n",
       "      <td>NaN</td>\n",
       "      <td>0.0</td>\n",
       "      <td>None</td>\n",
       "      <td>None</td>\n",
       "      <td>enzyme</td>\n",
       "      <td>0.2</td>\n",
       "    </tr>\n",
       "    <tr>\n",
       "      <th>128</th>\n",
       "      <td>RP_PdhR</td>\n",
       "      <td>Pyruvate response regulator</td>\n",
       "      <td>pdhR</td>\n",
       "      <td>cytosol</td>\n",
       "      <td>false</td>\n",
       "      <td>false</td>\n",
       "      <td>true</td>\n",
       "      <td>NaN</td>\n",
       "      <td>0.0</td>\n",
       "      <td>None</td>\n",
       "      <td>None</td>\n",
       "      <td>enzyme</td>\n",
       "      <td>0.2</td>\n",
       "    </tr>\n",
       "    <tr>\n",
       "      <th>129</th>\n",
       "      <td>RP_RbsR</td>\n",
       "      <td>Ribose response regulator</td>\n",
       "      <td>rbsR</td>\n",
       "      <td>cytosol</td>\n",
       "      <td>false</td>\n",
       "      <td>false</td>\n",
       "      <td>true</td>\n",
       "      <td>NaN</td>\n",
       "      <td>0.0</td>\n",
       "      <td>None</td>\n",
       "      <td>None</td>\n",
       "      <td>enzyme</td>\n",
       "      <td>0.2</td>\n",
       "    </tr>\n",
       "    <tr>\n",
       "      <th>130</th>\n",
       "      <td>RP_RpiR</td>\n",
       "      <td>Ribose response regulator</td>\n",
       "      <td>rpiR</td>\n",
       "      <td>cytosol</td>\n",
       "      <td>false</td>\n",
       "      <td>false</td>\n",
       "      <td>true</td>\n",
       "      <td>NaN</td>\n",
       "      <td>0.0</td>\n",
       "      <td>None</td>\n",
       "      <td>None</td>\n",
       "      <td>enzyme</td>\n",
       "      <td>0.2</td>\n",
       "    </tr>\n",
       "  </tbody>\n",
       "</table>\n",
       "</div>"
      ],
      "text/plain": [
       "          id                                   name  Gene compartment  \\\n",
       "116  RP_ArcA   Aerobic/Anaerobic response regulator  arcA     cytosol   \n",
       "117   RP_Cra           Catabolite activator protein   cra     cytosol   \n",
       "118  RP_DcuR       Dicarboxylate response regulator  dcuR     cytosol   \n",
       "119  RP_DcuS          Dicarboxylate response sensor  dcuS     cytosol   \n",
       "120  RP_FadR  Fatty acid/Acetate response regulator  fadR     cytosol   \n",
       "121   RP_FNR   Aerobic/Anaerobic response regulator   fnr     cytosol   \n",
       "122  RP_GalR             Galactose operon repressor  galR     cytosol   \n",
       "123  RP_GalS             Galactose operon repressor  galS     cytosol   \n",
       "124  RP_GlpR            Glycerol response regulator  glpR     cytosol   \n",
       "125  RP_IclR  Fatty acid/Acetate response regulator  iclR     cytosol   \n",
       "126  RP_LacI               Lactose operon repressor  lacI     cytosol   \n",
       "127   RP_Mlc             Glucose response regulator   mlc     cytosol   \n",
       "128  RP_PdhR            Pyruvate response regulator  pdhR     cytosol   \n",
       "129  RP_RbsR              Ribose response regulator  rbsR     cytosol   \n",
       "130  RP_RpiR              Ribose response regulator  rpiR     cytosol   \n",
       "\n",
       "    constant boundaryCondition hasOnlySubstanceUnits initialAmount  \\\n",
       "116    false             false                  true           NaN   \n",
       "117    false             false                  true           NaN   \n",
       "118    false             false                  true           NaN   \n",
       "119    false             false                  true           NaN   \n",
       "120    false             false                  true           NaN   \n",
       "121    false             false                  true           NaN   \n",
       "122    false             false                  true           NaN   \n",
       "123    false             false                  true           NaN   \n",
       "124    false             false                  true           NaN   \n",
       "125    false             false                  true           NaN   \n",
       "126    false             false                  true           NaN   \n",
       "127    false             false                  true           NaN   \n",
       "128    false             false                  true           NaN   \n",
       "129    false             false                  true           NaN   \n",
       "130    false             false                  true           NaN   \n",
       "\n",
       "     ram:biomassPercentage ram:molecularWeight ram:objectiveWeight  \\\n",
       "116                    0.0                None                None   \n",
       "117                    0.0                None                None   \n",
       "118                    0.0                None                None   \n",
       "119                    0.0                None                None   \n",
       "120                    0.0                None                None   \n",
       "121                    0.0                None                None   \n",
       "122                    0.0                None                None   \n",
       "123                    0.0                None                None   \n",
       "124                    0.0                None                None   \n",
       "125                    0.0                None                None   \n",
       "126                    0.0                None                None   \n",
       "127                    0.0                None                None   \n",
       "128                    0.0                None                None   \n",
       "129                    0.0                None                None   \n",
       "130                    0.0                None                None   \n",
       "\n",
       "    ram:speciesType  degradationRate  \n",
       "116          enzyme              0.2  \n",
       "117          enzyme              0.2  \n",
       "118          enzyme              0.2  \n",
       "119          enzyme              0.2  \n",
       "120          enzyme              0.2  \n",
       "121          enzyme              0.2  \n",
       "122          enzyme              0.2  \n",
       "123          enzyme              0.2  \n",
       "124          enzyme              0.2  \n",
       "125          enzyme              0.2  \n",
       "126          enzyme              0.2  \n",
       "127          enzyme              0.2  \n",
       "128          enzyme              0.2  \n",
       "129          enzyme              0.2  \n",
       "130          enzyme              0.2  "
      ]
     },
     "execution_count": 35,
     "metadata": {},
     "output_type": "execute_result"
    }
   ],
   "source": [
    "rp"
   ]
  },
  {
   "cell_type": "markdown",
   "metadata": {},
   "source": [
    "### Quota $\\mathcal{Q}$"
   ]
  },
  {
   "cell_type": "code",
   "execution_count": 36,
   "metadata": {},
   "outputs": [],
   "source": [
    "quota = SI1[['Reaction']].loc[SI1['Protein'] == \"Biomass production flux\"]"
   ]
  },
  {
   "cell_type": "code",
   "execution_count": 37,
   "metadata": {},
   "outputs": [],
   "source": [
    "biomass_rxn = quota['Reaction'].values"
   ]
  },
  {
   "cell_type": "code",
   "execution_count": 38,
   "metadata": {},
   "outputs": [],
   "source": [
    "stoich = []\n",
    "spec = []\n",
    "product = False\n",
    "\n",
    "for s in biomass_rxn[0].split():\n",
    "    if '-' in s:\n",
    "        product = True\n",
    "    try:\n",
    "        s = float(s)\n",
    "        if product:\n",
    "            stoich.append(s)\n",
    "        else:\n",
    "            stoich.append(-s)\n",
    "    except ValueError:\n",
    "        if '+' not in s and '-' not in s:\n",
    "            spec.append(s)"
   ]
  },
  {
   "cell_type": "code",
   "execution_count": 39,
   "metadata": {},
   "outputs": [],
   "source": [
    "# molecular weights of each metabolite in biomass/quota_rest reaction (from CHEBI)\n",
    "mw_mol = [503.15, 662.42, 741.38, 258.12, 258.12, 228.09, 198.07, 170.06, 183.03, 165.02, 87.05, 805.54, 130.06, 144.08, 763.50, 424.18, 94.98, 663.42, 740.38, 1.007, 1000]\n",
    "# mw_mol = [503.15, 662.42, 741.38, 258.12, 258.12, 228.09, 198.07, 170.06, 183.03, 165.02, 87.05, 805.54, 130.06, 144.08, 763.50, 424.18, 94.98, 663.42, 740.38, 1000]\n",
    "mw_mmol = [mw/1000 for mw in mw_mol]"
   ]
  },
  {
   "cell_type": "code",
   "execution_count": 40,
   "metadata": {},
   "outputs": [],
   "source": [
    "biomass = pd.DataFrame({'id': spec, 'stoichiometry': stoich, 'molecular weight [g/mmol]': mw_mmol})"
   ]
  },
  {
   "cell_type": "code",
   "execution_count": 41,
   "metadata": {},
   "outputs": [
    {
     "data": {
      "text/html": [
       "<div>\n",
       "<style scoped>\n",
       "    .dataframe tbody tr th:only-of-type {\n",
       "        vertical-align: middle;\n",
       "    }\n",
       "\n",
       "    .dataframe tbody tr th {\n",
       "        vertical-align: top;\n",
       "    }\n",
       "\n",
       "    .dataframe thead th {\n",
       "        text-align: right;\n",
       "    }\n",
       "</style>\n",
       "<table border=\"1\" class=\"dataframe\">\n",
       "  <thead>\n",
       "    <tr style=\"text-align: right;\">\n",
       "      <th></th>\n",
       "      <th>id</th>\n",
       "      <th>stoichiometry</th>\n",
       "      <th>molecular weight [g/mmol]</th>\n",
       "      <th>weight [g]</th>\n",
       "    </tr>\n",
       "  </thead>\n",
       "  <tbody>\n",
       "    <tr>\n",
       "      <th>0</th>\n",
       "      <td>ATP</td>\n",
       "      <td>-41.25</td>\n",
       "      <td>0.503150</td>\n",
       "      <td>-20.754938</td>\n",
       "    </tr>\n",
       "    <tr>\n",
       "      <th>1</th>\n",
       "      <td>NAD</td>\n",
       "      <td>-3.54</td>\n",
       "      <td>0.662420</td>\n",
       "      <td>-2.344967</td>\n",
       "    </tr>\n",
       "    <tr>\n",
       "      <th>2</th>\n",
       "      <td>NADPH</td>\n",
       "      <td>-18.22</td>\n",
       "      <td>0.741380</td>\n",
       "      <td>-13.507944</td>\n",
       "    </tr>\n",
       "    <tr>\n",
       "      <th>3</th>\n",
       "      <td>G6P</td>\n",
       "      <td>-0.20</td>\n",
       "      <td>0.258120</td>\n",
       "      <td>-0.051624</td>\n",
       "    </tr>\n",
       "    <tr>\n",
       "      <th>4</th>\n",
       "      <td>F6P</td>\n",
       "      <td>-0.07</td>\n",
       "      <td>0.258120</td>\n",
       "      <td>-0.018068</td>\n",
       "    </tr>\n",
       "    <tr>\n",
       "      <th>5</th>\n",
       "      <td>R5P</td>\n",
       "      <td>-0.89</td>\n",
       "      <td>0.228090</td>\n",
       "      <td>-0.203000</td>\n",
       "    </tr>\n",
       "    <tr>\n",
       "      <th>6</th>\n",
       "      <td>E4P</td>\n",
       "      <td>-0.36</td>\n",
       "      <td>0.198070</td>\n",
       "      <td>-0.071305</td>\n",
       "    </tr>\n",
       "    <tr>\n",
       "      <th>7</th>\n",
       "      <td>T3P1</td>\n",
       "      <td>-0.12</td>\n",
       "      <td>0.170060</td>\n",
       "      <td>-0.020407</td>\n",
       "    </tr>\n",
       "    <tr>\n",
       "      <th>8</th>\n",
       "      <td>PG3</td>\n",
       "      <td>-1.49</td>\n",
       "      <td>0.183030</td>\n",
       "      <td>-0.272715</td>\n",
       "    </tr>\n",
       "    <tr>\n",
       "      <th>9</th>\n",
       "      <td>PEP</td>\n",
       "      <td>-0.51</td>\n",
       "      <td>0.165020</td>\n",
       "      <td>-0.084160</td>\n",
       "    </tr>\n",
       "    <tr>\n",
       "      <th>10</th>\n",
       "      <td>PYR</td>\n",
       "      <td>-2.83</td>\n",
       "      <td>0.087050</td>\n",
       "      <td>-0.246352</td>\n",
       "    </tr>\n",
       "    <tr>\n",
       "      <th>11</th>\n",
       "      <td>ACCOA</td>\n",
       "      <td>-3.74</td>\n",
       "      <td>0.805540</td>\n",
       "      <td>-3.012720</td>\n",
       "    </tr>\n",
       "    <tr>\n",
       "      <th>12</th>\n",
       "      <td>OA</td>\n",
       "      <td>-1.78</td>\n",
       "      <td>0.130060</td>\n",
       "      <td>-0.231507</td>\n",
       "    </tr>\n",
       "    <tr>\n",
       "      <th>13</th>\n",
       "      <td>AKG</td>\n",
       "      <td>-1.07</td>\n",
       "      <td>0.144080</td>\n",
       "      <td>-0.154166</td>\n",
       "    </tr>\n",
       "    <tr>\n",
       "      <th>14</th>\n",
       "      <td>COA</td>\n",
       "      <td>3.74</td>\n",
       "      <td>0.763500</td>\n",
       "      <td>2.855490</td>\n",
       "    </tr>\n",
       "    <tr>\n",
       "      <th>15</th>\n",
       "      <td>ADP</td>\n",
       "      <td>41.25</td>\n",
       "      <td>0.424180</td>\n",
       "      <td>17.497425</td>\n",
       "    </tr>\n",
       "    <tr>\n",
       "      <th>16</th>\n",
       "      <td>PI</td>\n",
       "      <td>41.25</td>\n",
       "      <td>0.094980</td>\n",
       "      <td>3.917925</td>\n",
       "    </tr>\n",
       "    <tr>\n",
       "      <th>17</th>\n",
       "      <td>NADH</td>\n",
       "      <td>3.54</td>\n",
       "      <td>0.663420</td>\n",
       "      <td>2.348507</td>\n",
       "    </tr>\n",
       "    <tr>\n",
       "      <th>18</th>\n",
       "      <td>NADP</td>\n",
       "      <td>18.22</td>\n",
       "      <td>0.740380</td>\n",
       "      <td>13.489724</td>\n",
       "    </tr>\n",
       "    <tr>\n",
       "      <th>19</th>\n",
       "      <td>H</td>\n",
       "      <td>41.25</td>\n",
       "      <td>0.001007</td>\n",
       "      <td>0.041539</td>\n",
       "    </tr>\n",
       "    <tr>\n",
       "      <th>20</th>\n",
       "      <td>Biomass</td>\n",
       "      <td>1.00</td>\n",
       "      <td>1.000000</td>\n",
       "      <td>1.000000</td>\n",
       "    </tr>\n",
       "  </tbody>\n",
       "</table>\n",
       "</div>"
      ],
      "text/plain": [
       "         id  stoichiometry  molecular weight [g/mmol]  weight [g]\n",
       "0       ATP         -41.25                   0.503150  -20.754938\n",
       "1       NAD          -3.54                   0.662420   -2.344967\n",
       "2     NADPH         -18.22                   0.741380  -13.507944\n",
       "3       G6P          -0.20                   0.258120   -0.051624\n",
       "4       F6P          -0.07                   0.258120   -0.018068\n",
       "5       R5P          -0.89                   0.228090   -0.203000\n",
       "6       E4P          -0.36                   0.198070   -0.071305\n",
       "7      T3P1          -0.12                   0.170060   -0.020407\n",
       "8       PG3          -1.49                   0.183030   -0.272715\n",
       "9       PEP          -0.51                   0.165020   -0.084160\n",
       "10      PYR          -2.83                   0.087050   -0.246352\n",
       "11    ACCOA          -3.74                   0.805540   -3.012720\n",
       "12       OA          -1.78                   0.130060   -0.231507\n",
       "13      AKG          -1.07                   0.144080   -0.154166\n",
       "14      COA           3.74                   0.763500    2.855490\n",
       "15      ADP          41.25                   0.424180   17.497425\n",
       "16       PI          41.25                   0.094980    3.917925\n",
       "17     NADH           3.54                   0.663420    2.348507\n",
       "18     NADP          18.22                   0.740380   13.489724\n",
       "19        H          41.25                   0.001007    0.041539\n",
       "20  Biomass           1.00                   1.000000    1.000000"
      ]
     },
     "execution_count": 41,
     "metadata": {},
     "output_type": "execute_result"
    }
   ],
   "source": [
    "biomass['weight [g]'] = biomass['stoichiometry'] * biomass['molecular weight [g/mmol]']\n",
    "biomass"
   ]
  },
  {
   "cell_type": "code",
   "execution_count": 42,
   "metadata": {},
   "outputs": [],
   "source": [
    "# calculate weight of biomass\n",
    "educt_surplus = biomass['weight [g]'].sum() - 1.0 # subtract biomass 'weight'\n",
    "biomass_weight = -educt_surplus # new biomass weight equals educt surplus"
   ]
  },
  {
   "cell_type": "code",
   "execution_count": 43,
   "metadata": {},
   "outputs": [],
   "source": [
    "# set weight of 'biomass', which will be reformulated as Quota_rest\n",
    "biomass.at[biomass['id'] == 'Biomass', 'biomass_weight'] = biomass_weight"
   ]
  },
  {
   "cell_type": "markdown",
   "metadata": {},
   "source": [
    "Fraction of proteins $\\varphi_{\\mathrm{protein}}$ is set to 0.55 (for details, see report), so the 'remaining' quota will make up 45 %"
   ]
  },
  {
   "cell_type": "code",
   "execution_count": 44,
   "metadata": {},
   "outputs": [],
   "source": [
    "# add attributes for quota 'rest'\n",
    "quota[\"ID\"] = 'Quota_rest'\n",
    "quota[\"ram:molecularWeight\"] = biomass_weight\n",
    "quota[\"ram:objectiveWeight\"] = biomass_weight\n",
    "quota[\"ram:biomassPercentage\"] = 0.45\n",
    "quota[\"degradationRate\"] = parameters['quota_rest_degradation']\n",
    "quota[\"initialAmount\"] = 0.45"
   ]
  },
  {
   "cell_type": "code",
   "execution_count": 45,
   "metadata": {},
   "outputs": [
    {
     "data": {
      "text/html": [
       "<div>\n",
       "<style scoped>\n",
       "    .dataframe tbody tr th:only-of-type {\n",
       "        vertical-align: middle;\n",
       "    }\n",
       "\n",
       "    .dataframe tbody tr th {\n",
       "        vertical-align: top;\n",
       "    }\n",
       "\n",
       "    .dataframe thead th {\n",
       "        text-align: right;\n",
       "    }\n",
       "</style>\n",
       "<table border=\"1\" class=\"dataframe\">\n",
       "  <thead>\n",
       "    <tr style=\"text-align: right;\">\n",
       "      <th></th>\n",
       "      <th>Reaction</th>\n",
       "      <th>ID</th>\n",
       "      <th>ram:molecularWeight</th>\n",
       "      <th>ram:objectiveWeight</th>\n",
       "      <th>ram:biomassPercentage</th>\n",
       "      <th>degradationRate</th>\n",
       "      <th>initialAmount</th>\n",
       "    </tr>\n",
       "  </thead>\n",
       "  <tbody>\n",
       "    <tr>\n",
       "      <th>99</th>\n",
       "      <td>41.25 ATP + 3.54 NAD + 18.22 NADPH + 0.2 G6P +...</td>\n",
       "      <td>Quota_rest</td>\n",
       "      <td>0.823262</td>\n",
       "      <td>0.823262</td>\n",
       "      <td>0.45</td>\n",
       "      <td>0.001</td>\n",
       "      <td>0.45</td>\n",
       "    </tr>\n",
       "  </tbody>\n",
       "</table>\n",
       "</div>"
      ],
      "text/plain": [
       "                                             Reaction          ID  \\\n",
       "99  41.25 ATP + 3.54 NAD + 18.22 NADPH + 0.2 G6P +...  Quota_rest   \n",
       "\n",
       "    ram:molecularWeight  ram:objectiveWeight  ram:biomassPercentage  \\\n",
       "99             0.823262             0.823262                   0.45   \n",
       "\n",
       "    degradationRate  initialAmount  \n",
       "99            0.001           0.45  "
      ]
     },
     "execution_count": 45,
     "metadata": {},
     "output_type": "execute_result"
    }
   ],
   "source": [
    "quota"
   ]
  },
  {
   "cell_type": "markdown",
   "metadata": {},
   "source": [
    "#### adjust protein fraction $\\phi^*_{\\text{protein}}$\n",
    "Determine fraction of proteins explicitly modeled using data by *Li et al.* for E. coli on minimal medium"
   ]
  },
  {
   "cell_type": "code",
   "execution_count": 46,
   "metadata": {
    "scrolled": true
   },
   "outputs": [],
   "source": [
    "li = pd.read_csv('Li_minimal.tsv', sep='\\t')"
   ]
  },
  {
   "cell_type": "code",
   "execution_count": 47,
   "metadata": {},
   "outputs": [],
   "source": [
    "li = li.rename(columns={\"!Protein:Identifier\": \"protein_id\"})\n",
    "li = li.rename(columns={\"!Protein:Name\": \"protein_name\"})"
   ]
  },
  {
   "cell_type": "code",
   "execution_count": 48,
   "metadata": {},
   "outputs": [],
   "source": [
    "subunits = pd.DataFrame(genes_list, columns=['Gene'])"
   ]
  },
  {
   "cell_type": "code",
   "execution_count": 49,
   "metadata": {
    "scrolled": true
   },
   "outputs": [],
   "source": [
    "# fixed line 3. Was:\n",
    "# abundance = li.loc[li['protein_name'] == unit, '!Abundance:[original]'].iloc[0]\n",
    "# doesn't make sense to mix Abundance:[original] with Abundance:[ppm] (next cell)\n",
    "\n",
    "for unit in subunits['Gene']:\n",
    "    if unit in li['protein_name'].tolist():\n",
    "        abundance = li.loc[li['protein_name'] == unit, '!Abundance:[ppm]'].iloc[0]\n",
    "        subunits.loc[subunits.Gene == unit, 'Abundance'] = abundance"
   ]
  },
  {
   "cell_type": "code",
   "execution_count": 50,
   "metadata": {},
   "outputs": [],
   "source": [
    "# manual curation\n",
    "subunits.loc[subunits.Gene == 'lpdA', 'Abundance'] = li.loc[li['protein_name'] == 'lpd', '!Abundance:[ppm]'].iloc[0]\n",
    "subunits.loc[subunits.Gene == 'ackA', 'Abundance'] = li.loc[li['protein_name'] == 'AckA', '!Abundance:[ppm]'].iloc[0]\n",
    "subunits.loc[subunits.Gene == 'atpB', 'Abundance'] = li.loc[li['protein_name'] == 'AtpB', '!Abundance:[ppm]'].iloc[0]\n",
    "subunits.loc[subunits.Gene == 'eno', 'Abundance'] = li.loc[li['protein_name'] == 'Eno', '!Abundance:[ppm]'].iloc[0]\n",
    "subunits.loc[subunits.Gene == 'fba', 'Abundance'] = li.loc[li['protein_name'] == 'fbaA', '!Abundance:[ppm]'].iloc[0]\n",
    "subunits.loc[subunits.Gene == 'fbp', 'Abundance'] = li.loc[li['protein_name'] == 'Fbp', '!Abundance:[ppm]'].iloc[0]\n",
    "subunits.loc[subunits.Gene == 'icdA', 'Abundance'] = li.loc[li['protein_name'] == 'Icd', '!Abundance:[ppm]'].iloc[0]\n",
    "subunits.loc[subunits.Gene == 'pflA', 'Abundance'] = li.loc[li['protein_id'] == 'b0902', '!Abundance:[ppm]'].iloc[0]\n",
    "subunits.loc[subunits.Gene == 'ppsA', 'Abundance'] = li.loc[li['protein_name'] == 'PpsA', '!Abundance:[ppm]'].iloc[0]\n",
    "subunits.loc[subunits.Gene == 'rbsB', 'Abundance'] = li.loc[li['protein_name'] == 'RbsB', '!Abundance:[ppm]'].iloc[0]\n",
    "subunits.loc[subunits.Gene == 'glpR', 'Abundance'] = li.loc[li['protein_id'] == 'b3423', '!Abundance:[ppm]'].iloc[0]\n",
    "subunits.loc[subunits.Gene == 'lacI', 'Abundance'] = li.loc[li['protein_id'] == 'b0345', '!Abundance:[ppm]'].iloc[0]\n",
    "subunits.loc[subunits.Gene == 'rpiR', 'Abundance'] = li.loc[li['protein_id'] == 'b4089', '!Abundance:[ppm]'].iloc[0]\n"
   ]
  },
  {
   "cell_type": "code",
   "execution_count": 51,
   "metadata": {},
   "outputs": [],
   "source": [
    "def my_floor(a, precision=0):\n",
    "    return np.round(a - 0.5 * 10**(-precision), precision)\n",
    "\n",
    "sum_total = li['!Abundance:[ppm]'].sum()\n",
    "sum_explicit = subunits['Abundance'].sum()\n",
    "# frac_explicit = sum_explicit / (sum_total - sum_explicit)\n",
    "frac_explicit = sum_explicit / sum_total\n",
    "frac_adjusted_total = 0.55*(1-frac_explicit)\n",
    "frac_explicit_total_precise = frac_explicit * 0.55\n",
    "frac_explicit_total = my_floor(frac_explicit_total_precise, 3)"
   ]
  },
  {
   "cell_type": "code",
   "execution_count": 52,
   "metadata": {
    "scrolled": true
   },
   "outputs": [
    {
     "name": "stdout",
     "output_type": "stream",
     "text": [
      "The fraction of protein explicitly modeled in the dataset by Li et al. is 31.887869%. Therefore, the adjusted protein quota is 37.461672% and the fraction of explicitly modeled proteins in the model is 17.538328%\n"
     ]
    }
   ],
   "source": [
    "print(\"The fraction of protein explicitly modeled in the dataset by Li et al. is %f%%. Therefore, the adjusted protein quota is %f%% and the fraction of explicitly modeled proteins in the model is %f%%\" %(frac_explicit*100, frac_adjusted_total*100, (0.55-frac_adjusted_total)*100))"
   ]
  },
  {
   "cell_type": "code",
   "execution_count": 53,
   "metadata": {},
   "outputs": [],
   "source": [
    "proteins = SI1[['ID', 'Gene']].copy()"
   ]
  },
  {
   "cell_type": "code",
   "execution_count": 54,
   "metadata": {},
   "outputs": [],
   "source": [
    "# delete rows without Gene\n",
    "proteins.dropna(subset=['Gene'], inplace=True) # in place: Keep df with valid entries in the same variable"
   ]
  },
  {
   "cell_type": "code",
   "execution_count": 55,
   "metadata": {},
   "outputs": [],
   "source": [
    "proteins['Abundance'] = None\n",
    "proteins['Length'] = None"
   ]
  },
  {
   "cell_type": "code",
   "execution_count": 56,
   "metadata": {},
   "outputs": [],
   "source": [
    "for index, value in proteins['Gene'].items():\n",
    "    abundance = 0\n",
    "    for g in value.split(', '):\n",
    "        try:\n",
    "            abundance = abundance + subunits.loc[subunits['Gene'] == g, 'Abundance'].values[0]\n",
    "        except ValueError:\n",
    "            print(value)\n",
    "    proteins['Abundance'][index] = abundance"
   ]
  },
  {
   "cell_type": "code",
   "execution_count": 57,
   "metadata": {},
   "outputs": [],
   "source": [
    "uniprot = pd.read_csv('uniprot.tsv', sep='\\t')"
   ]
  },
  {
   "cell_type": "code",
   "execution_count": 58,
   "metadata": {},
   "outputs": [],
   "source": [
    "for index, value in proteins['Gene'].items():\n",
    "    length = 0\n",
    "    for g in value.split(', '):\n",
    "        try:\n",
    "            length = length + uniprot.loc[uniprot['yourlist'] == g, 'Length'].values[0]\n",
    "        except ValueError:\n",
    "            pass\n",
    "    proteins['Length'][index] = length"
   ]
  },
  {
   "cell_type": "code",
   "execution_count": 59,
   "metadata": {},
   "outputs": [],
   "source": [
    "proteins['model_MW / mmol'] = proteins['Length'] * 0.1331"
   ]
  },
  {
   "cell_type": "code",
   "execution_count": 60,
   "metadata": {},
   "outputs": [],
   "source": [
    "proteins['Weighted_Abundance'] = proteins['model_MW / mmol'] * proteins['Abundance']"
   ]
  },
  {
   "cell_type": "code",
   "execution_count": 61,
   "metadata": {},
   "outputs": [],
   "source": [
    "# compute factor, such that the weighted sum of all explicitly modeled proteins will be equal to the computed fraction of biomass\n",
    "adjust_factor = frac_explicit_total / proteins['Weighted_Abundance'].sum()"
   ]
  },
  {
   "cell_type": "code",
   "execution_count": 62,
   "metadata": {},
   "outputs": [],
   "source": [
    "proteins['Abundance_adjusted'] = proteins['Abundance'] * adjust_factor"
   ]
  },
  {
   "cell_type": "code",
   "execution_count": 63,
   "metadata": {},
   "outputs": [],
   "source": [
    "proteins['Weighted_Abundance_adjusted'] =  proteins['model_MW / mmol'] * proteins['Abundance_adjusted']"
   ]
  },
  {
   "cell_type": "code",
   "execution_count": 64,
   "metadata": {},
   "outputs": [
    {
     "data": {
      "text/plain": [
       "0.175"
      ]
     },
     "execution_count": 64,
     "metadata": {},
     "output_type": "execute_result"
    }
   ],
   "source": [
    "proteins['Weighted_Abundance_adjusted'].sum()"
   ]
  },
  {
   "cell_type": "code",
   "execution_count": 65,
   "metadata": {},
   "outputs": [
    {
     "name": "stderr",
     "output_type": "stream",
     "text": [
      "/tmp/ipykernel_27889/4287362681.py:6: SettingWithCopyWarning: \n",
      "A value is trying to be set on a copy of a slice from a DataFrame\n",
      "\n",
      "See the caveats in the documentation: https://pandas.pydata.org/pandas-docs/stable/user_guide/indexing.html#returning-a-view-versus-a-copy\n",
      "  enzymes[\"initialAmount\"][index] = proteins.loc[proteins['Gene'] == value, 'Abundance_adjusted'].values[0]\n"
     ]
    }
   ],
   "source": [
    "# FIXED: Weighted_Abundance_adjusted was assigned as initial value.\n",
    "#        It should be 'Abundance_adjusted', as stated\n",
    "\n",
    "# Abundance adjusted = initial amount\n",
    "for index, value in enzymes['Gene'].items():\n",
    "    enzymes[\"initialAmount\"][index] = proteins.loc[proteins['Gene'] == value, 'Abundance_adjusted'].values[0]\n"
   ]
  },
  {
   "cell_type": "code",
   "execution_count": 66,
   "metadata": {},
   "outputs": [
    {
     "name": "stderr",
     "output_type": "stream",
     "text": [
      "/tmp/ipykernel_27889/2766946307.py:5: SettingWithCopyWarning: \n",
      "A value is trying to be set on a copy of a slice from a DataFrame\n",
      "\n",
      "See the caveats in the documentation: https://pandas.pydata.org/pandas-docs/stable/user_guide/indexing.html#returning-a-view-versus-a-copy\n",
      "  rp[\"initialAmount\"][index] = proteins.loc[proteins['Gene'] == value, 'Abundance_adjusted'].values[0]\n"
     ]
    }
   ],
   "source": [
    "# FIXED: Weighted_Abundance_adjusted was assigned as initial value.\n",
    "#        It should be 'Abundance_adjusted', as stated\n",
    "\n",
    "for index, value in rp['Gene'].items():\n",
    "    rp[\"initialAmount\"][index] = proteins.loc[proteins['Gene'] == value, 'Abundance_adjusted'].values[0]\n"
   ]
  },
  {
   "cell_type": "code",
   "execution_count": 67,
   "metadata": {},
   "outputs": [
    {
     "name": "stderr",
     "output_type": "stream",
     "text": [
      "/tmp/ipykernel_27889/2519910537.py:3: FutureWarning: The frame.append method is deprecated and will be removed from pandas in a future version. Use pandas.concat instead.\n",
      "  quota = quota.append({\"ID\": 'Quota_protein', \"Gene\": 'R', \"ram:biomassPercentage\": frac_adjusted_total, \"degradationRate\": parameters['quota_protein_degradation'], \"initialAmount\": frac_adjusted_total}, ignore_index=True)\n"
     ]
    }
   ],
   "source": [
    "# add protein quota\n",
    "# weights are determined later: length will be set to median length of all proteins explicitly modeled\n",
    "quota = quota.append({\"ID\": 'Quota_protein', \"Gene\": 'R', \"ram:biomassPercentage\": frac_adjusted_total, \"degradationRate\": parameters['quota_protein_degradation'], \"initialAmount\": frac_adjusted_total}, ignore_index=True)"
   ]
  },
  {
   "cell_type": "code",
   "execution_count": 68,
   "metadata": {},
   "outputs": [],
   "source": [
    "quota['compartment'] = 'cytosol'\n",
    "quota['ram:molecularWeight'] = 1.0\n",
    "quota['ram:objectiveWeight'] = 1.0"
   ]
  },
  {
   "cell_type": "code",
   "execution_count": 69,
   "metadata": {
    "scrolled": true
   },
   "outputs": [
    {
     "data": {
      "text/html": [
       "<div>\n",
       "<style scoped>\n",
       "    .dataframe tbody tr th:only-of-type {\n",
       "        vertical-align: middle;\n",
       "    }\n",
       "\n",
       "    .dataframe tbody tr th {\n",
       "        vertical-align: top;\n",
       "    }\n",
       "\n",
       "    .dataframe thead th {\n",
       "        text-align: right;\n",
       "    }\n",
       "</style>\n",
       "<table border=\"1\" class=\"dataframe\">\n",
       "  <thead>\n",
       "    <tr style=\"text-align: right;\">\n",
       "      <th></th>\n",
       "      <th>Reaction</th>\n",
       "      <th>ID</th>\n",
       "      <th>ram:molecularWeight</th>\n",
       "      <th>ram:objectiveWeight</th>\n",
       "      <th>ram:biomassPercentage</th>\n",
       "      <th>degradationRate</th>\n",
       "      <th>initialAmount</th>\n",
       "      <th>Gene</th>\n",
       "      <th>compartment</th>\n",
       "    </tr>\n",
       "  </thead>\n",
       "  <tbody>\n",
       "    <tr>\n",
       "      <th>0</th>\n",
       "      <td>41.25 ATP + 3.54 NAD + 18.22 NADPH + 0.2 G6P +...</td>\n",
       "      <td>Quota_rest</td>\n",
       "      <td>1.0</td>\n",
       "      <td>1.0</td>\n",
       "      <td>0.450000</td>\n",
       "      <td>0.001</td>\n",
       "      <td>0.450000</td>\n",
       "      <td>NaN</td>\n",
       "      <td>cytosol</td>\n",
       "    </tr>\n",
       "    <tr>\n",
       "      <th>1</th>\n",
       "      <td>NaN</td>\n",
       "      <td>Quota_protein</td>\n",
       "      <td>1.0</td>\n",
       "      <td>1.0</td>\n",
       "      <td>0.374617</td>\n",
       "      <td>0.010</td>\n",
       "      <td>0.374617</td>\n",
       "      <td>R</td>\n",
       "      <td>cytosol</td>\n",
       "    </tr>\n",
       "  </tbody>\n",
       "</table>\n",
       "</div>"
      ],
      "text/plain": [
       "                                            Reaction             ID  \\\n",
       "0  41.25 ATP + 3.54 NAD + 18.22 NADPH + 0.2 G6P +...     Quota_rest   \n",
       "1                                                NaN  Quota_protein   \n",
       "\n",
       "   ram:molecularWeight  ram:objectiveWeight  ram:biomassPercentage  \\\n",
       "0                  1.0                  1.0               0.450000   \n",
       "1                  1.0                  1.0               0.374617   \n",
       "\n",
       "   degradationRate  initialAmount Gene compartment  \n",
       "0            0.001       0.450000  NaN     cytosol  \n",
       "1            0.010       0.374617    R     cytosol  "
      ]
     },
     "execution_count": 69,
     "metadata": {},
     "output_type": "execute_result"
    }
   ],
   "source": [
    "quota"
   ]
  },
  {
   "cell_type": "markdown",
   "metadata": {},
   "source": [
    "# Reactions $\\mathcal{R}$"
   ]
  },
  {
   "cell_type": "markdown",
   "metadata": {},
   "source": [
    "## Metabolic Reactions $\\mathcal{R_X}$ and Uptake Reactions $\\mathcal{R_Y}$"
   ]
  },
  {
   "cell_type": "code",
   "execution_count": 70,
   "metadata": {},
   "outputs": [],
   "source": [
    "# create copy of first part of SI\n",
    "reactions = SI1[['ID', 'Protein', 'Gene', 'Reaction']].copy()"
   ]
  },
  {
   "cell_type": "code",
   "execution_count": 71,
   "metadata": {},
   "outputs": [],
   "source": [
    "# delete rows without Reaction\n",
    "reactions.dropna(subset=['Reaction'], inplace=True)"
   ]
  },
  {
   "cell_type": "code",
   "execution_count": 72,
   "metadata": {},
   "outputs": [],
   "source": [
    "# delete exchange reactions\n",
    "reactions = reactions[~reactions.Protein.str.contains('exchange')]"
   ]
  },
  {
   "cell_type": "code",
   "execution_count": 73,
   "metadata": {},
   "outputs": [],
   "source": [
    "# delete maintenance and biomass reactions\n",
    "reactions.drop(reactions[reactions.ID == 'ATPM'].index, inplace=True)\n",
    "reactions.drop(reactions[reactions.ID == 'VGRO'].index, inplace=True)"
   ]
  },
  {
   "cell_type": "code",
   "execution_count": 74,
   "metadata": {},
   "outputs": [
    {
     "name": "stderr",
     "output_type": "stream",
     "text": [
      "/tmp/ipykernel_27889/607222692.py:2: FutureWarning: The frame.append method is deprecated and will be removed from pandas in a future version. Use pandas.concat instead.\n",
      "  reactions = reactions.append({'ID': 'ASPT', 'Protein': 'L-aspartase', 'Reaction': 'FUM <-> Z'}, ignore_index=True)\n"
     ]
    }
   ],
   "source": [
    "# add reaction for amino acid\n",
    "reactions = reactions.append({'ID': 'ASPT', 'Protein': 'L-aspartase', 'Reaction': 'FUM <-> Z'}, ignore_index=True)"
   ]
  },
  {
   "cell_type": "markdown",
   "metadata": {},
   "source": [
    "### turnover rates"
   ]
  },
  {
   "cell_type": "code",
   "execution_count": 75,
   "metadata": {},
   "outputs": [],
   "source": [
    "reactions_turnover = pd.read_csv('TurnoverRates.tsv', sep='\\t')"
   ]
  },
  {
   "cell_type": "code",
   "execution_count": 76,
   "metadata": {},
   "outputs": [],
   "source": [
    "# add column with boolean variable\n",
    "reactions_turnover['transport'] = 1\n",
    "reactions_turnover['transport'] = reactions_turnover['Protein'].str.contains(\"transport|efflux|uptake|secretion|permease\")\n",
    "\n",
    "# split dataset\n",
    "turnover_transport = reactions_turnover.query(\"transport\")\n",
    "turnover_metabolic = reactions_turnover.query(\"transport == False\")"
   ]
  },
  {
   "cell_type": "code",
   "execution_count": 77,
   "metadata": {},
   "outputs": [],
   "source": [
    "missing = reactions_turnover['kcat_fwd/s'].str.count('kcat').sum()+reactions_turnover['kcat_bwd/s'].str.count('kcat').sum()+reactions_turnover['kcat_fwd/s'].str.count('diffusion').sum()+reactions_turnover['kcat_bwd/s'].str.count('diffusion').sum()"
   ]
  },
  {
   "cell_type": "code",
   "execution_count": 78,
   "metadata": {
    "scrolled": true
   },
   "outputs": [
    {
     "name": "stdout",
     "output_type": "stream",
     "text": [
      "Total number of reactions and reverse reactions: 152\n",
      "Missing values (total): 37 (24.342105 %)\n",
      "Missing values (metabolic): 7 (5.737705 %)\n",
      "Missing values (transport): 30 (100.000000 %)\n"
     ]
    }
   ],
   "source": [
    "print(\"Total number of reactions and reverse reactions: %i\" %(len(reactions_turnover)+reactions_turnover['reversible'].sum()))\n",
    "print(\"Missing values (total): %i (%f %%)\" %(missing, missing/(len(reactions_turnover)+reactions_turnover['reversible'].sum())*100))\n",
    "print(\"Missing values (metabolic): %i (%f %%)\" %(turnover_metabolic['kcat_fwd/s'].str.count('kcat').sum()+turnover_metabolic['kcat_bwd/s'].str.count('kcat').sum(), (turnover_metabolic['kcat_fwd/s'].str.count('kcat').sum()+turnover_metabolic['kcat_bwd/s'].str.count('kcat').sum())/(len(turnover_metabolic)+turnover_metabolic['reversible'].sum())*100))\n",
    "print(\"Missing values (transport): %i (%f %%)\" %(missing-turnover_metabolic['kcat_fwd/s'].str.count('kcat').sum()-turnover_metabolic['kcat_bwd/s'].str.count('kcat').sum(), (missing-turnover_metabolic['kcat_fwd/s'].str.count('kcat').sum()-turnover_metabolic['kcat_bwd/s'].str.count('kcat').sum())/(len(turnover_transport)+turnover_transport['reversible'].sum())*100))"
   ]
  },
  {
   "cell_type": "code",
   "execution_count": 79,
   "metadata": {},
   "outputs": [],
   "source": [
    "all_values = []\n",
    "\n",
    "# Iterate over two given columns only from the dataframe\n",
    "for column in reactions_turnover[['kcat_fwd/s', 'kcat_bwd/s']]:\n",
    "    # Select column contents by column name using [] operator\n",
    "    columnSeriesObj = reactions_turnover[column]\n",
    "    for v in columnSeriesObj.values:\n",
    "        try:\n",
    "            v = float(v)\n",
    "            if v > 0:\n",
    "                all_values.append(v)\n",
    "        except ValueError:\n",
    "            pass"
   ]
  },
  {
   "cell_type": "code",
   "execution_count": 80,
   "metadata": {},
   "outputs": [
    {
     "data": {
      "text/plain": [
       "66.6"
      ]
     },
     "execution_count": 80,
     "metadata": {},
     "output_type": "execute_result"
    }
   ],
   "source": [
    "np.median(all_values)\n",
    "#np.mean(all_values)"
   ]
  },
  {
   "cell_type": "code",
   "execution_count": 81,
   "metadata": {},
   "outputs": [],
   "source": [
    "reactions_turnover = reactions_turnover.replace(to_replace = 'kcat', value = np.median(all_values))\n",
    "reactions_turnover = reactions_turnover.replace(to_replace = 'diffusion', value = 0.0) # spontaneous rxns"
   ]
  },
  {
   "cell_type": "code",
   "execution_count": 82,
   "metadata": {},
   "outputs": [],
   "source": [
    "reactions_turnover[\"kcat_fwd/s\"] = pd.to_numeric(reactions_turnover[\"kcat_fwd/s\"])\n",
    "reactions_turnover[\"kcat_bwd/s\"] = pd.to_numeric(reactions_turnover[\"kcat_bwd/s\"])"
   ]
  },
  {
   "cell_type": "code",
   "execution_count": 83,
   "metadata": {},
   "outputs": [],
   "source": [
    "reactions_turnover[\"fbc:geneProductAssociation\"] = np.where(pd.isna(reactions_turnover[\"Gene\"]), np.nan, 'E_' + reactions_turnover[\"Covert ID\"])\n",
    "reactions_turnover['kcat_fwd/min'] = reactions_turnover['kcat_fwd/s'].apply(lambda x: x*60) # conversion from 1/s to 1/min\n",
    "reactions_turnover['kcat_bwd/min'] = reactions_turnover['kcat_bwd/s'].apply(lambda x: x*60) # conversion from 1/s to 1/min\n",
    "reactions_turnover[\"fbc:maintenanceScaling\"] = 0.0"
   ]
  },
  {
   "cell_type": "markdown",
   "metadata": {},
   "source": [
    "## Translation $\\mathcal{R_P}$"
   ]
  },
  {
   "cell_type": "code",
   "execution_count": 84,
   "metadata": {},
   "outputs": [],
   "source": [
    "# Ribosomal activity: 17 amino acids / s\n",
    "amino_acids_per_min = 1020\n",
    "# take molecular weight of Asp as MW for amino acid, i.e. 0.1331 g/mmol\n",
    "weight_amino_acid = 0.1331"
   ]
  },
  {
   "cell_type": "code",
   "execution_count": 85,
   "metadata": {},
   "outputs": [],
   "source": [
    "translation = SI1[['ID', 'Protein', 'Gene', 'Regulatory logic']].copy()"
   ]
  },
  {
   "cell_type": "code",
   "execution_count": 86,
   "metadata": {},
   "outputs": [],
   "source": [
    "# drop rows without Gene (spontaneous reactions...)\n",
    "translation.dropna(subset=['Gene'], inplace=True)"
   ]
  },
  {
   "cell_type": "code",
   "execution_count": 87,
   "metadata": {},
   "outputs": [],
   "source": [
    "# rename old ID column to \"Covert ID\"\n",
    "translation = translation.rename(columns={\"ID\": \"Covert ID\"})"
   ]
  },
  {
   "cell_type": "code",
   "execution_count": 88,
   "metadata": {},
   "outputs": [],
   "source": [
    "# create new ID\n",
    "translation['id_RP'] = translation['Gene'].map(lambda element: re.sub(\"(^|\\s)(\\S)\", repl_func, element))\n",
    "translation[\"ID\"] = np.where(pd.isna(translation[\"Covert ID\"]), 'T_' + translation[\"id_RP\"], 'T_' + translation[\"Covert ID\"])\n"
   ]
  },
  {
   "cell_type": "code",
   "execution_count": 89,
   "metadata": {},
   "outputs": [],
   "source": [
    "translation.loc[translation.ID == 'T_Fnr', 'ID'] = 'T_FNR'"
   ]
  },
  {
   "cell_type": "code",
   "execution_count": 90,
   "metadata": {},
   "outputs": [],
   "source": [
    "# create default ID of Boolean control variable\n",
    "translation[\"control variable\"] = np.where(pd.isna(translation[\"Covert ID\"]), 'qual_con_' + translation[\"Gene\"] + '_bar', 'qual_con_' + translation[\"Covert ID\"] + '_bar')"
   ]
  },
  {
   "cell_type": "code",
   "execution_count": 91,
   "metadata": {},
   "outputs": [],
   "source": [
    "translation[\"Length\"] = None"
   ]
  },
  {
   "cell_type": "code",
   "execution_count": 92,
   "metadata": {},
   "outputs": [],
   "source": [
    "for index, value in translation['Gene'].items():\n",
    "    length = 0\n",
    "    for g in value.split(', '):\n",
    "        try:\n",
    "            length = length + uniprot.loc[uniprot['yourlist'] == g, 'Length'].values[0]\n",
    "        except ValueError:\n",
    "            pass\n",
    "    translation['Length'][index] = length"
   ]
  },
  {
   "cell_type": "code",
   "execution_count": 93,
   "metadata": {},
   "outputs": [],
   "source": [
    "median_length = translation['Length'].median()"
   ]
  },
  {
   "cell_type": "code",
   "execution_count": 94,
   "metadata": {},
   "outputs": [
    {
     "name": "stderr",
     "output_type": "stream",
     "text": [
      "/tmp/ipykernel_27889/3594896242.py:2: FutureWarning: The frame.append method is deprecated and will be removed from pandas in a future version. Use pandas.concat instead.\n",
      "  translation = translation.append({\"ID\": 'T_Quota_protein', \"Length\": median_length}, ignore_index=True)\n"
     ]
    }
   ],
   "source": [
    "# append translation of protein quota\n",
    "translation = translation.append({\"ID\": 'T_Quota_protein', \"Length\": median_length}, ignore_index=True)"
   ]
  },
  {
   "cell_type": "code",
   "execution_count": 95,
   "metadata": {},
   "outputs": [],
   "source": [
    "translation[\"reversible\"] = 'false'\n",
    "translation['ram:kcatForward'] = round(translation['Length'].apply(lambda x: amino_acids_per_min/x),5)\n",
    "translation['ram:kcatBackward'] = 0.0\n",
    "translation[\"fbc:maintenanceScaling\"] = 0.0\n",
    "translation[\"fbc:geneProductAssociation\"] = 'R'"
   ]
  },
  {
   "cell_type": "markdown",
   "metadata": {},
   "source": [
    "### set weights for macromolecules"
   ]
  },
  {
   "cell_type": "code",
   "execution_count": 96,
   "metadata": {
    "scrolled": true
   },
   "outputs": [],
   "source": [
    "# take molecular weight of Asp as MW for amino acid, i.e. 0.1331 g/mmol\n",
    "for index, value in enzymes['id'].items():\n",
    "    weight = weight_amino_acid * float(translation.loc[translation['ID'] == value.replace('E_', 'T_'), 'Length'].values[0])\n",
    "    enzymes.at[index, \"ram:molecularWeight\"] = weight\n",
    "    enzymes.at[index, \"ram:objectiveWeight\"] = weight"
   ]
  },
  {
   "cell_type": "code",
   "execution_count": 97,
   "metadata": {},
   "outputs": [],
   "source": [
    "# take molecular weight of Asp as MW for amino acid, i.e. 0.1331 g/mmol\n",
    "for index, value in rp['id'].items():\n",
    "    weight = weight_amino_acid * float(translation.loc[translation['ID'] == value.replace('RP_', 'T_'), 'Length'].values[0])\n",
    "    rp.at[index, \"ram:molecularWeight\"] = weight\n",
    "    rp.at[index, \"ram:objectiveWeight\"] = weight"
   ]
  },
  {
   "cell_type": "code",
   "execution_count": 98,
   "metadata": {},
   "outputs": [
    {
     "data": {
      "text/html": [
       "<div>\n",
       "<style scoped>\n",
       "    .dataframe tbody tr th:only-of-type {\n",
       "        vertical-align: middle;\n",
       "    }\n",
       "\n",
       "    .dataframe tbody tr th {\n",
       "        vertical-align: top;\n",
       "    }\n",
       "\n",
       "    .dataframe thead th {\n",
       "        text-align: right;\n",
       "    }\n",
       "</style>\n",
       "<table border=\"1\" class=\"dataframe\">\n",
       "  <thead>\n",
       "    <tr style=\"text-align: right;\">\n",
       "      <th></th>\n",
       "      <th>Reaction</th>\n",
       "      <th>ID</th>\n",
       "      <th>ram:molecularWeight</th>\n",
       "      <th>ram:objectiveWeight</th>\n",
       "      <th>ram:biomassPercentage</th>\n",
       "      <th>degradationRate</th>\n",
       "      <th>initialAmount</th>\n",
       "      <th>Gene</th>\n",
       "      <th>compartment</th>\n",
       "    </tr>\n",
       "  </thead>\n",
       "  <tbody>\n",
       "    <tr>\n",
       "      <th>0</th>\n",
       "      <td>41.25 ATP + 3.54 NAD + 18.22 NADPH + 0.2 G6P +...</td>\n",
       "      <td>Quota_rest</td>\n",
       "      <td>1.0000</td>\n",
       "      <td>1.0000</td>\n",
       "      <td>0.450000</td>\n",
       "      <td>0.001</td>\n",
       "      <td>0.450000</td>\n",
       "      <td>NaN</td>\n",
       "      <td>cytosol</td>\n",
       "    </tr>\n",
       "    <tr>\n",
       "      <th>1</th>\n",
       "      <td>NaN</td>\n",
       "      <td>Quota_protein</td>\n",
       "      <td>61.3591</td>\n",
       "      <td>61.3591</td>\n",
       "      <td>0.374617</td>\n",
       "      <td>0.010</td>\n",
       "      <td>0.006105</td>\n",
       "      <td>R</td>\n",
       "      <td>cytosol</td>\n",
       "    </tr>\n",
       "  </tbody>\n",
       "</table>\n",
       "</div>"
      ],
      "text/plain": [
       "                                            Reaction             ID  \\\n",
       "0  41.25 ATP + 3.54 NAD + 18.22 NADPH + 0.2 G6P +...     Quota_rest   \n",
       "1                                                NaN  Quota_protein   \n",
       "\n",
       "   ram:molecularWeight  ram:objectiveWeight  ram:biomassPercentage  \\\n",
       "0               1.0000               1.0000               0.450000   \n",
       "1              61.3591              61.3591               0.374617   \n",
       "\n",
       "   degradationRate  initialAmount Gene compartment  \n",
       "0            0.001       0.450000  NaN     cytosol  \n",
       "1            0.010       0.006105    R     cytosol  "
      ]
     },
     "execution_count": 98,
     "metadata": {},
     "output_type": "execute_result"
    }
   ],
   "source": [
    "# FIXED: If we adjust the molecular weight, we also have to adjust the initial Amount accordingly\n",
    "# now set weights of protein quota\n",
    "quota.loc[quota['ID'] == 'Quota_protein', 'ram:molecularWeight'] = median_length * weight_amino_acid\n",
    "quota.loc[quota['ID'] == 'Quota_protein', 'ram:objectiveWeight'] = median_length * weight_amino_acid\n",
    "quota.loc[quota['ID'] == 'Quota_protein', 'initialAmount'] = quota.loc[quota['ID'] == 'Quota_protein', 'ram:biomassPercentage'] / (median_length * weight_amino_acid)\n",
    "quota"
   ]
  },
  {
   "cell_type": "markdown",
   "metadata": {},
   "source": [
    "## Maintenance Reaction $\\mathcal{R_M}$"
   ]
  },
  {
   "cell_type": "code",
   "execution_count": 99,
   "metadata": {},
   "outputs": [],
   "source": [
    "# filter maintenance reaction from SI\n",
    "main_df = SI1.filter(SI1[SI1.ID == 'ATPM'].index, axis = 0)"
   ]
  },
  {
   "cell_type": "markdown",
   "metadata": {},
   "source": [
    "# Regulated Proteins $p = \\mathcal{RE} \\cup \\mathcal{RP}$"
   ]
  },
  {
   "cell_type": "code",
   "execution_count": 100,
   "metadata": {},
   "outputs": [],
   "source": [
    "# create copy of first part of SI\n",
    "regulated = SI1[['ID', 'Protein', 'Gene', 'Regulatory logic']].copy()"
   ]
  },
  {
   "cell_type": "code",
   "execution_count": 101,
   "metadata": {},
   "outputs": [],
   "source": [
    "# delete rows without Regulation\n",
    "regulated.dropna(subset=['Regulatory logic'], inplace=True)"
   ]
  },
  {
   "cell_type": "code",
   "execution_count": 102,
   "metadata": {},
   "outputs": [],
   "source": [
    "# Create IDs of boolean variables representing gene expresssion for regulated proteins\n",
    "# regulated enzymes: 'G_' + ID (uppercase)\n",
    "# regulatory proteins: 'G_' + Gene (lowercase)\n",
    "regulated[\"bool_ID\"] = np.where(pd.isna(regulated[\"ID\"]), 'G_' + regulated[\"Gene\"] + '_bar', 'G_' + regulated[\"ID\"] + '_bar')"
   ]
  },
  {
   "cell_type": "markdown",
   "metadata": {},
   "source": [
    "## Events and Algebaric Rules"
   ]
  },
  {
   "cell_type": "code",
   "execution_count": 103,
   "metadata": {},
   "outputs": [],
   "source": [
    "events = pd.DataFrame()"
   ]
  },
  {
   "cell_type": "code",
   "execution_count": 104,
   "metadata": {},
   "outputs": [],
   "source": [
    "rules = pd.DataFrame()"
   ]
  },
  {
   "cell_type": "markdown",
   "metadata": {},
   "source": [
    "### Carbon Catabolite Repression and Crp"
   ]
  },
  {
   "cell_type": "code",
   "execution_count": 105,
   "metadata": {},
   "outputs": [
    {
     "name": "stderr",
     "output_type": "stream",
     "text": [
      "/tmp/ipykernel_27889/3014630782.py:3: FutureWarning: The frame.append method is deprecated and will be removed from pandas in a future version. Use pandas.concat instead.\n",
      "  events = events.append({'id':'low_LCTS_aux', 'variable':['GLCxt', 'LCTSxt'], 'relation':'lt', 'threshold':'theta_xt', 'assignment':['Lcts_neg_aux'], 'value':['1']}, ignore_index=True)\n",
      "/tmp/ipykernel_27889/3014630782.py:4: FutureWarning: The frame.append method is deprecated and will be removed from pandas in a future version. Use pandas.concat instead.\n",
      "  events = events.append({'id':'high_LCTS_aux', 'variable':['GLCxt', 'LCTSxt'], 'relation':'geq', 'threshold':'theta_xt', 'assignment':['Lcts_neg_aux'], 'value':['0']}, ignore_index=True)\n",
      "/tmp/ipykernel_27889/3014630782.py:6: FutureWarning: The frame.append method is deprecated and will be removed from pandas in a future version. Use pandas.concat instead.\n",
      "  events = events.append({'id':'low_RIB_aux', 'variable':['GLCxt', 'LCTSxt', 'RIBxt'], 'relation':'lt', 'threshold':'theta_xt', 'assignment':['Rib_neg_aux'], 'value':['1']}, ignore_index=True)\n",
      "/tmp/ipykernel_27889/3014630782.py:7: FutureWarning: The frame.append method is deprecated and will be removed from pandas in a future version. Use pandas.concat instead.\n",
      "  events = events.append({'id':'high_RIB_aux', 'variable':['GLCxt', 'LCTSxt', 'RIBxt'], 'relation':'geq', 'threshold':'theta_xt', 'assignment':['Rib_neg_aux'], 'value':['0']}, ignore_index=True)\n",
      "/tmp/ipykernel_27889/3014630782.py:9: FutureWarning: The frame.append method is deprecated and will be removed from pandas in a future version. Use pandas.concat instead.\n",
      "  events = events.append({'id':'low_GL_aux', 'variable':['GLCxt', 'LCTSxt', 'RIBxt', 'GLxt'], 'relation':'lt', 'threshold':'theta_xt', 'assignment':['Gl_neg_aux'], 'value':['1']}, ignore_index=True)\n",
      "/tmp/ipykernel_27889/3014630782.py:10: FutureWarning: The frame.append method is deprecated and will be removed from pandas in a future version. Use pandas.concat instead.\n",
      "  events = events.append({'id':'high_GL_aux', 'variable':['GLCxt', 'LCTSxt', 'RIBxt', 'GLxt'], 'relation':'geq', 'threshold':'theta_xt', 'assignment':['Gl_neg_aux'], 'value':['0']}, ignore_index=True)\n",
      "/tmp/ipykernel_27889/3014630782.py:12: FutureWarning: The frame.append method is deprecated and will be removed from pandas in a future version. Use pandas.concat instead.\n",
      "  events = events.append({'id':'low_LacPyr_aux', 'variable':['GLCxt', 'LCTSxt', 'RIBxt', 'GLxt', 'LACxt', 'PYRxt'], 'relation':'lt', 'threshold':'theta_xt', 'assignment':['LacPyr_neg_aux'], 'value':['1']}, ignore_index=True)\n",
      "/tmp/ipykernel_27889/3014630782.py:13: FutureWarning: The frame.append method is deprecated and will be removed from pandas in a future version. Use pandas.concat instead.\n",
      "  events = events.append({'id':'high_LacPyr_aux', 'variable':['GLCxt', 'LCTSxt', 'RIBxt', 'GLxt', 'LACxt', 'PYRxt'], 'relation':'geq', 'threshold':'theta_xt', 'assignment':['LacPyr_neg_aux'], 'value':['0']}, ignore_index=True)\n",
      "/tmp/ipykernel_27889/3014630782.py:15: FutureWarning: The frame.append method is deprecated and will be removed from pandas in a future version. Use pandas.concat instead.\n",
      "  events = events.append({'id':'low_SuccEth_aux', 'variable':['GLCxt', 'LCTSxt', 'RIBxt', 'GLxt', 'LACxt', 'PYRxt', 'SUCCxt', 'ETHxt'], 'relation':'lt', 'threshold':'theta_xt', 'assignment':['SuccEth_neg_aux'], 'value':['1']}, ignore_index=True)\n",
      "/tmp/ipykernel_27889/3014630782.py:16: FutureWarning: The frame.append method is deprecated and will be removed from pandas in a future version. Use pandas.concat instead.\n",
      "  events = events.append({'id':'high_SuccEth_aux', 'variable':['GLCxt', 'LCTSxt', 'RIBxt', 'GLxt', 'LACxt', 'PYRxt', 'SUCCxt', 'ETHxt'], 'relation':'geq', 'threshold':'theta_xt', 'assignment':['SuccEth_neg_aux'], 'value':['0']}, ignore_index=True)\n",
      "/tmp/ipykernel_27889/3014630782.py:18: FutureWarning: The frame.append method is deprecated and will be removed from pandas in a future version. Use pandas.concat instead.\n",
      "  events = events.append({'id':'low_carbon_neg', 'variable':['GLCxt', 'LCTSxt', 'RIBxt', 'GLxt', 'LACxt', 'PYRxt', 'SUCCxt', 'ETHxt', 'ACxt', 'FORxt'], 'relation':'lt', 'threshold':'theta_xt', 'assignment':['carbon_neg', 'carbon'], 'value':['1', '0']}, ignore_index=True)\n",
      "/tmp/ipykernel_27889/3014630782.py:19: FutureWarning: The frame.append method is deprecated and will be removed from pandas in a future version. Use pandas.concat instead.\n",
      "  events = events.append({'id':'high_carbon_neg', 'variable':['GLCxt', 'LCTSxt', 'RIBxt', 'GLxt', 'LACxt', 'PYRxt', 'SUCCxt', 'ETHxt', 'ACxt', 'FORxt'], 'relation':'geq', 'threshold':'theta_xt', 'assignment':['carbon_neg', 'carbon'], 'value':['0', '1']}, ignore_index=True)\n"
     ]
    }
   ],
   "source": [
    "# Glc_neg defined by Event low_/high_Glc below\n",
    "# Lactose\n",
    "events = events.append({'id':'low_LCTS_aux', 'variable':['GLCxt', 'LCTSxt'], 'relation':'lt', 'threshold':'theta_xt', 'assignment':['Lcts_neg_aux'], 'value':['1']}, ignore_index=True)\n",
    "events = events.append({'id':'high_LCTS_aux', 'variable':['GLCxt', 'LCTSxt'], 'relation':'geq', 'threshold':'theta_xt', 'assignment':['Lcts_neg_aux'], 'value':['0']}, ignore_index=True)\n",
    "# Ribose\n",
    "events = events.append({'id':'low_RIB_aux', 'variable':['GLCxt', 'LCTSxt', 'RIBxt'], 'relation':'lt', 'threshold':'theta_xt', 'assignment':['Rib_neg_aux'], 'value':['1']}, ignore_index=True)\n",
    "events = events.append({'id':'high_RIB_aux', 'variable':['GLCxt', 'LCTSxt', 'RIBxt'], 'relation':'geq', 'threshold':'theta_xt', 'assignment':['Rib_neg_aux'], 'value':['0']}, ignore_index=True)\n",
    "# Glycerol\n",
    "events = events.append({'id':'low_GL_aux', 'variable':['GLCxt', 'LCTSxt', 'RIBxt', 'GLxt'], 'relation':'lt', 'threshold':'theta_xt', 'assignment':['Gl_neg_aux'], 'value':['1']}, ignore_index=True)\n",
    "events = events.append({'id':'high_GL_aux', 'variable':['GLCxt', 'LCTSxt', 'RIBxt', 'GLxt'], 'relation':'geq', 'threshold':'theta_xt', 'assignment':['Gl_neg_aux'], 'value':['0']}, ignore_index=True)\n",
    "# Lactate / Pyruvate\n",
    "events = events.append({'id':'low_LacPyr_aux', 'variable':['GLCxt', 'LCTSxt', 'RIBxt', 'GLxt', 'LACxt', 'PYRxt'], 'relation':'lt', 'threshold':'theta_xt', 'assignment':['LacPyr_neg_aux'], 'value':['1']}, ignore_index=True)\n",
    "events = events.append({'id':'high_LacPyr_aux', 'variable':['GLCxt', 'LCTSxt', 'RIBxt', 'GLxt', 'LACxt', 'PYRxt'], 'relation':'geq', 'threshold':'theta_xt', 'assignment':['LacPyr_neg_aux'], 'value':['0']}, ignore_index=True)\n",
    "# Succinate / Ethanol\n",
    "events = events.append({'id':'low_SuccEth_aux', 'variable':['GLCxt', 'LCTSxt', 'RIBxt', 'GLxt', 'LACxt', 'PYRxt', 'SUCCxt', 'ETHxt'], 'relation':'lt', 'threshold':'theta_xt', 'assignment':['SuccEth_neg_aux'], 'value':['1']}, ignore_index=True)\n",
    "events = events.append({'id':'high_SuccEth_aux', 'variable':['GLCxt', 'LCTSxt', 'RIBxt', 'GLxt', 'LACxt', 'PYRxt', 'SUCCxt', 'ETHxt'], 'relation':'geq', 'threshold':'theta_xt', 'assignment':['SuccEth_neg_aux'], 'value':['0']}, ignore_index=True)\n",
    "# All Carbon\n",
    "events = events.append({'id':'low_carbon_neg', 'variable':['GLCxt', 'LCTSxt', 'RIBxt', 'GLxt', 'LACxt', 'PYRxt', 'SUCCxt', 'ETHxt', 'ACxt', 'FORxt'], 'relation':'lt', 'threshold':'theta_xt', 'assignment':['carbon_neg', 'carbon'], 'value':['1', '0']}, ignore_index=True)\n",
    "events = events.append({'id':'high_carbon_neg', 'variable':['GLCxt', 'LCTSxt', 'RIBxt', 'GLxt', 'LACxt', 'PYRxt', 'SUCCxt', 'ETHxt', 'ACxt', 'FORxt'], 'relation':'geq', 'threshold':'theta_xt', 'assignment':['carbon_neg', 'carbon'], 'value':['0', '1']}, ignore_index=True)\n"
   ]
  },
  {
   "cell_type": "code",
   "execution_count": 106,
   "metadata": {},
   "outputs": [
    {
     "name": "stderr",
     "output_type": "stream",
     "text": [
      "/tmp/ipykernel_27889/3125131618.py:5: FutureWarning: The frame.append method is deprecated and will be removed from pandas in a future version. Use pandas.concat instead.\n",
      "  events = events.append({'id':'low_Mlc', 'variable':['RP_Mlc'], 'relation':'lt', 'threshold':'theta_RP', 'assignment':['Mlc_neg'], 'value':['1']}, ignore_index=True)\n",
      "/tmp/ipykernel_27889/3125131618.py:6: FutureWarning: The frame.append method is deprecated and will be removed from pandas in a future version. Use pandas.concat instead.\n",
      "  events = events.append({'id':'high_Mlc', 'variable':['RP_Mlc'], 'relation':'geq', 'threshold':'theta_RP', 'assignment':['Mlc_neg'], 'value':['0']}, ignore_index=True)\n",
      "/tmp/ipykernel_27889/3125131618.py:8: FutureWarning: The frame.append method is deprecated and will be removed from pandas in a future version. Use pandas.concat instead.\n",
      "  rules = rules.append({'variable': 'Glcpts_aux1', 'indicators': ['carbon', 'Mlc_neg'], 'relation': '<and/>'}, ignore_index=True)\n",
      "/tmp/ipykernel_27889/3125131618.py:9: FutureWarning: The frame.append method is deprecated and will be removed from pandas in a future version. Use pandas.concat instead.\n",
      "  rules = rules.append({'variable': 'Glcpts_aux2', 'indicators': ['carbon', 'Cra_neg'], 'relation': '<and/>'}, ignore_index=True)\n",
      "/tmp/ipykernel_27889/3125131618.py:10: FutureWarning: The frame.append method is deprecated and will be removed from pandas in a future version. Use pandas.concat instead.\n",
      "  rules = rules.append({'variable': 'qual_con_GLCPTS_bar', 'indicators': ['Glcpts_aux1', 'Glcpts_aux2'], 'relation': '<or/>'}, ignore_index=True)\n",
      "/tmp/ipykernel_27889/3125131618.py:13: FutureWarning: The frame.append method is deprecated and will be removed from pandas in a future version. Use pandas.concat instead.\n",
      "  events = events.append({'id':'low_GalRS', 'variable':['RP_GalR', 'RP_GalS'], 'relation':'lt', 'threshold':'theta_RP', 'assignment':['GalRS_neg'], 'value':['1']}, ignore_index=True)\n",
      "/tmp/ipykernel_27889/3125131618.py:14: FutureWarning: The frame.append method is deprecated and will be removed from pandas in a future version. Use pandas.concat instead.\n",
      "  events = events.append({'id':'high_GalRS', 'variable':['RP_GalR', 'RP_GalS'], 'relation':'geq', 'threshold':'theta_RP', 'assignment':['GalRS_neg'], 'value':['0']}, ignore_index=True)\n",
      "/tmp/ipykernel_27889/3125131618.py:15: FutureWarning: The frame.append method is deprecated and will be removed from pandas in a future version. Use pandas.concat instead.\n",
      "  rules = rules.append({'variable': 'Gal_aux', 'indicators': ['Glc_neg', 'GalRS_neg'], 'relation': '<and/>'}, ignore_index=True)\n",
      "/tmp/ipykernel_27889/3125131618.py:23: FutureWarning: The frame.append method is deprecated and will be removed from pandas in a future version. Use pandas.concat instead.\n",
      "  events = events.append({'id':'low_LacI', 'variable':['RP_LacI'], 'relation':'lt', 'threshold':'theta_RP', 'assignment':['LacI_neg'], 'value':['1']}, ignore_index=True)\n",
      "/tmp/ipykernel_27889/3125131618.py:24: FutureWarning: The frame.append method is deprecated and will be removed from pandas in a future version. Use pandas.concat instead.\n",
      "  events = events.append({'id':'high_LacI', 'variable':['RP_LacI'], 'relation':'geq', 'threshold':'theta_RP', 'assignment':['LacI_neg'], 'value':['0']}, ignore_index=True)\n",
      "/tmp/ipykernel_27889/3125131618.py:25: FutureWarning: The frame.append method is deprecated and will be removed from pandas in a future version. Use pandas.concat instead.\n",
      "  rules = rules.append({'variable': 'Lcts_aux', 'indicators': ['Glc_neg', 'LacI_neg'], 'relation': '<and/>'}, ignore_index=True)\n",
      "/tmp/ipykernel_27889/3125131618.py:30: FutureWarning: The frame.append method is deprecated and will be removed from pandas in a future version. Use pandas.concat instead.\n",
      "  events = events.append({'id':'low_RbsR', 'variable':['RP_RbsR'], 'relation':'lt', 'threshold':'theta_RP', 'assignment':['RbsR_neg'], 'value':['1']}, ignore_index=True)\n",
      "/tmp/ipykernel_27889/3125131618.py:31: FutureWarning: The frame.append method is deprecated and will be removed from pandas in a future version. Use pandas.concat instead.\n",
      "  events = events.append({'id':'high_RbsR', 'variable':['RP_RbsR'], 'relation':'geq', 'threshold':'theta_RP', 'assignment':['RbsR_neg'], 'value':['0']}, ignore_index=True)\n",
      "/tmp/ipykernel_27889/3125131618.py:32: FutureWarning: The frame.append method is deprecated and will be removed from pandas in a future version. Use pandas.concat instead.\n",
      "  rules = rules.append({'variable': 'Rib_aux', 'indicators': ['Lcts_neg', 'RbsR_neg'], 'relation': '<and/>'}, ignore_index=True)\n",
      "/tmp/ipykernel_27889/3125131618.py:38: FutureWarning: The frame.append method is deprecated and will be removed from pandas in a future version. Use pandas.concat instead.\n",
      "  events = events.append({'id':'low_GlpR', 'variable':['RP_GlpR'], 'relation':'lt', 'threshold':'theta_RP', 'assignment':['GlpR_neg'], 'value':['1']}, ignore_index=True)\n",
      "/tmp/ipykernel_27889/3125131618.py:39: FutureWarning: The frame.append method is deprecated and will be removed from pandas in a future version. Use pandas.concat instead.\n",
      "  events = events.append({'id':'high_GlpR', 'variable':['RP_GlpR'], 'relation':'geq', 'threshold':'theta_RP', 'assignment':['GlpR_neg'], 'value':['0']}, ignore_index=True)\n",
      "/tmp/ipykernel_27889/3125131618.py:40: FutureWarning: The frame.append method is deprecated and will be removed from pandas in a future version. Use pandas.concat instead.\n",
      "  rules = rules.append({'variable': 'GG_aux', 'indicators': ['Rib_neg', 'GlpR_neg'], 'relation': '<and/>'}, ignore_index=True)\n",
      "/tmp/ipykernel_27889/3125131618.py:44: FutureWarning: The frame.append method is deprecated and will be removed from pandas in a future version. Use pandas.concat instead.\n",
      "  rules = rules.append({'variable': 'qual_con_GLPA_bar', 'indicators': ['GG_aux', 'FNR_aux'], 'relation': '<and/>'}, ignore_index=True)\n",
      "/tmp/ipykernel_27889/3125131618.py:46: FutureWarning: The frame.append method is deprecated and will be removed from pandas in a future version. Use pandas.concat instead.\n",
      "  events = events.append({'id':'low_ArcA_GlpR', 'variable':['RP_ArcA', 'RP_GlpR'], 'relation':'lt', 'threshold':'theta_RP', 'assignment':['Arca_GlpR_neg'], 'value':['1']}, ignore_index=True)\n",
      "/tmp/ipykernel_27889/3125131618.py:47: FutureWarning: The frame.append method is deprecated and will be removed from pandas in a future version. Use pandas.concat instead.\n",
      "  events = events.append({'id':'high_ArcA_GlpR', 'variable':['RP_ArcA', 'RP_GlpR'], 'relation':'geq', 'threshold':'theta_RP', 'assignment':['Arca_GlpR_neg'], 'value':['0']}, ignore_index=True)\n",
      "/tmp/ipykernel_27889/3125131618.py:48: FutureWarning: The frame.append method is deprecated and will be removed from pandas in a future version. Use pandas.concat instead.\n",
      "  rules = rules.append({'variable': 'qual_con_GLPD_bar', 'indicators': ['Rib_neg', 'Arca_GlpR_neg'], 'relation': '<and/>'}, ignore_index=True)\n",
      "/tmp/ipykernel_27889/3125131618.py:52: FutureWarning: The frame.append method is deprecated and will be removed from pandas in a future version. Use pandas.concat instead.\n",
      "  events = events.append({'id':'low_DcuR', 'variable':['RP_DcuR'], 'relation':'lt', 'threshold':'theta_RP', 'assignment':['DcuR_aux'], 'value':['0']}, ignore_index=True)\n",
      "/tmp/ipykernel_27889/3125131618.py:53: FutureWarning: The frame.append method is deprecated and will be removed from pandas in a future version. Use pandas.concat instead.\n",
      "  events = events.append({'id':'high_DcuR', 'variable':['RP_DcuR'], 'relation':'geq', 'threshold':'theta_RP', 'assignment':['DcuR_aux'], 'value':['1']}, ignore_index=True)\n",
      "/tmp/ipykernel_27889/3125131618.py:54: FutureWarning: The frame.append method is deprecated and will be removed from pandas in a future version. Use pandas.concat instead.\n",
      "  rules = rules.append({'variable': 'qual_con_DCTAR_bar', 'indicators': ['LacPyr_neg', 'Arca_neg', 'DcuR_aux'], 'relation': '<and/>'}, ignore_index=True)\n",
      "/tmp/ipykernel_27889/3125131618.py:56: FutureWarning: The frame.append method is deprecated and will be removed from pandas in a future version. Use pandas.concat instead.\n",
      "  rules = rules.append({'variable': 'qual_con_DCUBR_bar', 'indicators': ['LacPyr_neg', 'FNR_aux', 'DcuR_aux'], 'relation': '<and/>'}, ignore_index=True)\n",
      "/tmp/ipykernel_27889/3125131618.py:59: FutureWarning: The frame.append method is deprecated and will be removed from pandas in a future version. Use pandas.concat instead.\n",
      "  rules = rules.append({'variable': 'qual_con_ACS_bar', 'indicators': ['SuccEth_neg', 'IclR_neg'], 'relation': '<and/>'}, ignore_index=True)\n"
     ]
    }
   ],
   "source": [
    "# GLCUP: reset control variable\n",
    "translation.loc[translation.ID == 'T_GLCUP', 'control variable'] = 'carbon'\n",
    "\n",
    "# GLCPTS\n",
    "events = events.append({'id':'low_Mlc', 'variable':['RP_Mlc'], 'relation':'lt', 'threshold':'theta_RP', 'assignment':['Mlc_neg'], 'value':['1']}, ignore_index=True)\n",
    "events = events.append({'id':'high_Mlc', 'variable':['RP_Mlc'], 'relation':'geq', 'threshold':'theta_RP', 'assignment':['Mlc_neg'], 'value':['0']}, ignore_index=True)\n",
    "# Cra_neg defined below\n",
    "rules = rules.append({'variable': 'Glcpts_aux1', 'indicators': ['carbon', 'Mlc_neg'], 'relation': '<and/>'}, ignore_index=True)\n",
    "rules = rules.append({'variable': 'Glcpts_aux2', 'indicators': ['carbon', 'Cra_neg'], 'relation': '<and/>'}, ignore_index=True)\n",
    "rules = rules.append({'variable': 'qual_con_GLCPTS_bar', 'indicators': ['Glcpts_aux1', 'Glcpts_aux2'], 'relation': '<or/>'}, ignore_index=True)\n",
    "\n",
    "# Galactose\n",
    "events = events.append({'id':'low_GalRS', 'variable':['RP_GalR', 'RP_GalS'], 'relation':'lt', 'threshold':'theta_RP', 'assignment':['GalRS_neg'], 'value':['1']}, ignore_index=True)\n",
    "events = events.append({'id':'high_GalRS', 'variable':['RP_GalR', 'RP_GalS'], 'relation':'geq', 'threshold':'theta_RP', 'assignment':['GalRS_neg'], 'value':['0']}, ignore_index=True)\n",
    "rules = rules.append({'variable': 'Gal_aux', 'indicators': ['Glc_neg', 'GalRS_neg'], 'relation': '<and/>'}, ignore_index=True)\n",
    "translation.loc[translation.ID == 'T_GALER', 'control variable'] = 'Gal_aux'\n",
    "translation.loc[translation.ID == 'T_GALKR', 'control variable'] = 'Gal_aux'\n",
    "translation.loc[translation.ID == 'T_GALM1R', 'control variable'] = 'Gal_aux'\n",
    "translation.loc[translation.ID == 'T_GALM2R', 'control variable'] = 'Gal_aux'\n",
    "translation.loc[translation.ID == 'T_GALTR', 'control variable'] = 'Gal_aux'\n",
    "\n",
    "# Lactose\n",
    "events = events.append({'id':'low_LacI', 'variable':['RP_LacI'], 'relation':'lt', 'threshold':'theta_RP', 'assignment':['LacI_neg'], 'value':['1']}, ignore_index=True)\n",
    "events = events.append({'id':'high_LacI', 'variable':['RP_LacI'], 'relation':'geq', 'threshold':'theta_RP', 'assignment':['LacI_neg'], 'value':['0']}, ignore_index=True)\n",
    "rules = rules.append({'variable': 'Lcts_aux', 'indicators': ['Glc_neg', 'LacI_neg'], 'relation': '<and/>'}, ignore_index=True)\n",
    "translation.loc[translation.ID == 'T_LACYR', 'control variable'] = 'Lcts_aux'\n",
    "translation.loc[translation.ID == 'T_LACZ', 'control variable'] = 'Lcts_aux'\n",
    "\n",
    "# Ribose\n",
    "events = events.append({'id':'low_RbsR', 'variable':['RP_RbsR'], 'relation':'lt', 'threshold':'theta_RP', 'assignment':['RbsR_neg'], 'value':['1']}, ignore_index=True)\n",
    "events = events.append({'id':'high_RbsR', 'variable':['RP_RbsR'], 'relation':'geq', 'threshold':'theta_RP', 'assignment':['RbsR_neg'], 'value':['0']}, ignore_index=True)\n",
    "rules = rules.append({'variable': 'Rib_aux', 'indicators': ['Lcts_neg', 'RbsR_neg'], 'relation': '<and/>'}, ignore_index=True)\n",
    "translation.loc[translation.ID == 'T_RIBUPR', 'control variable'] = 'Rib_aux'\n",
    "translation.loc[translation.ID == 'T_RBSK', 'control variable'] = 'Rib_aux'\n",
    "\n",
    "# Glycerol\n",
    "# GLPK, GLUPR\n",
    "events = events.append({'id':'low_GlpR', 'variable':['RP_GlpR'], 'relation':'lt', 'threshold':'theta_RP', 'assignment':['GlpR_neg'], 'value':['1']}, ignore_index=True)\n",
    "events = events.append({'id':'high_GlpR', 'variable':['RP_GlpR'], 'relation':'geq', 'threshold':'theta_RP', 'assignment':['GlpR_neg'], 'value':['0']}, ignore_index=True)\n",
    "rules = rules.append({'variable': 'GG_aux', 'indicators': ['Rib_neg', 'GlpR_neg'], 'relation': '<and/>'}, ignore_index=True)\n",
    "translation.loc[translation.ID == 'T_GLPK', 'control variable'] = 'GG_aux'\n",
    "translation.loc[translation.ID == 'T_GLUPR', 'control variable'] = 'GG_aux'\n",
    "# GLPA (FNR_neg defined below)\n",
    "rules = rules.append({'variable': 'qual_con_GLPA_bar', 'indicators': ['GG_aux', 'FNR_aux'], 'relation': '<and/>'}, ignore_index=True)\n",
    "# GLPD\n",
    "events = events.append({'id':'low_ArcA_GlpR', 'variable':['RP_ArcA', 'RP_GlpR'], 'relation':'lt', 'threshold':'theta_RP', 'assignment':['Arca_GlpR_neg'], 'value':['1']}, ignore_index=True)\n",
    "events = events.append({'id':'high_ArcA_GlpR', 'variable':['RP_ArcA', 'RP_GlpR'], 'relation':'geq', 'threshold':'theta_RP', 'assignment':['Arca_GlpR_neg'], 'value':['0']}, ignore_index=True)\n",
    "rules = rules.append({'variable': 'qual_con_GLPD_bar', 'indicators': ['Rib_neg', 'Arca_GlpR_neg'], 'relation': '<and/>'}, ignore_index=True)\n",
    "\n",
    "# Succinate\n",
    "# DCTAR (ArcA_neg defined below)\n",
    "events = events.append({'id':'low_DcuR', 'variable':['RP_DcuR'], 'relation':'lt', 'threshold':'theta_RP', 'assignment':['DcuR_aux'], 'value':['0']}, ignore_index=True)\n",
    "events = events.append({'id':'high_DcuR', 'variable':['RP_DcuR'], 'relation':'geq', 'threshold':'theta_RP', 'assignment':['DcuR_aux'], 'value':['1']}, ignore_index=True)\n",
    "rules = rules.append({'variable': 'qual_con_DCTAR_bar', 'indicators': ['LacPyr_neg', 'Arca_neg', 'DcuR_aux'], 'relation': '<and/>'}, ignore_index=True)\n",
    "# DCUBR\n",
    "rules = rules.append({'variable': 'qual_con_DCUBR_bar', 'indicators': ['LacPyr_neg', 'FNR_aux', 'DcuR_aux'], 'relation': '<and/>'}, ignore_index=True)\n",
    "\n",
    "# Acetate (IclR_neg defined below)\n",
    "rules = rules.append({'variable': 'qual_con_ACS_bar', 'indicators': ['SuccEth_neg', 'IclR_neg'], 'relation': '<and/>'}, ignore_index=True)\n",
    "\n",
    "# downstream\n",
    "translation.loc[translation.ID == 'T_ACNAR', 'control variable'] = 'carbon_neg'\n",
    "translation.loc[translation.ID == 'T_ACNBR', 'control variable'] = 'carbon_neg'\n",
    "translation.loc[translation.ID == 'T_PGKR', 'control variable'] = 'carbon_neg'\n"
   ]
  },
  {
   "cell_type": "markdown",
   "metadata": {},
   "source": [
    "### Cra"
   ]
  },
  {
   "cell_type": "code",
   "execution_count": 107,
   "metadata": {},
   "outputs": [
    {
     "name": "stderr",
     "output_type": "stream",
     "text": [
      "/tmp/ipykernel_27889/2798224079.py:1: FutureWarning: The frame.append method is deprecated and will be removed from pandas in a future version. Use pandas.concat instead.\n",
      "  events = events.append({'id':'low_flux_FBP', 'variable':['FBP'], 'relation':'lt', 'threshold':'theta_v', 'assignment':['FDP_aux'], 'value':['0']}, ignore_index=True)\n",
      "/tmp/ipykernel_27889/2798224079.py:2: FutureWarning: The frame.append method is deprecated and will be removed from pandas in a future version. Use pandas.concat instead.\n",
      "  events = events.append({'id':'high_flux_FBP', 'variable':['FBP'], 'relation':'geq', 'threshold':'theta_v', 'assignment':['FDP_aux'], 'value':['1']}, ignore_index=True)\n",
      "/tmp/ipykernel_27889/2798224079.py:4: FutureWarning: The frame.append method is deprecated and will be removed from pandas in a future version. Use pandas.concat instead.\n",
      "  events = events.append({'id':'low_flux_F6P', 'variable':['TKTA2R', 'TKTB2R', 'TALAR', 'TALBR', 'PGIR'], 'relation':'lt', 'threshold':'theta_v', 'assignment':['F6P_neg'], 'value':['1']}, ignore_index=True)\n",
      "/tmp/ipykernel_27889/2798224079.py:5: FutureWarning: The frame.append method is deprecated and will be removed from pandas in a future version. Use pandas.concat instead.\n",
      "  events = events.append({'id':'high_flux_F6P', 'variable':['TKTA2R', 'TKTB2R', 'TALAR', 'TALBR', 'PGIR'], 'relation':'geq', 'threshold':'theta_v', 'assignment':['F6P_neg'], 'value':['0']}, ignore_index=True)\n",
      "/tmp/ipykernel_27889/2798224079.py:7: FutureWarning: The frame.append method is deprecated and will be removed from pandas in a future version. Use pandas.concat instead.\n",
      "  rules = rules.append({'variable': 'qual_con_cra_bar', 'indicators': ['FDP_aux', 'F6P_neg'], 'relation': '<and/>'}, ignore_index=True)\n"
     ]
    }
   ],
   "source": [
    "events = events.append({'id':'low_flux_FBP', 'variable':['FBP'], 'relation':'lt', 'threshold':'theta_v', 'assignment':['FDP_aux'], 'value':['0']}, ignore_index=True)\n",
    "events = events.append({'id':'high_flux_FBP', 'variable':['FBP'], 'relation':'geq', 'threshold':'theta_v', 'assignment':['FDP_aux'], 'value':['1']}, ignore_index=True)\n",
    "\n",
    "events = events.append({'id':'low_flux_F6P', 'variable':['TKTA2R', 'TKTB2R', 'TALAR', 'TALBR', 'PGIR'], 'relation':'lt', 'threshold':'theta_v', 'assignment':['F6P_neg'], 'value':['1']}, ignore_index=True)\n",
    "events = events.append({'id':'high_flux_F6P', 'variable':['TKTA2R', 'TKTB2R', 'TALAR', 'TALBR', 'PGIR'], 'relation':'geq', 'threshold':'theta_v', 'assignment':['F6P_neg'], 'value':['0']}, ignore_index=True)\n",
    "\n",
    "rules = rules.append({'variable': 'qual_con_cra_bar', 'indicators': ['FDP_aux', 'F6P_neg'], 'relation': '<and/>'}, ignore_index=True)\n"
   ]
  },
  {
   "cell_type": "markdown",
   "metadata": {},
   "source": [
    "### PdhR"
   ]
  },
  {
   "cell_type": "code",
   "execution_count": 108,
   "metadata": {},
   "outputs": [
    {
     "name": "stderr",
     "output_type": "stream",
     "text": [
      "/tmp/ipykernel_27889/3803586441.py:1: FutureWarning: The frame.append method is deprecated and will be removed from pandas in a future version. Use pandas.concat instead.\n",
      "  events = events.append({'id':'low_flux_MAEB_SFCA', 'variable':['MAEB', 'SFCA'], 'relation':'lt', 'threshold':'theta_v', 'assignment':['PYR_aux1'], 'value':['0']}, ignore_index=True)\n",
      "/tmp/ipykernel_27889/3803586441.py:2: FutureWarning: The frame.append method is deprecated and will be removed from pandas in a future version. Use pandas.concat instead.\n",
      "  events = events.append({'id':'high_flux_MAEB_SFCA', 'variable':['MAEB', 'SFCA'], 'relation':'geq', 'threshold':'theta_v', 'assignment':['PYR_aux1'], 'value':['1']}, ignore_index=True)\n",
      "/tmp/ipykernel_27889/3803586441.py:4: FutureWarning: The frame.append method is deprecated and will be removed from pandas in a future version. Use pandas.concat instead.\n",
      "  events = events.append({'id':'low_flux_DLD1R', 'variable':['DLD1R'], 'relation':'lt', 'threshold':'theta_v', 'assignment':['DLD1R_aux'], 'value':['0']}, ignore_index=True)\n",
      "/tmp/ipykernel_27889/3803586441.py:5: FutureWarning: The frame.append method is deprecated and will be removed from pandas in a future version. Use pandas.concat instead.\n",
      "  events = events.append({'id':'high_flux_DLD1R', 'variable':['DLD1R'], 'relation':'geq', 'threshold':'theta_v', 'assignment':['DLD1R_aux'], 'value':['1']}, ignore_index=True)\n",
      "/tmp/ipykernel_27889/3803586441.py:7: FutureWarning: The frame.append method is deprecated and will be removed from pandas in a future version. Use pandas.concat instead.\n",
      "  events = events.append({'id':'low_flux_PYR_aux', 'variable':['GLCPTS', 'PYKF', 'PYKA', 'DLD2', 'DCTAR', 'DCUAR', 'DCUBR'], 'relation':'lt', 'threshold':'theta_v', 'assignment':['PYR_neg_aux3'], 'value':['1']}, ignore_index=True)\n",
      "/tmp/ipykernel_27889/3803586441.py:8: FutureWarning: The frame.append method is deprecated and will be removed from pandas in a future version. Use pandas.concat instead.\n",
      "  events = events.append({'id':'high_flux_PYR_aux', 'variable':['GLCPTS', 'PYKF', 'PYKA', 'DLD2', 'DCTAR', 'DCUAR', 'DCUBR'], 'relation':'geq', 'threshold':'theta_v', 'assignment':['PYR_neg_aux3'], 'value':['0']}, ignore_index=True)\n",
      "/tmp/ipykernel_27889/3803586441.py:10: FutureWarning: The frame.append method is deprecated and will be removed from pandas in a future version. Use pandas.concat instead.\n",
      "  rules = rules.append({'variable': 'qual_con_pdhR_bar', 'indicators': ['PYR_aux1', 'DLD1R_aux', 'PYR_neg_aux3'], 'relation': '<and/>'}, ignore_index=True)\n"
     ]
    }
   ],
   "source": [
    "events = events.append({'id':'low_flux_MAEB_SFCA', 'variable':['MAEB', 'SFCA'], 'relation':'lt', 'threshold':'theta_v', 'assignment':['PYR_aux1'], 'value':['0']}, ignore_index=True)\n",
    "events = events.append({'id':'high_flux_MAEB_SFCA', 'variable':['MAEB', 'SFCA'], 'relation':'geq', 'threshold':'theta_v', 'assignment':['PYR_aux1'], 'value':['1']}, ignore_index=True)\n",
    "\n",
    "events = events.append({'id':'low_flux_DLD1R', 'variable':['DLD1R'], 'relation':'lt', 'threshold':'theta_v', 'assignment':['DLD1R_aux'], 'value':['0']}, ignore_index=True)\n",
    "events = events.append({'id':'high_flux_DLD1R', 'variable':['DLD1R'], 'relation':'geq', 'threshold':'theta_v', 'assignment':['DLD1R_aux'], 'value':['1']}, ignore_index=True)\n",
    "\n",
    "events = events.append({'id':'low_flux_PYR_aux', 'variable':['GLCPTS', 'PYKF', 'PYKA', 'DLD2', 'DCTAR', 'DCUAR', 'DCUBR'], 'relation':'lt', 'threshold':'theta_v', 'assignment':['PYR_neg_aux3'], 'value':['1']}, ignore_index=True)\n",
    "events = events.append({'id':'high_flux_PYR_aux', 'variable':['GLCPTS', 'PYKF', 'PYKA', 'DLD2', 'DCTAR', 'DCUAR', 'DCUBR'], 'relation':'geq', 'threshold':'theta_v', 'assignment':['PYR_neg_aux3'], 'value':['0']}, ignore_index=True)\n",
    "\n",
    "rules = rules.append({'variable': 'qual_con_pdhR_bar', 'indicators': ['PYR_aux1', 'DLD1R_aux', 'PYR_neg_aux3'], 'relation': '<and/>'}, ignore_index=True)\n"
   ]
  },
  {
   "cell_type": "markdown",
   "metadata": {},
   "source": [
    "### ADHER"
   ]
  },
  {
   "cell_type": "code",
   "execution_count": 109,
   "metadata": {},
   "outputs": [
    {
     "name": "stderr",
     "output_type": "stream",
     "text": [
      "/tmp/ipykernel_27889/810211296.py:2: FutureWarning: The frame.append method is deprecated and will be removed from pandas in a future version. Use pandas.concat instead.\n",
      "  rules = rules.append({'variable': 'O2_Cra_neg', 'indicators': ['O2_neg', 'Cra_neg'], 'relation': '<and/>'}, ignore_index=True)\n",
      "/tmp/ipykernel_27889/810211296.py:3: FutureWarning: The frame.append method is deprecated and will be removed from pandas in a future version. Use pandas.concat instead.\n",
      "  rules = rules.append({'variable': 'qual_con_ADHER_bar', 'indicators': ['O2_neg', 'O2_Cra_neg'], 'relation': '<or/>'}, ignore_index=True)\n"
     ]
    }
   ],
   "source": [
    "# O2_neg and Cra_neg are defined below\n",
    "rules = rules.append({'variable': 'O2_Cra_neg', 'indicators': ['O2_neg', 'Cra_neg'], 'relation': '<and/>'}, ignore_index=True)\n",
    "rules = rules.append({'variable': 'qual_con_ADHER_bar', 'indicators': ['O2_neg', 'O2_Cra_neg'], 'relation': '<or/>'}, ignore_index=True)\n"
   ]
  },
  {
   "cell_type": "markdown",
   "metadata": {},
   "source": [
    "### Proteins controlled by two continuous variables"
   ]
  },
  {
   "cell_type": "code",
   "execution_count": 110,
   "metadata": {},
   "outputs": [
    {
     "name": "stderr",
     "output_type": "stream",
     "text": [
      "/tmp/ipykernel_27889/1368398811.py:2: FutureWarning: The frame.append method is deprecated and will be removed from pandas in a future version. Use pandas.concat instead.\n",
      "  rules = rules.append({'variable': 'qual_con_ACEB_bar', 'indicators': ['ArcA_neg', 'IclR_neg'], 'relation': '<and/>'}, ignore_index=True)\n",
      "/tmp/ipykernel_27889/1368398811.py:5: FutureWarning: The frame.append method is deprecated and will be removed from pandas in a future version. Use pandas.concat instead.\n",
      "  rules = rules.append({'variable': 'qual_con_CYDA_bar', 'indicators': ['ArcA_aux', 'FNR_neg'], 'relation': '<or/>'}, ignore_index=True)\n",
      "/tmp/ipykernel_27889/1368398811.py:8: FutureWarning: The frame.append method is deprecated and will be removed from pandas in a future version. Use pandas.concat instead.\n",
      "  rules = rules.append({'variable': 'qual_con_FRDA_bar', 'indicators': ['FNR_aux', 'DcuR_aux'], 'relation': '<or/>'}, ignore_index=True)\n",
      "/tmp/ipykernel_27889/1368398811.py:11: FutureWarning: The frame.append method is deprecated and will be removed from pandas in a future version. Use pandas.concat instead.\n",
      "  rules = rules.append({'variable': 'DFPP_aux', 'indicators': ['ArcA_aux', 'FNR_aux'], 'relation': '<or/>'}, ignore_index=True)\n",
      "/tmp/ipykernel_27889/1368398811.py:18: FutureWarning: The frame.append method is deprecated and will be removed from pandas in a future version. Use pandas.concat instead.\n",
      "  rules = rules.append({'variable': 'CFSS_aux', 'indicators': ['ArcA_neg', 'FNR_neg'], 'relation': '<and/>'}, ignore_index=True)\n",
      "/tmp/ipykernel_27889/1368398811.py:25: FutureWarning: The frame.append method is deprecated and will be removed from pandas in a future version. Use pandas.concat instead.\n",
      "  events = events.append({'id':'low_AC', 'variable':['ACxt'], 'relation':'lt', 'threshold':'theta_xt', 'assignment':['AC_neg'], 'value':['1']}, ignore_index=True)\n",
      "/tmp/ipykernel_27889/1368398811.py:26: FutureWarning: The frame.append method is deprecated and will be removed from pandas in a future version. Use pandas.concat instead.\n",
      "  events = events.append({'id':'high_AC', 'variable':['ACxt'], 'relation':'geq', 'threshold':'theta_xt', 'assignment':['AC_neg'], 'value':['0']}, ignore_index=True)\n",
      "/tmp/ipykernel_27889/1368398811.py:27: FutureWarning: The frame.append method is deprecated and will be removed from pandas in a future version. Use pandas.concat instead.\n",
      "  rules = rules.append({'variable': 'qual_con_fadR_bar', 'indicators': ['GLC_aux', 'AC_neg'], 'relation': '<or/>'}, ignore_index=True)\n"
     ]
    }
   ],
   "source": [
    "# ACEB\n",
    "rules = rules.append({'variable': 'qual_con_ACEB_bar', 'indicators': ['ArcA_neg', 'IclR_neg'], 'relation': '<and/>'}, ignore_index=True)\n",
    "\n",
    "# CYDA\n",
    "rules = rules.append({'variable': 'qual_con_CYDA_bar', 'indicators': ['ArcA_aux', 'FNR_neg'], 'relation': '<or/>'}, ignore_index=True)\n",
    "\n",
    "# FRDA\n",
    "rules = rules.append({'variable': 'qual_con_FRDA_bar', 'indicators': ['FNR_aux', 'DcuR_aux'], 'relation': '<or/>'}, ignore_index=True)\n",
    "\n",
    "# DCUC, FORUPR, PFLA, PFLC\n",
    "rules = rules.append({'variable': 'DFPP_aux', 'indicators': ['ArcA_aux', 'FNR_aux'], 'relation': '<or/>'}, ignore_index=True)\n",
    "translation.loc[translation.ID == 'T_DCUC', 'control variable'] = 'DFPP_aux'\n",
    "translation.loc[translation.ID == 'T_FORUPR', 'control variable'] = 'DFPP_aux'\n",
    "translation.loc[translation.ID == 'T_PFLA', 'control variable'] = 'DFPP_aux'\n",
    "translation.loc[translation.ID == 'T_PFLC', 'control variable'] = 'DFPP_aux'\n",
    "\n",
    "# CYOA, FUMAR, SDHA1, SDHA2\n",
    "rules = rules.append({'variable': 'CFSS_aux', 'indicators': ['ArcA_neg', 'FNR_neg'], 'relation': '<and/>'}, ignore_index=True)\n",
    "translation.loc[translation.ID == 'T_CYOA', 'control variable'] = 'CFSS_aux'\n",
    "translation.loc[translation.ID == 'T_FUMAR', 'control variable'] = 'CFSS_aux'\n",
    "translation.loc[translation.ID == 'T_SDHA1', 'control variable'] = 'CFSS_aux'\n",
    "translation.loc[translation.ID == 'T_SDHA2', 'control variable'] = 'CFSS_aux'\n",
    "\n",
    "# FadR\n",
    "events = events.append({'id':'low_AC', 'variable':['ACxt'], 'relation':'lt', 'threshold':'theta_xt', 'assignment':['AC_neg'], 'value':['1']}, ignore_index=True)\n",
    "events = events.append({'id':'high_AC', 'variable':['ACxt'], 'relation':'geq', 'threshold':'theta_xt', 'assignment':['AC_neg'], 'value':['0']}, ignore_index=True)\n",
    "rules = rules.append({'variable': 'qual_con_fadR_bar', 'indicators': ['GLC_aux', 'AC_neg'], 'relation': '<or/>'}, ignore_index=True)\n"
   ]
  },
  {
   "cell_type": "markdown",
   "metadata": {},
   "source": [
    "### Proteins controlled by only one continuous variable"
   ]
  },
  {
   "cell_type": "code",
   "execution_count": 111,
   "metadata": {},
   "outputs": [
    {
     "name": "stderr",
     "output_type": "stream",
     "text": [
      "/tmp/ipykernel_27889/2562958617.py:2: FutureWarning: The frame.append method is deprecated and will be removed from pandas in a future version. Use pandas.concat instead.\n",
      "  events = events.append({'id':'low_O2', 'variable':['O2xt'], 'relation':'lt', 'threshold':'theta_xt', 'assignment':['qual_con_arcA_bar', 'qual_con_fnr_bar', 'O2_neg'], 'value':['1', '1', '1']}, ignore_index=True)\n",
      "/tmp/ipykernel_27889/2562958617.py:3: FutureWarning: The frame.append method is deprecated and will be removed from pandas in a future version. Use pandas.concat instead.\n",
      "  events = events.append({'id':'high_O2', 'variable':['O2xt'], 'relation':'geq', 'threshold':'theta_xt', 'assignment':['qual_con_arcA_bar', 'qual_con_fnr_bar', 'O2_neg'], 'value':['0', '0', '0']}, ignore_index=True)\n",
      "/tmp/ipykernel_27889/2562958617.py:5: FutureWarning: The frame.append method is deprecated and will be removed from pandas in a future version. Use pandas.concat instead.\n",
      "  events = events.append({'id':'low_SUCC', 'variable':['SUCCxt'], 'relation':'lt', 'threshold':'theta_xt', 'assignment':['qual_con_dcuS_bar'], 'value':['0']}, ignore_index=True)\n",
      "/tmp/ipykernel_27889/2562958617.py:6: FutureWarning: The frame.append method is deprecated and will be removed from pandas in a future version. Use pandas.concat instead.\n",
      "  events = events.append({'id':'high_SUCC', 'variable':['SUCCxt'], 'relation':'geq', 'threshold':'theta_xt', 'assignment':['qual_con_dcuS_bar'], 'value':['1']}, ignore_index=True)\n",
      "/tmp/ipykernel_27889/2562958617.py:8: FutureWarning: The frame.append method is deprecated and will be removed from pandas in a future version. Use pandas.concat instead.\n",
      "  events = events.append({'id':'low_LCTS', 'variable':['LCTSxt'], 'relation':'lt', 'threshold':'theta_xt', 'assignment':['qual_con_galR_bar', 'qual_con_galS_bar', 'qual_con_lacI_bar'], 'value':['1', '1', '1']}, ignore_index=True)\n",
      "/tmp/ipykernel_27889/2562958617.py:9: FutureWarning: The frame.append method is deprecated and will be removed from pandas in a future version. Use pandas.concat instead.\n",
      "  events = events.append({'id':'high_LCTS', 'variable':['LCTSxt'], 'relation':'geq', 'threshold':'theta_xt', 'assignment':['qual_con_galR_bar', 'qual_con_galS_bar', 'qual_con_lacI_bar'], 'value':['0', '0', '0']}, ignore_index=True)\n",
      "/tmp/ipykernel_27889/2562958617.py:11: FutureWarning: The frame.append method is deprecated and will be removed from pandas in a future version. Use pandas.concat instead.\n",
      "  events = events.append({'id':'low_GL', 'variable':['GLxt'], 'relation':'lt', 'threshold':'theta_xt', 'assignment':['qual_con_glpR_bar'], 'value':['1']}, ignore_index=True)\n",
      "/tmp/ipykernel_27889/2562958617.py:12: FutureWarning: The frame.append method is deprecated and will be removed from pandas in a future version. Use pandas.concat instead.\n",
      "  events = events.append({'id':'high_GL', 'variable':['GLxt'], 'relation':'geq', 'threshold':'theta_xt', 'assignment':['qual_con_glpR_bar'], 'value':['0']}, ignore_index=True)\n",
      "/tmp/ipykernel_27889/2562958617.py:14: FutureWarning: The frame.append method is deprecated and will be removed from pandas in a future version. Use pandas.concat instead.\n",
      "  events = events.append({'id':'low_GLC', 'variable':['GLCxt'], 'relation':'lt', 'threshold':'theta_xt', 'assignment':['qual_con_mlc_bar', 'Glc_neg', 'Glc_aux'], 'value':['1', '1', '0']}, ignore_index=True)\n",
      "/tmp/ipykernel_27889/2562958617.py:15: FutureWarning: The frame.append method is deprecated and will be removed from pandas in a future version. Use pandas.concat instead.\n",
      "  events = events.append({'id':'high_GLC', 'variable':['GLCxt'], 'relation':'geq', 'threshold':'theta_xt', 'assignment':['qual_con_mlc_bar', 'Glc_neg', 'Glc_aux'], 'value':['0', '0', '1']}, ignore_index=True)\n",
      "/tmp/ipykernel_27889/2562958617.py:17: FutureWarning: The frame.append method is deprecated and will be removed from pandas in a future version. Use pandas.concat instead.\n",
      "  events = events.append({'id':'low_RIB', 'variable':['RIBxt'], 'relation':'lt', 'threshold':'theta_xt', 'assignment':['qual_con_rbsR_bar', 'qual_con_rpiR_bar'], 'value':['1', '1']}, ignore_index=True)\n",
      "/tmp/ipykernel_27889/2562958617.py:18: FutureWarning: The frame.append method is deprecated and will be removed from pandas in a future version. Use pandas.concat instead.\n",
      "  events = events.append({'id':'high_RIB', 'variable':['RIBxt'], 'relation':'geq', 'threshold':'theta_xt', 'assignment':['qual_con_rbsR_bar', 'qual_con_rpiR_bar'], 'value':['0', '0']}, ignore_index=True)\n",
      "/tmp/ipykernel_27889/2562958617.py:20: FutureWarning: The frame.append method is deprecated and will be removed from pandas in a future version. Use pandas.concat instead.\n",
      "  events = events.append({'id':'low_DcuS', 'variable':['RP_DcuS'], 'relation':'lt', 'threshold':'theta_RP', 'assignment':['qual_con_dcuR_bar'], 'value':['0']}, ignore_index=True)\n",
      "/tmp/ipykernel_27889/2562958617.py:21: FutureWarning: The frame.append method is deprecated and will be removed from pandas in a future version. Use pandas.concat instead.\n",
      "  events = events.append({'id':'high_DcuS', 'variable':['RP_DcuS'], 'relation':'geq', 'threshold':'theta_RP', 'assignment':['qual_con_dcuR_bar'], 'value':['1']}, ignore_index=True)\n",
      "/tmp/ipykernel_27889/2562958617.py:23: FutureWarning: The frame.append method is deprecated and will be removed from pandas in a future version. Use pandas.concat instead.\n",
      "  events = events.append({'id':'low_FadR', 'variable':['RP_FadR'], 'relation':'lt', 'threshold':'theta_RP', 'assignment':['qual_con_iclR_bar'], 'value':['0']}, ignore_index=True)\n",
      "/tmp/ipykernel_27889/2562958617.py:24: FutureWarning: The frame.append method is deprecated and will be removed from pandas in a future version. Use pandas.concat instead.\n",
      "  events = events.append({'id':'high_FadR', 'variable':['RP_FadR'], 'relation':'geq', 'threshold':'theta_RP', 'assignment':['qual_con_iclR_bar'], 'value':['1']}, ignore_index=True)\n",
      "/tmp/ipykernel_27889/2562958617.py:27: FutureWarning: The frame.append method is deprecated and will be removed from pandas in a future version. Use pandas.concat instead.\n",
      "  events = events.append({'id':'low_IclR', 'variable':['RP_IclR'], 'relation':'lt', 'threshold':'theta_RP', 'assignment':['qual_con_ACEA_bar', 'IclR_neg'], 'value':['1', '1']}, ignore_index=True)\n",
      "/tmp/ipykernel_27889/2562958617.py:28: FutureWarning: The frame.append method is deprecated and will be removed from pandas in a future version. Use pandas.concat instead.\n",
      "  events = events.append({'id':'high_IclR', 'variable':['RP_IclR'], 'relation':'geq', 'threshold':'theta_RP', 'assignment':['qual_con_ACEA_bar', 'IclR_neg'], 'value':['0', '0']}, ignore_index=True)\n",
      "/tmp/ipykernel_27889/2562958617.py:30: FutureWarning: The frame.append method is deprecated and will be removed from pandas in a future version. Use pandas.concat instead.\n",
      "  events = events.append({'id':'low_PdhR', 'variable':['RP_PdhR'], 'relation':'lt', 'threshold':'theta_RP', 'assignment':['qual_con_ACEE_bar', 'qual_con_SUCA_bar'], 'value':['1', '1']}, ignore_index=True)\n",
      "/tmp/ipykernel_27889/2562958617.py:31: FutureWarning: The frame.append method is deprecated and will be removed from pandas in a future version. Use pandas.concat instead.\n",
      "  events = events.append({'id':'high_PdhR', 'variable':['RP_PdhR'], 'relation':'geq', 'threshold':'theta_RP', 'assignment':['qual_con_ACEE_bar', 'qual_con_SUCA_bar'], 'value':['0', '0']}, ignore_index=True)\n",
      "/tmp/ipykernel_27889/2562958617.py:33: FutureWarning: The frame.append method is deprecated and will be removed from pandas in a future version. Use pandas.concat instead.\n",
      "  events = events.append({'id':'low_FNR', 'variable':['RP_FNR'], 'relation':'lt', 'threshold':'theta_RP', 'assignment':['qual_con_FDNG_bar', 'qual_con_FUMBR_bar', 'qual_con_NDH_bar', 'FNR_aux', 'FNR_neg'], 'value':['0', '0', '1', '0', '1']}, ignore_index=True)\n",
      "/tmp/ipykernel_27889/2562958617.py:34: FutureWarning: The frame.append method is deprecated and will be removed from pandas in a future version. Use pandas.concat instead.\n",
      "  events = events.append({'id':'high_FNR', 'variable':['RP_FNR'], 'relation':'geq', 'threshold':'theta_RP', 'assignment':['qual_con_FDNG_bar', 'qual_con_FUMBR_bar', 'qual_con_NDH_bar', 'FNR_aux', 'FNR_neg'], 'value':['1', '1', '0', '1', '0']}, ignore_index=True)\n",
      "/tmp/ipykernel_27889/2562958617.py:36: FutureWarning: The frame.append method is deprecated and will be removed from pandas in a future version. Use pandas.concat instead.\n",
      "  events = events.append({'id':'low_arcA', 'variable':['RP_ArcA'], 'relation':'lt', 'threshold':'theta_RP', 'assignment':['qual_con_MDHR_bar', 'ArcA_aux', 'ArcA_neg'], 'value':['1', '0', '1']}, ignore_index=True)\n",
      "/tmp/ipykernel_27889/2562958617.py:37: FutureWarning: The frame.append method is deprecated and will be removed from pandas in a future version. Use pandas.concat instead.\n",
      "  events = events.append({'id':'high_arcA', 'variable':['RP_ArcA'], 'relation':'geq', 'threshold':'theta_RP', 'assignment':['qual_con_MDHR_bar', 'ArcA_aux', 'ArcA_neg'], 'value':['0', '1', '0']}, ignore_index=True)\n",
      "/tmp/ipykernel_27889/2562958617.py:39: FutureWarning: The frame.append method is deprecated and will be removed from pandas in a future version. Use pandas.concat instead.\n",
      "  events = events.append({'id':'low_Cra', 'variable':['RP_Cra'], 'relation':'lt', 'threshold':'theta_RP', 'assignment':['qual_con_PPSA_bar', 'qual_con_PYKF_bar', 'Cra_neg'], 'value':['0', '1', '1']}, ignore_index=True)\n",
      "/tmp/ipykernel_27889/2562958617.py:40: FutureWarning: The frame.append method is deprecated and will be removed from pandas in a future version. Use pandas.concat instead.\n",
      "  events = events.append({'id':'high_Cra', 'variable':['RP_Cra'], 'relation':'geq', 'threshold':'theta_RP', 'assignment':['qual_con_PPSA_bar', 'qual_con_PYKF_bar', 'Cra_neg'], 'value':['1', '0', '0']}, ignore_index=True)\n",
      "/tmp/ipykernel_27889/2562958617.py:42: FutureWarning: The frame.append method is deprecated and will be removed from pandas in a future version. Use pandas.concat instead.\n",
      "  events = events.append({'id':'low_RpiR', 'variable':['RP_RpiR'], 'relation':'lt', 'threshold':'theta_RP', 'assignment':['qual_con_RPIBR_bar'], 'value':['1']}, ignore_index=True)\n",
      "/tmp/ipykernel_27889/2562958617.py:43: FutureWarning: The frame.append method is deprecated and will be removed from pandas in a future version. Use pandas.concat instead.\n",
      "  events = events.append({'id':'high_RpiR', 'variable':['RP_RpiR'], 'relation':'geq', 'threshold':'theta_RP', 'assignment':['qual_con_RPIBR_bar'], 'value':['0']}, ignore_index=True)\n"
     ]
    }
   ],
   "source": [
    "# effect of O2 only\n",
    "events = events.append({'id':'low_O2', 'variable':['O2xt'], 'relation':'lt', 'threshold':'theta_xt', 'assignment':['qual_con_arcA_bar', 'qual_con_fnr_bar', 'O2_neg'], 'value':['1', '1', '1']}, ignore_index=True)\n",
    "events = events.append({'id':'high_O2', 'variable':['O2xt'], 'relation':'geq', 'threshold':'theta_xt', 'assignment':['qual_con_arcA_bar', 'qual_con_fnr_bar', 'O2_neg'], 'value':['0', '0', '0']}, ignore_index=True)\n",
    "# effect of SUCC only\n",
    "events = events.append({'id':'low_SUCC', 'variable':['SUCCxt'], 'relation':'lt', 'threshold':'theta_xt', 'assignment':['qual_con_dcuS_bar'], 'value':['0']}, ignore_index=True)\n",
    "events = events.append({'id':'high_SUCC', 'variable':['SUCCxt'], 'relation':'geq', 'threshold':'theta_xt', 'assignment':['qual_con_dcuS_bar'], 'value':['1']}, ignore_index=True)\n",
    "# effect of LCTS only\n",
    "events = events.append({'id':'low_LCTS', 'variable':['LCTSxt'], 'relation':'lt', 'threshold':'theta_xt', 'assignment':['qual_con_galR_bar', 'qual_con_galS_bar', 'qual_con_lacI_bar'], 'value':['1', '1', '1']}, ignore_index=True)\n",
    "events = events.append({'id':'high_LCTS', 'variable':['LCTSxt'], 'relation':'geq', 'threshold':'theta_xt', 'assignment':['qual_con_galR_bar', 'qual_con_galS_bar', 'qual_con_lacI_bar'], 'value':['0', '0', '0']}, ignore_index=True)\n",
    "# effect of GL only\n",
    "events = events.append({'id':'low_GL', 'variable':['GLxt'], 'relation':'lt', 'threshold':'theta_xt', 'assignment':['qual_con_glpR_bar'], 'value':['1']}, ignore_index=True)\n",
    "events = events.append({'id':'high_GL', 'variable':['GLxt'], 'relation':'geq', 'threshold':'theta_xt', 'assignment':['qual_con_glpR_bar'], 'value':['0']}, ignore_index=True)\n",
    "# effect of GLC only\n",
    "events = events.append({'id':'low_GLC', 'variable':['GLCxt'], 'relation':'lt', 'threshold':'theta_xt', 'assignment':['qual_con_mlc_bar', 'Glc_neg', 'Glc_aux'], 'value':['1', '1', '0']}, ignore_index=True)\n",
    "events = events.append({'id':'high_GLC', 'variable':['GLCxt'], 'relation':'geq', 'threshold':'theta_xt', 'assignment':['qual_con_mlc_bar', 'Glc_neg', 'Glc_aux'], 'value':['0', '0', '1']}, ignore_index=True)\n",
    "# effect of RIB only\n",
    "events = events.append({'id':'low_RIB', 'variable':['RIBxt'], 'relation':'lt', 'threshold':'theta_xt', 'assignment':['qual_con_rbsR_bar', 'qual_con_rpiR_bar'], 'value':['1', '1']}, ignore_index=True)\n",
    "events = events.append({'id':'high_RIB', 'variable':['RIBxt'], 'relation':'geq', 'threshold':'theta_xt', 'assignment':['qual_con_rbsR_bar', 'qual_con_rpiR_bar'], 'value':['0', '0']}, ignore_index=True)\n",
    "# effect of RP DcuS only\n",
    "events = events.append({'id':'low_DcuS', 'variable':['RP_DcuS'], 'relation':'lt', 'threshold':'theta_RP', 'assignment':['qual_con_dcuR_bar'], 'value':['0']}, ignore_index=True)\n",
    "events = events.append({'id':'high_DcuS', 'variable':['RP_DcuS'], 'relation':'geq', 'threshold':'theta_RP', 'assignment':['qual_con_dcuR_bar'], 'value':['1']}, ignore_index=True)\n",
    "# effect of RP FadR only\n",
    "events = events.append({'id':'low_FadR', 'variable':['RP_FadR'], 'relation':'lt', 'threshold':'theta_RP', 'assignment':['qual_con_iclR_bar'], 'value':['0']}, ignore_index=True)\n",
    "events = events.append({'id':'high_FadR', 'variable':['RP_FadR'], 'relation':'geq', 'threshold':'theta_RP', 'assignment':['qual_con_iclR_bar'], 'value':['1']}, ignore_index=True)\n",
    "\n",
    "# effect of RP IclR only\n",
    "events = events.append({'id':'low_IclR', 'variable':['RP_IclR'], 'relation':'lt', 'threshold':'theta_RP', 'assignment':['qual_con_ACEA_bar', 'IclR_neg'], 'value':['1', '1']}, ignore_index=True)\n",
    "events = events.append({'id':'high_IclR', 'variable':['RP_IclR'], 'relation':'geq', 'threshold':'theta_RP', 'assignment':['qual_con_ACEA_bar', 'IclR_neg'], 'value':['0', '0']}, ignore_index=True)\n",
    "# effect of RP PdhR only\n",
    "events = events.append({'id':'low_PdhR', 'variable':['RP_PdhR'], 'relation':'lt', 'threshold':'theta_RP', 'assignment':['qual_con_ACEE_bar', 'qual_con_SUCA_bar'], 'value':['1', '1']}, ignore_index=True)\n",
    "events = events.append({'id':'high_PdhR', 'variable':['RP_PdhR'], 'relation':'geq', 'threshold':'theta_RP', 'assignment':['qual_con_ACEE_bar', 'qual_con_SUCA_bar'], 'value':['0', '0']}, ignore_index=True)\n",
    "# effect of RP FNR only\n",
    "events = events.append({'id':'low_FNR', 'variable':['RP_FNR'], 'relation':'lt', 'threshold':'theta_RP', 'assignment':['qual_con_FDNG_bar', 'qual_con_FUMBR_bar', 'qual_con_NDH_bar', 'FNR_aux', 'FNR_neg'], 'value':['0', '0', '1', '0', '1']}, ignore_index=True)\n",
    "events = events.append({'id':'high_FNR', 'variable':['RP_FNR'], 'relation':'geq', 'threshold':'theta_RP', 'assignment':['qual_con_FDNG_bar', 'qual_con_FUMBR_bar', 'qual_con_NDH_bar', 'FNR_aux', 'FNR_neg'], 'value':['1', '1', '0', '1', '0']}, ignore_index=True)\n",
    "# effect of RP ArcA only\n",
    "events = events.append({'id':'low_arcA', 'variable':['RP_ArcA'], 'relation':'lt', 'threshold':'theta_RP', 'assignment':['qual_con_MDHR_bar', 'ArcA_aux', 'ArcA_neg'], 'value':['1', '0', '1']}, ignore_index=True)\n",
    "events = events.append({'id':'high_arcA', 'variable':['RP_ArcA'], 'relation':'geq', 'threshold':'theta_RP', 'assignment':['qual_con_MDHR_bar', 'ArcA_aux', 'ArcA_neg'], 'value':['0', '1', '0']}, ignore_index=True)\n",
    "# effects of Cra only\n",
    "events = events.append({'id':'low_Cra', 'variable':['RP_Cra'], 'relation':'lt', 'threshold':'theta_RP', 'assignment':['qual_con_PPSA_bar', 'qual_con_PYKF_bar', 'Cra_neg'], 'value':['0', '1', '1']}, ignore_index=True)\n",
    "events = events.append({'id':'high_Cra', 'variable':['RP_Cra'], 'relation':'geq', 'threshold':'theta_RP', 'assignment':['qual_con_PPSA_bar', 'qual_con_PYKF_bar', 'Cra_neg'], 'value':['1', '0', '0']}, ignore_index=True)\n",
    "# effect of RpiR only\n",
    "events = events.append({'id':'low_RpiR', 'variable':['RP_RpiR'], 'relation':'lt', 'threshold':'theta_RP', 'assignment':['qual_con_RPIBR_bar'], 'value':['1']}, ignore_index=True)\n",
    "events = events.append({'id':'high_RpiR', 'variable':['RP_RpiR'], 'relation':'geq', 'threshold':'theta_RP', 'assignment':['qual_con_RPIBR_bar'], 'value':['0']}, ignore_index=True)"
   ]
  },
  {
   "cell_type": "markdown",
   "metadata": {},
   "source": [
    "## Qualitative Species"
   ]
  },
  {
   "cell_type": "code",
   "execution_count": 112,
   "metadata": {},
   "outputs": [],
   "source": [
    "# initialize with gene names of regulatory proteins\n",
    "qualspec = rp[['Gene']].copy()\n",
    "qualspec['id'] = qualspec['Gene'] + '_bar'"
   ]
  },
  {
   "cell_type": "code",
   "execution_count": 113,
   "metadata": {},
   "outputs": [
    {
     "name": "stderr",
     "output_type": "stream",
     "text": [
      "/tmp/ipykernel_27889/1327108575.py:5: FutureWarning: The frame.append method is deprecated and will be removed from pandas in a future version. Use pandas.concat instead.\n",
      "  qualspec = qualspec.append({'id': ID}, ignore_index=True)\n",
      "/tmp/ipykernel_27889/1327108575.py:5: FutureWarning: The frame.append method is deprecated and will be removed from pandas in a future version. Use pandas.concat instead.\n",
      "  qualspec = qualspec.append({'id': ID}, ignore_index=True)\n",
      "/tmp/ipykernel_27889/1327108575.py:5: FutureWarning: The frame.append method is deprecated and will be removed from pandas in a future version. Use pandas.concat instead.\n",
      "  qualspec = qualspec.append({'id': ID}, ignore_index=True)\n",
      "/tmp/ipykernel_27889/1327108575.py:5: FutureWarning: The frame.append method is deprecated and will be removed from pandas in a future version. Use pandas.concat instead.\n",
      "  qualspec = qualspec.append({'id': ID}, ignore_index=True)\n",
      "/tmp/ipykernel_27889/1327108575.py:5: FutureWarning: The frame.append method is deprecated and will be removed from pandas in a future version. Use pandas.concat instead.\n",
      "  qualspec = qualspec.append({'id': ID}, ignore_index=True)\n",
      "/tmp/ipykernel_27889/1327108575.py:5: FutureWarning: The frame.append method is deprecated and will be removed from pandas in a future version. Use pandas.concat instead.\n",
      "  qualspec = qualspec.append({'id': ID}, ignore_index=True)\n",
      "/tmp/ipykernel_27889/1327108575.py:5: FutureWarning: The frame.append method is deprecated and will be removed from pandas in a future version. Use pandas.concat instead.\n",
      "  qualspec = qualspec.append({'id': ID}, ignore_index=True)\n",
      "/tmp/ipykernel_27889/1327108575.py:5: FutureWarning: The frame.append method is deprecated and will be removed from pandas in a future version. Use pandas.concat instead.\n",
      "  qualspec = qualspec.append({'id': ID}, ignore_index=True)\n",
      "/tmp/ipykernel_27889/1327108575.py:5: FutureWarning: The frame.append method is deprecated and will be removed from pandas in a future version. Use pandas.concat instead.\n",
      "  qualspec = qualspec.append({'id': ID}, ignore_index=True)\n",
      "/tmp/ipykernel_27889/1327108575.py:5: FutureWarning: The frame.append method is deprecated and will be removed from pandas in a future version. Use pandas.concat instead.\n",
      "  qualspec = qualspec.append({'id': ID}, ignore_index=True)\n",
      "/tmp/ipykernel_27889/1327108575.py:5: FutureWarning: The frame.append method is deprecated and will be removed from pandas in a future version. Use pandas.concat instead.\n",
      "  qualspec = qualspec.append({'id': ID}, ignore_index=True)\n",
      "/tmp/ipykernel_27889/1327108575.py:5: FutureWarning: The frame.append method is deprecated and will be removed from pandas in a future version. Use pandas.concat instead.\n",
      "  qualspec = qualspec.append({'id': ID}, ignore_index=True)\n",
      "/tmp/ipykernel_27889/1327108575.py:5: FutureWarning: The frame.append method is deprecated and will be removed from pandas in a future version. Use pandas.concat instead.\n",
      "  qualspec = qualspec.append({'id': ID}, ignore_index=True)\n",
      "/tmp/ipykernel_27889/1327108575.py:5: FutureWarning: The frame.append method is deprecated and will be removed from pandas in a future version. Use pandas.concat instead.\n",
      "  qualspec = qualspec.append({'id': ID}, ignore_index=True)\n",
      "/tmp/ipykernel_27889/1327108575.py:5: FutureWarning: The frame.append method is deprecated and will be removed from pandas in a future version. Use pandas.concat instead.\n",
      "  qualspec = qualspec.append({'id': ID}, ignore_index=True)\n",
      "/tmp/ipykernel_27889/1327108575.py:5: FutureWarning: The frame.append method is deprecated and will be removed from pandas in a future version. Use pandas.concat instead.\n",
      "  qualspec = qualspec.append({'id': ID}, ignore_index=True)\n",
      "/tmp/ipykernel_27889/1327108575.py:5: FutureWarning: The frame.append method is deprecated and will be removed from pandas in a future version. Use pandas.concat instead.\n",
      "  qualspec = qualspec.append({'id': ID}, ignore_index=True)\n",
      "/tmp/ipykernel_27889/1327108575.py:5: FutureWarning: The frame.append method is deprecated and will be removed from pandas in a future version. Use pandas.concat instead.\n",
      "  qualspec = qualspec.append({'id': ID}, ignore_index=True)\n",
      "/tmp/ipykernel_27889/1327108575.py:5: FutureWarning: The frame.append method is deprecated and will be removed from pandas in a future version. Use pandas.concat instead.\n",
      "  qualspec = qualspec.append({'id': ID}, ignore_index=True)\n",
      "/tmp/ipykernel_27889/1327108575.py:5: FutureWarning: The frame.append method is deprecated and will be removed from pandas in a future version. Use pandas.concat instead.\n",
      "  qualspec = qualspec.append({'id': ID}, ignore_index=True)\n",
      "/tmp/ipykernel_27889/1327108575.py:5: FutureWarning: The frame.append method is deprecated and will be removed from pandas in a future version. Use pandas.concat instead.\n",
      "  qualspec = qualspec.append({'id': ID}, ignore_index=True)\n",
      "/tmp/ipykernel_27889/1327108575.py:5: FutureWarning: The frame.append method is deprecated and will be removed from pandas in a future version. Use pandas.concat instead.\n",
      "  qualspec = qualspec.append({'id': ID}, ignore_index=True)\n",
      "/tmp/ipykernel_27889/1327108575.py:5: FutureWarning: The frame.append method is deprecated and will be removed from pandas in a future version. Use pandas.concat instead.\n",
      "  qualspec = qualspec.append({'id': ID}, ignore_index=True)\n",
      "/tmp/ipykernel_27889/1327108575.py:5: FutureWarning: The frame.append method is deprecated and will be removed from pandas in a future version. Use pandas.concat instead.\n",
      "  qualspec = qualspec.append({'id': ID}, ignore_index=True)\n",
      "/tmp/ipykernel_27889/1327108575.py:5: FutureWarning: The frame.append method is deprecated and will be removed from pandas in a future version. Use pandas.concat instead.\n",
      "  qualspec = qualspec.append({'id': ID}, ignore_index=True)\n",
      "/tmp/ipykernel_27889/1327108575.py:5: FutureWarning: The frame.append method is deprecated and will be removed from pandas in a future version. Use pandas.concat instead.\n",
      "  qualspec = qualspec.append({'id': ID}, ignore_index=True)\n",
      "/tmp/ipykernel_27889/1327108575.py:5: FutureWarning: The frame.append method is deprecated and will be removed from pandas in a future version. Use pandas.concat instead.\n",
      "  qualspec = qualspec.append({'id': ID}, ignore_index=True)\n",
      "/tmp/ipykernel_27889/1327108575.py:5: FutureWarning: The frame.append method is deprecated and will be removed from pandas in a future version. Use pandas.concat instead.\n",
      "  qualspec = qualspec.append({'id': ID}, ignore_index=True)\n",
      "/tmp/ipykernel_27889/1327108575.py:5: FutureWarning: The frame.append method is deprecated and will be removed from pandas in a future version. Use pandas.concat instead.\n",
      "  qualspec = qualspec.append({'id': ID}, ignore_index=True)\n",
      "/tmp/ipykernel_27889/1327108575.py:5: FutureWarning: The frame.append method is deprecated and will be removed from pandas in a future version. Use pandas.concat instead.\n",
      "  qualspec = qualspec.append({'id': ID}, ignore_index=True)\n",
      "/tmp/ipykernel_27889/1327108575.py:5: FutureWarning: The frame.append method is deprecated and will be removed from pandas in a future version. Use pandas.concat instead.\n",
      "  qualspec = qualspec.append({'id': ID}, ignore_index=True)\n",
      "/tmp/ipykernel_27889/1327108575.py:5: FutureWarning: The frame.append method is deprecated and will be removed from pandas in a future version. Use pandas.concat instead.\n",
      "  qualspec = qualspec.append({'id': ID}, ignore_index=True)\n",
      "/tmp/ipykernel_27889/1327108575.py:5: FutureWarning: The frame.append method is deprecated and will be removed from pandas in a future version. Use pandas.concat instead.\n",
      "  qualspec = qualspec.append({'id': ID}, ignore_index=True)\n",
      "/tmp/ipykernel_27889/1327108575.py:5: FutureWarning: The frame.append method is deprecated and will be removed from pandas in a future version. Use pandas.concat instead.\n",
      "  qualspec = qualspec.append({'id': ID}, ignore_index=True)\n",
      "/tmp/ipykernel_27889/1327108575.py:5: FutureWarning: The frame.append method is deprecated and will be removed from pandas in a future version. Use pandas.concat instead.\n",
      "  qualspec = qualspec.append({'id': ID}, ignore_index=True)\n",
      "/tmp/ipykernel_27889/1327108575.py:5: FutureWarning: The frame.append method is deprecated and will be removed from pandas in a future version. Use pandas.concat instead.\n",
      "  qualspec = qualspec.append({'id': ID}, ignore_index=True)\n",
      "/tmp/ipykernel_27889/1327108575.py:5: FutureWarning: The frame.append method is deprecated and will be removed from pandas in a future version. Use pandas.concat instead.\n",
      "  qualspec = qualspec.append({'id': ID}, ignore_index=True)\n",
      "/tmp/ipykernel_27889/1327108575.py:5: FutureWarning: The frame.append method is deprecated and will be removed from pandas in a future version. Use pandas.concat instead.\n",
      "  qualspec = qualspec.append({'id': ID}, ignore_index=True)\n",
      "/tmp/ipykernel_27889/1327108575.py:5: FutureWarning: The frame.append method is deprecated and will be removed from pandas in a future version. Use pandas.concat instead.\n",
      "  qualspec = qualspec.append({'id': ID}, ignore_index=True)\n",
      "/tmp/ipykernel_27889/1327108575.py:5: FutureWarning: The frame.append method is deprecated and will be removed from pandas in a future version. Use pandas.concat instead.\n",
      "  qualspec = qualspec.append({'id': ID}, ignore_index=True)\n",
      "/tmp/ipykernel_27889/1327108575.py:5: FutureWarning: The frame.append method is deprecated and will be removed from pandas in a future version. Use pandas.concat instead.\n",
      "  qualspec = qualspec.append({'id': ID}, ignore_index=True)\n",
      "/tmp/ipykernel_27889/1327108575.py:5: FutureWarning: The frame.append method is deprecated and will be removed from pandas in a future version. Use pandas.concat instead.\n",
      "  qualspec = qualspec.append({'id': ID}, ignore_index=True)\n",
      "/tmp/ipykernel_27889/1327108575.py:5: FutureWarning: The frame.append method is deprecated and will be removed from pandas in a future version. Use pandas.concat instead.\n",
      "  qualspec = qualspec.append({'id': ID}, ignore_index=True)\n"
     ]
    }
   ],
   "source": [
    "# gene expression of regulated enzymes\n",
    "for index, enzyme in enzymes['id'].items():\n",
    "    if not pd.isna(enzymes['Regulatory logic'][index]):\n",
    "        ID = enzyme[2:] + '_bar'\n",
    "        qualspec = qualspec.append({'id': ID}, ignore_index=True)"
   ]
  },
  {
   "cell_type": "code",
   "execution_count": 114,
   "metadata": {},
   "outputs": [
    {
     "name": "stderr",
     "output_type": "stream",
     "text": [
      "/tmp/ipykernel_27889/3229497360.py:2: FutureWarning: The frame.append method is deprecated and will be removed from pandas in a future version. Use pandas.concat instead.\n",
      "  qualspec = qualspec.append({'id': 'LACUP_bar'}, ignore_index=True)\n"
     ]
    }
   ],
   "source": [
    "# LACUP: spontaneous, but regulated\n",
    "qualspec = qualspec.append({'id': 'LACUP_bar'}, ignore_index=True)"
   ]
  },
  {
   "cell_type": "code",
   "execution_count": 115,
   "metadata": {
    "scrolled": true
   },
   "outputs": [],
   "source": [
    "qualspec['max'] = 1"
   ]
  },
  {
   "cell_type": "markdown",
   "metadata": {},
   "source": [
    "# Parameters"
   ]
  },
  {
   "cell_type": "code",
   "execution_count": 116,
   "metadata": {},
   "outputs": [],
   "source": [
    "fbc_parameters = []"
   ]
  },
  {
   "cell_type": "code",
   "execution_count": 117,
   "metadata": {},
   "outputs": [],
   "source": [
    "qual_parameters = []"
   ]
  },
  {
   "cell_type": "markdown",
   "metadata": {},
   "source": [
    "# Write Model as XML"
   ]
  },
  {
   "cell_type": "code",
   "execution_count": 118,
   "metadata": {},
   "outputs": [],
   "source": [
    "if filename_out is None:\n",
    "    today = date.today()\n",
    "    if rdefba:\n",
    "        filename_out = f\"ecoli_core_rdeFBA_{today.strftime('%Y%m%d')}\"\n",
    "    else:\n",
    "        filename_out = f\"ecoli_core_rdeFBA_{today.strftime('%Y%m%d')}\""
   ]
  },
  {
   "cell_type": "code",
   "execution_count": 119,
   "metadata": {},
   "outputs": [],
   "source": [
    "f = open(filename_out + '.xml', 'w').close()\n",
    "f = open(filename_out + '.xml', 'w')"
   ]
  },
  {
   "cell_type": "markdown",
   "metadata": {},
   "source": [
    "## First lines"
   ]
  },
  {
   "cell_type": "code",
   "execution_count": 120,
   "metadata": {
    "scrolled": true
   },
   "outputs": [
    {
     "data": {
      "text/plain": [
       "39"
      ]
     },
     "execution_count": 120,
     "metadata": {},
     "output_type": "execute_result"
    }
   ],
   "source": [
    "# XML definition\n",
    "f.write(\"<?xml version=\\\"1.0\\\" encoding=\\\"UTF-8\\\"?>\\n\")"
   ]
  },
  {
   "cell_type": "code",
   "execution_count": 121,
   "metadata": {},
   "outputs": [],
   "source": [
    "# SBML definition\n",
    "if rdefba:\n",
    "    f.write(\"<sbml xmlns=\\\"http://www.sbml.org/sbml/level3/version2/core\\\" level=\\\"3\\\" version=\\\"2\\\" xmlns:qual=\\\"http://www.sbml.org/sbml/level3/version1/qual/version1\\\" qual:required=\\\"true\\\" xmlns:fbc=\\\"http://www.sbml.org/sbml/level3/version1/fbc/version2\\\" fbc:required=\\\"false\\\">\\n\")\n",
    "else:\n",
    "    f.write(\"<sbml xmlns=\\\"http://www.sbml.org/sbml/level3/version2/core\\\" level=\\\"3\\\" version=\\\"2\\\" xmlns:fbc=\\\"http://www.sbml.org/sbml/level3/version1/fbc/version2\\\" fbc:required=\\\"false\\\">\\n\")\n"
   ]
  },
  {
   "cell_type": "code",
   "execution_count": 122,
   "metadata": {},
   "outputs": [
    {
     "data": {
      "text/plain": [
       "68"
      ]
     },
     "execution_count": 122,
     "metadata": {},
     "output_type": "execute_result"
    }
   ],
   "source": [
    "# Model Definition\n",
    "f.write(\"<model id=\\\"\" + filename_out + \"\\\" name=\\\"\" + filename_out + \"\\\" fbc:strict=\\\"false\\\">\\n\\n\")"
   ]
  },
  {
   "cell_type": "markdown",
   "metadata": {},
   "source": [
    "## List of Compartments"
   ]
  },
  {
   "cell_type": "code",
   "execution_count": 123,
   "metadata": {
    "scrolled": true
   },
   "outputs": [
    {
     "data": {
      "text/plain": [
       "142"
      ]
     },
     "execution_count": 123,
     "metadata": {},
     "output_type": "execute_result"
    }
   ],
   "source": [
    "f.write(\"<listOfCompartments>\\n  <compartment id=\\\"extracellular\\\" constant=\\\"true\\\"/>\\n  <compartment id=\\\"cytosol\\\" constant=\\\"true\\\"/>\\n</listOfCompartments>\\n\\n\")"
   ]
  },
  {
   "cell_type": "markdown",
   "metadata": {},
   "source": [
    "## List of Species"
   ]
  },
  {
   "cell_type": "code",
   "execution_count": 124,
   "metadata": {},
   "outputs": [
    {
     "data": {
      "text/plain": [
       "16"
      ]
     },
     "execution_count": 124,
     "metadata": {},
     "output_type": "execute_result"
    }
   ],
   "source": [
    "f.write(\"<listOfSpecies>\\n\")"
   ]
  },
  {
   "cell_type": "markdown",
   "metadata": {},
   "source": [
    "### Metabolites"
   ]
  },
  {
   "cell_type": "markdown",
   "metadata": {},
   "source": [
    "#### extracellular metabolites $\\mathcal{Y}$"
   ]
  },
  {
   "cell_type": "code",
   "execution_count": 125,
   "metadata": {},
   "outputs": [],
   "source": [
    "for index, value in extracellular['id'].items():\n",
    "    f.write(\"<species id=\\\"\"+value+\"\\\" name=\\\"\"+extracellular['name'][index]+\"\\\" compartment=\\\"extracellular\\\" initialAmount=\\\"\"+str(extracellular['initialAmount'][index])+\"\\\" constant=\\\"false\\\" boundaryCondition=\\\"\"+extracellular['boundaryCondition'][index]+\"\\\" hasOnlySubstanceUnits=\\\"true\\\">\\n  <annotation>\\n    <ram:RAM xmlns:ram=\\\"https://www.fairdomhub.org/sops/304\\\">\\n      <ram:species ram:molecularWeight=\\\"0.0\\\" ram:objectiveWeight=\\\"0.0\\\" ram:biomassPercentage=\\\"0.0\\\" ram:speciesType=\\\"extracellular\\\"/>\\n    </ram:RAM>\\n  </annotation>\\n</species>\\n\")"
   ]
  },
  {
   "cell_type": "markdown",
   "metadata": {},
   "source": [
    "#### extracellular metabolites $\\mathcal{X}$"
   ]
  },
  {
   "cell_type": "code",
   "execution_count": 126,
   "metadata": {},
   "outputs": [],
   "source": [
    "for index, value in intracellular['id'].items():\n",
    "    f.write(\"<species id=\\\"\"+value+\"\\\" name=\\\"\"+intracellular['name'][index]+\"\\\" compartment=\\\"cytosol\\\" initialAmount=\\\"0.0\\\" constant=\\\"false\\\" boundaryCondition=\\\"false\\\" hasOnlySubstanceUnits=\\\"true\\\">\\n  <annotation>\\n    <ram:RAM xmlns:ram=\\\"https://www.fairdomhub.org/sops/304\\\">\\n      <ram:species ram:molecularWeight=\\\"0.0\\\" ram:objectiveWeight=\\\"0.0\\\" ram:biomassPercentage=\\\"0.0\\\" ram:speciesType=\\\"metabolite\\\"/>\\n    </ram:RAM>\\n  </annotation>\\n</species>\\n\")"
   ]
  },
  {
   "cell_type": "markdown",
   "metadata": {},
   "source": [
    "### Macromolecules $\\mathcal{P}$"
   ]
  },
  {
   "cell_type": "markdown",
   "metadata": {},
   "source": [
    "#### Enzymes $\\mathcal{E}$ (including Ribosome)"
   ]
  },
  {
   "cell_type": "code",
   "execution_count": 127,
   "metadata": {},
   "outputs": [],
   "source": [
    "for index, value in enzymes['id'].items():\n",
    "    f.write(\"<species id=\\\"\"+value+\"\\\" name=\\\"\"+enzymes['name'][index]+\"\\\" compartment=\\\"cytosol\\\" initialAmount=\\\"\"+str(enzymes['initialAmount'][index])+\"\\\" constant=\\\"false\\\" boundaryCondition=\\\"false\\\" hasOnlySubstanceUnits=\\\"true\\\">\\n  <annotation>\\n    <ram:RAM xmlns:ram=\\\"https://www.fairdomhub.org/sops/304\\\">\\n      <ram:species ram:molecularWeight=\\\"\"+str(enzymes['ram:molecularWeight'][index])+\"\\\" ram:objectiveWeight=\\\"\"+str(enzymes['ram:objectiveWeight'][index])+\"\\\" ram:biomassPercentage=\\\"0.0\\\" ram:speciesType=\\\"enzyme\\\"/>\\n    </ram:RAM>\\n  </annotation>\\n</species>\\n\")"
   ]
  },
  {
   "cell_type": "markdown",
   "metadata": {},
   "source": [
    "#### Regulatory Proteins $\\mathcal{RP}$"
   ]
  },
  {
   "cell_type": "code",
   "execution_count": 128,
   "metadata": {},
   "outputs": [],
   "source": [
    "if rdefba:\n",
    "    for index, value in rp['id'].items():\n",
    "        f.write(\"<species id=\\\"\"+value+\"\\\" name=\\\"\"+rp['name'][index]+\"\\\" compartment=\\\"cytosol\\\" initialAmount=\\\"\"+str(rp['initialAmount'][index])+\"\\\" constant=\\\"false\\\" boundaryCondition=\\\"false\\\" hasOnlySubstanceUnits=\\\"true\\\">\\n  <annotation>\\n    <ram:RAM xmlns:ram=\\\"https://www.fairdomhub.org/sops/304\\\">\\n      <ram:species ram:molecularWeight=\\\"\"+str(rp['ram:molecularWeight'][index])+\"\\\" ram:objectiveWeight=\\\"\"+str(rp['ram:objectiveWeight'][index])+\"\\\" ram:biomassPercentage=\\\"0.0\\\" ram:speciesType=\\\"enzyme\\\"/>\\n    </ram:RAM>\\n  </annotation>\\n</species>\\n\")"
   ]
  },
  {
   "cell_type": "markdown",
   "metadata": {},
   "source": [
    "#### Quota $\\mathcal{Q}$"
   ]
  },
  {
   "cell_type": "code",
   "execution_count": 129,
   "metadata": {},
   "outputs": [],
   "source": [
    "for index, value in quota['ID'].items():\n",
    "    f.write(\"<species id=\\\"\"+value+\"\\\" compartment=\\\"cytosol\\\" initialAmount=\\\"\"+str(quota['initialAmount'][index])+\"\\\" constant=\\\"false\\\" boundaryCondition=\\\"false\\\" hasOnlySubstanceUnits=\\\"true\\\">\\n  <annotation>\\n    <ram:RAM xmlns:ram=\\\"https://www.fairdomhub.org/sops/304\\\">\\n      <ram:species ram:molecularWeight=\\\"\"+str(quota['ram:molecularWeight'][index])+\"\\\" ram:objectiveWeight=\\\"\"+str(quota['ram:objectiveWeight'][index])+\"\\\" ram:biomassPercentage=\\\"\"+str(quota['ram:biomassPercentage'][index])+\"\\\" ram:speciesType=\\\"quota\\\"/>\\n    </ram:RAM>\\n  </annotation>\\n</species>\\n\")    "
   ]
  },
  {
   "cell_type": "code",
   "execution_count": 130,
   "metadata": {},
   "outputs": [
    {
     "data": {
      "text/plain": [
       "18"
      ]
     },
     "execution_count": 130,
     "metadata": {},
     "output_type": "execute_result"
    }
   ],
   "source": [
    "f.write(\"</listOfSpecies>\\n\\n\")"
   ]
  },
  {
   "cell_type": "markdown",
   "metadata": {},
   "source": [
    "## List of Reactions $\\mathcal{R}$"
   ]
  },
  {
   "cell_type": "code",
   "execution_count": 131,
   "metadata": {
    "scrolled": true
   },
   "outputs": [
    {
     "data": {
      "text/plain": [
       "18"
      ]
     },
     "execution_count": 131,
     "metadata": {},
     "output_type": "execute_result"
    }
   ],
   "source": [
    "f.write(\"<listOfReactions>\\n\")"
   ]
  },
  {
   "cell_type": "markdown",
   "metadata": {},
   "source": [
    "### Metabolic Reactions $\\mathcal{R_X}$ and $\\mathcal{R_Y}$"
   ]
  },
  {
   "cell_type": "code",
   "execution_count": 132,
   "metadata": {},
   "outputs": [],
   "source": [
    "def add_gene_and_reactants(f, reactions_turnover, index, value, stoich, stoich_bool, reverse):\n",
    "    \"\"\" This function only exist for splitting of reversible reactions. Can be removed later \"\"\"\n",
    "    if pd.isna(reactions_turnover['fbc:geneProductAssociation'][index]): # spontaneous reactions\n",
    "        pass\n",
    "    else:\n",
    "        f.write(\"  <fbc:geneProductAssociation fbc:id=\\\"\"+reactions_turnover['fbc:geneProductAssociation'][index]+\"\\\">\\n    <fbc:geneProductRef fbc:geneProduct=\\\"\"+reactions_turnover['fbc:geneProductAssociation'][index]+\"\\\"/>\\n  </fbc:geneProductAssociation>\\n\")\n",
    "    f.write(\"  <listOfReactants>\\n\")\n",
    "    split_reaction = re.split(r'[+\\s]\\s*', reactions_turnover['Reaction'][index])\n",
    "    if reverse: # if its a reverse reaction we have to switch educts and products\n",
    "        arrow_idx = [i for i, s in enumerate(split_reaction) if '-' in s][0]\n",
    "        split_reaction = split_reaction[arrow_idx+1:] + [split_reaction[arrow_idx]] + split_reaction[:arrow_idx]\n",
    "    for g in split_reaction:\n",
    "        if '-' in g:\n",
    "            f.write(\"  </listOfReactants>\\n  <listOfProducts>\\n\")\n",
    "        else:\n",
    "            try:\n",
    "                stoich = float(g)\n",
    "                stoich_bool = True\n",
    "            except ValueError:\n",
    "                if g == \"\":\n",
    "                    pass\n",
    "                else:\n",
    "                    if stoich_bool == False:\n",
    "                        stoich = 1.0\n",
    "                    f.write(\"    <speciesReference species=\\\"\"+g+\"\\\" stoichiometry=\\\"\"+str(stoich)+\"\\\" constant=\\\"true\\\"/>\\n\")\n",
    "                    stoich_bool = False\n",
    "    f.write(\"  </listOfProducts>\\n</reaction>\\n\")\n",
    "\n",
    "stoich = 1.0\n",
    "stoich_bool = False\n",
    "for index, value in reactions_turnover['Covert ID'].items():\n",
    "    if rdefba and value == 'LACUP':\n",
    "        param_lower = 'T_LACUP_FBClower'\n",
    "        param_upper = 'T_LACUP_FBCupper'\n",
    "        fbc_parameters.append(param_lower)\n",
    "        fbc_parameters.append(param_upper)\n",
    "        f.write(\"<reaction id=\\\"\"+value+\"\\\" reversible=\\\"false\\\" fbc:lowerFluxBound=\\\"\" + param_lower + \"\\\" fbc:upperFluxBound=\\\"\" + param_upper + \"\\\">\\n  <annotation>\\n    <ram:RAM xmlns:ram=\\\"https://www.fairdomhub.org/sops/304\\\">\\n      <ram:reaction ram:kcatForward=\\\"\"+str(reactions_turnover['kcat_fwd/min'][index])+\"\\\" ram:kcatBackward=\\\"\"+str(reactions_turnover['kcat_bwd/min'][index])+\"\\\" ram:maintenanceScaling=\\\"0.0\\\"/>\\n    </ram:RAM>\\n  </annotation>\\n\")\n",
    "    elif '<' in reactions_turnover['Reaction'][index]: # reversible\n",
    "        \n",
    "        # split reversible reaction into forward and reverse (_rev) reaction\n",
    "        if split_reversible_reactions:\n",
    "            f.write(\"<reaction id=\\\"\"+value+\"\\\" reversible=\\\"false\\\">\\n  <annotation>\\n    <ram:RAM xmlns:ram=\\\"https://www.fairdomhub.org/sops/304\\\">\\n      <ram:reaction ram:kcatForward=\\\"\"+str(reactions_turnover['kcat_fwd/min'][index])+\"\\\" ram:kcatBackward=\\\"0.0\\\" ram:maintenanceScaling=\\\"0.0\\\"/>\\n    </ram:RAM>\\n  </annotation>\\n\")\n",
    "            add_gene_and_reactants(f, reactions_turnover, index, value, stoich, stoich_bool, False)\n",
    "            f.write(\"<reaction id=\\\"\"+f\"{value}_rev\"+\"\\\" reversible=\\\"false\\\">\\n  <annotation>\\n    <ram:RAM xmlns:ram=\\\"https://www.fairdomhub.org/sops/304\\\">\\n      <ram:reaction ram:kcatForward=\\\"\"+str(reactions_turnover['kcat_bwd/min'][index])+\"\\\" ram:kcatBackward=\\\"0.0\\\" ram:maintenanceScaling=\\\"0.0\\\"/>\\n    </ram:RAM>\\n  </annotation>\\n\")\n",
    "            add_gene_and_reactants(f, reactions_turnover, index, value, stoich, stoich_bool, True)\n",
    "            continue\n",
    "            \n",
    "        # Create reversible reaction\n",
    "        else:\n",
    "            f.write(\"<reaction id=\\\"\"+value+\"\\\" reversible=\\\"true\\\">\\n  <annotation>\\n    <ram:RAM xmlns:ram=\\\"https://www.fairdomhub.org/sops/304\\\">\\n      <ram:reaction ram:kcatForward=\\\"\"+str(reactions_turnover['kcat_fwd/min'][index])+\"\\\" ram:kcatBackward=\\\"\"+str(reactions_turnover['kcat_bwd/min'][index])+\"\\\" ram:maintenanceScaling=\\\"0.0\\\"/>\\n    </ram:RAM>\\n  </annotation>\\n\")\n",
    "        \n",
    "    else:\n",
    "        f.write(\"<reaction id=\\\"\"+value+\"\\\" reversible=\\\"false\\\">\\n  <annotation>\\n    <ram:RAM xmlns:ram=\\\"https://www.fairdomhub.org/sops/304\\\">\\n      <ram:reaction ram:kcatForward=\\\"\"+str(reactions_turnover['kcat_fwd/min'][index])+\"\\\" ram:kcatBackward=\\\"0.0\\\" ram:maintenanceScaling=\\\"0.0\\\"/>\\n    </ram:RAM>\\n  </annotation>\\n\")\n",
    "    if pd.isna(reactions_turnover['fbc:geneProductAssociation'][index]): # spontaneous reactions\n",
    "        pass\n",
    "    else:\n",
    "        f.write(\"  <fbc:geneProductAssociation fbc:id=\\\"\"+reactions_turnover['fbc:geneProductAssociation'][index]+\"\\\">\\n    <fbc:geneProductRef fbc:geneProduct=\\\"\"+reactions_turnover['fbc:geneProductAssociation'][index]+\"\\\"/>\\n  </fbc:geneProductAssociation>\\n\")\n",
    "    f.write(\"  <listOfReactants>\\n\")\n",
    "    for g in re.split(r'[+\\s]\\s*', reactions_turnover['Reaction'][index]):\n",
    "        if '-' in g:\n",
    "            f.write(\"  </listOfReactants>\\n  <listOfProducts>\\n\")\n",
    "        else:\n",
    "            try:\n",
    "                stoich = float(g)\n",
    "                stoich_bool = True\n",
    "            except ValueError:\n",
    "                if g == \"\":\n",
    "                    pass\n",
    "                else:\n",
    "                    if stoich_bool == False:\n",
    "                        stoich = 1.0\n",
    "                    f.write(\"    <speciesReference species=\\\"\"+g+\"\\\" stoichiometry=\\\"\"+str(stoich)+\"\\\" constant=\\\"true\\\"/>\\n\")\n",
    "                    stoich_bool = False\n",
    "    f.write(\"  </listOfProducts>\\n</reaction>\\n\")"
   ]
  },
  {
   "cell_type": "markdown",
   "metadata": {},
   "source": [
    "### Translation Reactions $\\mathcal{R_P}$"
   ]
  },
  {
   "cell_type": "code",
   "execution_count": 133,
   "metadata": {},
   "outputs": [],
   "source": [
    "for index, value in translation['ID'].items():\n",
    "    if translation['ID'][index] == 'T_Quota_protein':\n",
    "        prefix = ''\n",
    "    elif pd.notnull(translation['Covert ID'][index]):\n",
    "        prefix = 'E_'\n",
    "    # Regulatory Proteins have no \"Covert ID\"\n",
    "    else:\n",
    "        if rdefba:\n",
    "            prefix = 'RP_'\n",
    "        else:\n",
    "            break\n",
    "    if rdefba:\n",
    "        if pd.notnull(translation['Regulatory logic'][index]):\n",
    "            param_upper = value + '_FBCupper'\n",
    "            param_lower = value + '_FBClower'\n",
    "            fbc_parameters.append(param_upper)\n",
    "            fbc_parameters.append(param_lower)\n",
    "            f.write(\"<reaction id=\\\"\"+value+\"\\\" reversible=\\\"false\\\" fbc:lowerFluxBound=\\\"\" + param_lower + \"\\\" fbc:upperFluxBound=\\\"\" + param_upper + \"\\\">\\n  <annotation>\\n    <ram:RAM xmlns:ram=\\\"https://www.fairdomhub.org/sops/304\\\">\\n      <ram:reaction ram:kcatForward=\\\"\"+str(translation['ram:kcatForward'][index])+\"\\\" ram:kcatBackward=\\\"0.0\\\" ram:maintenanceScaling=\\\"0.0\\\"/>\\n    </ram:RAM>\\n  </annotation>\\n\")\n",
    "        else:\n",
    "            f.write(\"<reaction id=\\\"\"+value+\"\\\" reversible=\\\"false\\\">\\n  <annotation>\\n    <ram:RAM xmlns:ram=\\\"https://www.fairdomhub.org/sops/304\\\">\\n      <ram:reaction ram:kcatForward=\\\"\"+str(translation['ram:kcatForward'][index])+\"\\\" ram:kcatBackward=\\\"0.0\\\" ram:maintenanceScaling=\\\"0.0\\\"/>\\n    </ram:RAM>\\n  </annotation>\\n\")    \n",
    "    else:\n",
    "        f.write(\"<reaction id=\\\"\"+value+\"\\\" reversible=\\\"false\\\">\\n  <annotation>\\n    <ram:RAM xmlns:ram=\\\"https://www.fairdomhub.org/sops/304\\\">\\n      <ram:reaction ram:kcatForward=\\\"\"+str(translation['ram:kcatForward'][index])+\"\\\" ram:kcatBackward=\\\"0.0\\\" ram:maintenanceScaling=\\\"0.0\\\"/>\\n    </ram:RAM>\\n  </annotation>\\n\")    \n",
    "    f.write(\"  <fbc:geneProductAssociation fbc:id=\\\"E_R\\\">\\n    <fbc:geneProductRef fbc:geneProduct=\\\"E_R\\\"/>\\n  </fbc:geneProductAssociation>\\n\")\n",
    "    f.write(\"  <listOfReactants>\\n    <speciesReference species=\\\"Z\\\" stoichiometry=\\\"\"+str(translation['Length'][index])+\"\\\" constant=\\\"true\\\"/>\\n    <speciesReference species=\\\"ATP\\\" stoichiometry=\\\"\"+str(3*translation['Length'][index])+\"\\\" constant=\\\"true\\\"/>\\n  </listOfReactants>\\n\")\n",
    "    f.write(\"  <listOfProducts>\\n    <speciesReference species=\\\"\"+prefix+translation['ID'][index][2:]+\"\\\" stoichiometry=\\\"1.0\\\" constant=\\\"true\\\"/>\\n    <speciesReference species=\\\"AMP\\\" stoichiometry=\\\"\"+str(translation['Length'][index])+\"\\\" constant=\\\"true\\\"/>\\n    <speciesReference species=\\\"PPI\\\" stoichiometry=\\\"\"+str(translation['Length'][index])+\"\\\" constant=\\\"true\\\"/>\\n    <speciesReference species=\\\"ADP\\\" stoichiometry=\\\"\"+str(2*translation['Length'][index])+\"\\\" constant=\\\"true\\\"/>\\n    <speciesReference species=\\\"PI\\\" stoichiometry=\\\"\"+str(2*translation['Length'][index])+\"\\\" constant=\\\"true\\\"/>\\n  </listOfProducts>\\n</reaction>\\n\")   \n",
    "    "
   ]
  },
  {
   "cell_type": "markdown",
   "metadata": {},
   "source": [
    "### Quota_rest"
   ]
  },
  {
   "cell_type": "code",
   "execution_count": 134,
   "metadata": {},
   "outputs": [
    {
     "data": {
      "text/plain": [
       "30"
      ]
     },
     "execution_count": 134,
     "metadata": {},
     "output_type": "execute_result"
    }
   ],
   "source": [
    "f.write(\"<reaction id=\\\"R_Quota_rest\\\" reversible=\\\"false\\\">\\n  <annotation>\\n    <ram:RAM xmlns:ram=\\\"https://www.fairdomhub.org/sops/304\\\">\\n      <ram:reaction ram:kcatForward=\\\"\\\" ram:kcatBackward=\\\"\\\" ram:maintenanceScaling=\\\"0.0\\\"/>\\n    </ram:RAM>\\n  </annotation>\\n\")    \n",
    "stoich = 1.0\n",
    "stoich_bool = False\n",
    "f.write(\"  <listOfReactants>\\n\")\n",
    "for g in re.split(r'[+\\s]\\s*', quota['Reaction'][quota.index[quota['ID'] == 'Quota_rest'].tolist()[0]]):\n",
    "    if '-' in g:\n",
    "        f.write(\"  </listOfReactants>\\n  <listOfProducts>\\n\")\n",
    "    else:\n",
    "        try:\n",
    "            stoich = float(g)\n",
    "            stoich_bool = True\n",
    "        except ValueError:\n",
    "            if g == \"\":\n",
    "                pass\n",
    "            else:\n",
    "                if g == \"Biomass\":\n",
    "                    g = \"Quota_rest\"\n",
    "                    stoich = 1.0\n",
    "                elif stoich_bool == False:\n",
    "                    stoich = 1.0\n",
    "                f.write(\"    <speciesReference species=\\\"\"+g+\"\\\" stoichiometry=\\\"\"+str(stoich)+\"\\\" constant=\\\"true\\\"/>\\n\")\n",
    "                stoich_bool = False\n",
    "f.write(\"</listOfProducts>\\n</reaction>\\n\")"
   ]
  },
  {
   "cell_type": "markdown",
   "metadata": {},
   "source": [
    "### Degradation Reactions $\\mathcal{R_{kd}}$"
   ]
  },
  {
   "cell_type": "markdown",
   "metadata": {},
   "source": [
    "#### Enzymes"
   ]
  },
  {
   "cell_type": "code",
   "execution_count": 135,
   "metadata": {},
   "outputs": [],
   "source": [
    "if include_degradation:\n",
    "    for index, value in enzymes['id'].items():\n",
    "        f.write(\"<reaction id=\\\"kd_\"+value+\"\\\" reversible=\\\"false\\\">\\n  <annotation>\\n    <ram:RAM xmlns:ram=\\\"https://www.fairdomhub.org/sops/304\\\">\\n      <ram:reaction ram:kcatForward=\\\"NaN\\\" ram:kcatBackward=\\\"0.0\\\" ram:maintenanceScaling=\\\"0.0\\\"/>\\n    </ram:RAM>\\n  </annotation>\\n\")\n",
    "        if no_degradation_products:\n",
    "            f.write(\"  <listOfReactants>\\n    <speciesReference species=\\\"\"+value+\"\\\" stoichiometry=\\\"\"+str(enzymes['degradationRate'][index])+\"\\\" constant=\\\"true\\\"/>\\n  </listOfReactants>\\n</reaction>\\n\")\n",
    "        else:\n",
    "            f.write(\"  <listOfReactants>\\n    <speciesReference species=\\\"\"+value+\"\\\" stoichiometry=\\\"\"+str(enzymes['degradationRate'][index])+\"\\\" constant=\\\"true\\\"/>\\n  </listOfReactants>\\n\")\n",
    "            f.write(\"  <listOfProducts>\\n    <speciesReference species=\\\"Z\\\" stoichiometry=\\\"\"+str(enzymes['degradationRate'][index] * translation[translation.ID == f\"T_{value[2:]}\"]['Length'].values[0])+\"\\\" constant=\\\"true\\\"/>\\n  </listOfProducts>\\n</reaction>\\n\")   \n"
   ]
  },
  {
   "cell_type": "markdown",
   "metadata": {},
   "source": [
    "#### regulatory proteins"
   ]
  },
  {
   "cell_type": "code",
   "execution_count": 136,
   "metadata": {},
   "outputs": [],
   "source": [
    "if rdefba and include_degradation:\n",
    "    for index, value in rp['id'].items():\n",
    "        f.write(\"<reaction id=\\\"kd_\"+value+\"\\\" reversible=\\\"false\\\">\\n  <annotation>\\n    <ram:RAM xmlns:ram=\\\"https://www.fairdomhub.org/sops/304\\\">\\n      <ram:reaction ram:kcatForward=\\\"NaN\\\" ram:kcatBackward=\\\"0.0\\\" ram:maintenanceScaling=\\\"0.0\\\"/>\\n    </ram:RAM>\\n  </annotation>\\n\")\n",
    "        if no_degradation_products:\n",
    "            f.write(\"  <listOfReactants>\\n    <speciesReference species=\\\"\"+value+\"\\\" stoichiometry=\\\"\"+str(rp['degradationRate'][index])+\"\\\" constant=\\\"true\\\"/>\\n  </listOfReactants>\\n</reaction>\\n\")  \n",
    "        else:\n",
    "            f.write(\"  <listOfReactants>\\n    <speciesReference species=\\\"\"+value+\"\\\" stoichiometry=\\\"\"+str(rp['degradationRate'][index])+\"\\\" constant=\\\"true\\\"/>\\n  </listOfReactants>\\n\")  \n",
    "            f.write(\"  <listOfProducts>\\n    <speciesReference species=\\\"Z\\\" stoichiometry=\\\"\"+str(rp['degradationRate'][index] * translation[translation.ID == f\"T_{value[3:]}\"]['Length'].values[0])+\"\\\" constant=\\\"true\\\"/>\\n  </listOfProducts>\\n</reaction>\\n\")   \n"
   ]
  },
  {
   "cell_type": "markdown",
   "metadata": {},
   "source": [
    "#### Quota"
   ]
  },
  {
   "cell_type": "code",
   "execution_count": 137,
   "metadata": {},
   "outputs": [],
   "source": [
    "if include_degradation:\n",
    "    for index, value in quota['ID'].items():\n",
    "        f.write(\"<reaction id=\\\"kd_\"+value+\"\\\" reversible=\\\"false\\\">\\n  <annotation>\\n    <ram:RAM xmlns:ram=\\\"https://www.fairdomhub.org/sops/304\\\">\\n      <ram:reaction ram:kcatForward=\\\"NaN\\\" ram:kcatBackward=\\\"0.0\\\" ram:maintenanceScaling=\\\"0.0\\\"/>\\n    </ram:RAM>\\n  </annotation>\\n\")\n",
    "        if value == 'Quota_rest' or no_degradation_products:\n",
    "            f.write(\"  <listOfReactants>\\n    <speciesReference species=\\\"\"+value+\"\\\" stoichiometry=\\\"\"+str(quota['degradationRate'][index])+\"\\\" constant=\\\"true\\\"/>\\n  </listOfReactants>\\n</reaction>\\n\")    \n",
    "        else: \n",
    "            f.write(\"  <listOfReactants>\\n    <speciesReference species=\\\"\"+value+\"\\\" stoichiometry=\\\"\"+str(quota['degradationRate'][index])+\"\\\" constant=\\\"true\\\"/>\\n  </listOfReactants>\\n\")    \n",
    "            f.write(\"  <listOfProducts>\\n    <speciesReference species=\\\"Z\\\" stoichiometry=\\\"\"+str(quota['degradationRate'][index] * translation[translation.ID == f\"T_{value}\"]['Length'].values[0])+\"\\\" constant=\\\"true\\\"/>\\n  </listOfProducts>\\n</reaction>\\n\")   \n"
   ]
  },
  {
   "cell_type": "markdown",
   "metadata": {},
   "source": [
    "### Maintenance Reaction"
   ]
  },
  {
   "cell_type": "code",
   "execution_count": 138,
   "metadata": {
    "scrolled": true
   },
   "outputs": [
    {
     "data": {
      "text/plain": [
       "566"
      ]
     },
     "execution_count": 138,
     "metadata": {},
     "output_type": "execute_result"
    }
   ],
   "source": [
    "f.write(\"<reaction id=\\\"Maintenance\\\" name=\\\"Maintenance\\\" reversible=\\\"false\\\">\\n\\t<annotation>\\n\\t\\t<ram:RAM xmlns:ram=\\\"https://www.fairdomhub.org/sops/304\\\">\\n\\t\\t\\t<ram:reaction ram:kcatForward=\\\"\\\" ram:kcatBackward=\\\"\\\" ram:maintenanceScaling=\\\"\" + str(parameters['maintenance_coeff']) + \"\\\"/>\\n\\t\\t</ram:RAM>\\n\\t</annotation>\\n\\t<listOfReactants>\\n\\t\\t<speciesReference species=\\\"ATP\\\" stoichiometry=\\\"1\\\" constant=\\\"true\\\"/>\\n\\t</listOfReactants>\\n\\t<listOfProducts>\\n\\t\\t<speciesReference species=\\\"ADP\\\" stoichiometry=\\\"1\\\" constant=\\\"true\\\"/>\\n\\t\\t<speciesReference species=\\\"PI\\\" stoichiometry=\\\"1\\\" constant=\\\"true\\\"/>\\n\\t</listOfProducts>\\n</reaction>\\n\")"
   ]
  },
  {
   "cell_type": "code",
   "execution_count": 139,
   "metadata": {},
   "outputs": [
    {
     "data": {
      "text/plain": [
       "20"
      ]
     },
     "execution_count": 139,
     "metadata": {},
     "output_type": "execute_result"
    }
   ],
   "source": [
    "f.write(\"</listOfReactions>\\n\\n\")"
   ]
  },
  {
   "cell_type": "markdown",
   "metadata": {},
   "source": [
    "## List of Gene Products"
   ]
  },
  {
   "cell_type": "markdown",
   "metadata": {},
   "source": [
    "### Enzymes (including Ribosome)"
   ]
  },
  {
   "cell_type": "code",
   "execution_count": 140,
   "metadata": {},
   "outputs": [
    {
     "data": {
      "text/plain": [
       "25"
      ]
     },
     "execution_count": 140,
     "metadata": {},
     "output_type": "execute_result"
    }
   ],
   "source": [
    "f.write(\"<fbc:listOfGeneProducts>\\n\")"
   ]
  },
  {
   "cell_type": "code",
   "execution_count": 141,
   "metadata": {},
   "outputs": [],
   "source": [
    "for index, value in enzymes['id'].items():\n",
    "    if enzymes['Gene'][index]:\n",
    "        f.write(\"  <fbc:geneProduct fbc:id=\\\"\"+value+\"\\\" fbc:label=\\\"\"+enzymes['Gene'][index]+\"_\"+value[2:]+\"\\\" fbc:associatedSpecies=\\\"\"+value+\"\\\"/>\\n\")\n",
    "# Gene_Protein in order to have unique fbc:label values"
   ]
  },
  {
   "cell_type": "markdown",
   "metadata": {},
   "source": [
    "### Regulatory Proteins"
   ]
  },
  {
   "cell_type": "code",
   "execution_count": 142,
   "metadata": {},
   "outputs": [],
   "source": [
    "if rdefba:\n",
    "    for index, value in rp['id'].items():\n",
    "        f.write(\"  <fbc:geneProduct fbc:id=\\\"\"+value+\"\\\" fbc:label=\\\"\"+rp['Gene'][index]+\"\\\" fbc:associatedSpecies=\\\"\"+value+\"\\\"/>\\n\")"
   ]
  },
  {
   "cell_type": "code",
   "execution_count": 143,
   "metadata": {},
   "outputs": [
    {
     "data": {
      "text/plain": [
       "27"
      ]
     },
     "execution_count": 143,
     "metadata": {},
     "output_type": "execute_result"
    }
   ],
   "source": [
    "f.write(\"</fbc:listOfGeneProducts>\\n\\n\")"
   ]
  },
  {
   "cell_type": "markdown",
   "metadata": {},
   "source": [
    "# List of Qualitative Species"
   ]
  },
  {
   "cell_type": "code",
   "execution_count": 144,
   "metadata": {},
   "outputs": [],
   "source": [
    "if rdefba:\n",
    "    f.write(\"<qual:listOfQualitativeSpecies>\\n\")\n",
    "    for index, value in qualspec['id'].items():\n",
    "        f.write(\"  <qual:qualitativeSpecies qual:id=\\\"\"+value+\"\\\" qual:maxLevel=\\\"\"+str(qualspec['max'][index])+\"\\\" qual:compartment=\\\"cytosol\\\" qual:constant=\\\"false\\\"/>\\n\")\n",
    "    f.write(\"</qual:listOfQualitativeSpecies>\\n\\n\")"
   ]
  },
  {
   "cell_type": "markdown",
   "metadata": {},
   "source": [
    "# List of Rules"
   ]
  },
  {
   "cell_type": "code",
   "execution_count": 145,
   "metadata": {},
   "outputs": [],
   "source": [
    "if rdefba:\n",
    "    f.write(\"<listOfRules>\\n\")"
   ]
  },
  {
   "cell_type": "markdown",
   "metadata": {},
   "source": [
    "## FBC rules"
   ]
  },
  {
   "cell_type": "code",
   "execution_count": 146,
   "metadata": {},
   "outputs": [],
   "source": [
    "# translation always irreversible\n",
    "reg_proteins = rp.id.to_list()\n",
    "if rdefba:\n",
    "    for index, value in translation['ID'].items():\n",
    "        if f\"RP_{value.split('_')[1]}\" in reg_proteins:\n",
    "            eps = \"epsilon_trans_RP\"    # It's a regulatory protein\n",
    "        else:\n",
    "            eps = \"epsilon_trans_E\"     # It's a regulated enzyme\n",
    "            \n",
    "        if pd.notnull(translation['Regulatory logic'][index]):\n",
    "            f.write(\"  <assignmentRule variable=\\\"\" + value + \"_FBCupper\\\">\\n    <math xmlns=\\\"http://www.w3.org/1998/Math/MathML\\\">\\n      <apply>\\n        <times/>\\n        <ci>NaN</ci>\\n        <ci>\" + translation['control variable'][index] + \"</ci>\\n      </apply>\\n    </math>\\n  </assignmentRule>\\n\")\n",
    "            f.write(\"  <assignmentRule variable=\\\"\" + value + \"_FBClower\\\">\\n    <math xmlns=\\\"http://www.w3.org/1998/Math/MathML\\\">\\n      <apply>\\n        <times/>\\n        <ci>\" + eps + \"</ci>\\n        <ci>\" + translation['control variable'][index] + \"</ci>\\n      </apply>\\n    </math>\\n  </assignmentRule>\\n\")         \n",
    "        "
   ]
  },
  {
   "cell_type": "code",
   "execution_count": 147,
   "metadata": {},
   "outputs": [],
   "source": [
    "# Lactate (LACUP) -- spontaneous, but regulated\n",
    "if rdefba:\n",
    "    qual_parameters.append('GL_neg')\n",
    "    f.write(\"  <assignmentRule variable=\\\"T_LACUP_FBClower\\\">\\n    <math xmlns=\\\"http://www.w3.org/1998/Math/MathML\\\">\\n      <apply>\\n        <times/>\\n        <ci>epsilon_trans_E</ci>\\n        <ci>GL_neg</ci>\\n      </apply>\\n    </math>\\n  </assignmentRule>\\n\")         \n",
    "    f.write(\"  <assignmentRule variable=\\\"T_LACUP_FBCupper\\\">\\n    <math xmlns=\\\"http://www.w3.org/1998/Math/MathML\\\">\\n      <apply>\\n        <times/>\\n        <ci>NaN</ci>\\n        <ci>GL_neg</ci>\\n      </apply>\\n    </math>\\n  </assignmentRule>\\n\")\n"
   ]
  },
  {
   "cell_type": "markdown",
   "metadata": {},
   "source": [
    "## Qual Rules"
   ]
  },
  {
   "cell_type": "code",
   "execution_count": 148,
   "metadata": {},
   "outputs": [],
   "source": [
    "if rdefba:\n",
    "    for qual in qualspec['id']:\n",
    "        f.write(\"<assignmentRule variable=\\\"\" + qual + \"\\\">\\n  <math xmlns=\\\"http://www.w3.org/1998/Math/MathML\\\">\\n    <ci>qual_con_\" + qual + \"</ci>\\n  </math>\\n</assignmentRule>\\n\")\n",
    "        "
   ]
  },
  {
   "cell_type": "markdown",
   "metadata": {},
   "source": [
    "## Boolean Rules"
   ]
  },
  {
   "cell_type": "code",
   "execution_count": 149,
   "metadata": {},
   "outputs": [],
   "source": [
    "if rdefba:\n",
    "    for index, value in rules['variable'].items():\n",
    "        qual_parameters.append(value)\n",
    "        f.write(\"<assignmentRule variable=\\\"\" + value + \"\\\">\\n  <math xmlns=\\\"http://www.w3.org/1998/Math/MathML\\\">\\n    <apply>\\n      \" + rules['relation'][index] + \"\\n\")\n",
    "        for i in rules['indicators'][index]:\n",
    "            qual_parameters.append(i)\n",
    "            f.write(\"      <ci>\" + i + \"</ci>\\n\")\n",
    "        f.write(\"    </apply>\\n  </math>\\n</assignmentRule>\\n\")"
   ]
  },
  {
   "cell_type": "code",
   "execution_count": 150,
   "metadata": {},
   "outputs": [],
   "source": [
    "if rdefba:\n",
    "    f.write(\"</listOfRules>\\n\\n\")"
   ]
  },
  {
   "cell_type": "markdown",
   "metadata": {},
   "source": [
    "# Events"
   ]
  },
  {
   "cell_type": "code",
   "execution_count": 151,
   "metadata": {
    "scrolled": true
   },
   "outputs": [],
   "source": [
    "if rdefba:\n",
    "    f.write(\"<listOfEvents>\\n\")\n",
    "    for index, value in events['id'].items():\n",
    "        f.write(\"<event id=\\\"\" + value + \"\\\" useValuesFromTriggerTime=\\\"true\\\">\\n  <trigger persistent=\\\"true\\\" initialValue=\\\"true\\\">\\n    <math xmlns=\\\"http://www.w3.org/1998/Math/MathML\\\">\\n\")\n",
    "        f.write(\"      <apply>\\n        <\" + events['relation'][index] + \"/>\\n\")\n",
    "        if len(events['variable'][index]) > 1: # multiple variables\n",
    "            f.write(\"        <apply>\\n          <plus/>\\n\")\n",
    "            for var in events['variable'][index]:\n",
    "                f.write(\"          <ci>\" + var + \"</ci>\\n\")\n",
    "            f.write(\"        </apply>\\n\")\n",
    "        else:\n",
    "            f.write(\"        <ci>\" + events['variable'][index][0] + \"</ci>\\n\")\n",
    "        f.write(\"        <ci>\"+events['threshold'][index]+\"</ci>\\n      </apply>\\n    </math>\\n  </trigger>\\n  <listOfEventAssignments>\\n\")\n",
    "        for i, assignment in enumerate(events['assignment'][index]):\n",
    "            qual_parameters.append(assignment)\n",
    "            f.write(\"    <eventAssignment variable=\\\"\"+assignment+\"\\\">\\n      <math xmlns=\\\"http://www.w3.org/1998/Math/MathML\\\">\\n        <cn type=\\\"integer\\\">\"+events['value'][index][i]+\"</cn>\\n      </math>\\n    </eventAssignment>\\n\")\n",
    "        f.write(\"  </listOfEventAssignments>\\n</event>\\n\")\n",
    "    f.write(\"</listOfEvents>\\n\\n\")"
   ]
  },
  {
   "cell_type": "markdown",
   "metadata": {},
   "source": [
    "# List of Parameters"
   ]
  },
  {
   "cell_type": "code",
   "execution_count": 152,
   "metadata": {},
   "outputs": [],
   "source": [
    "# filter duplicates\n",
    "qual_parameters = list(set(qual_parameters))"
   ]
  },
  {
   "cell_type": "code",
   "execution_count": 153,
   "metadata": {
    "scrolled": true
   },
   "outputs": [],
   "source": [
    "p_not_to_write = ['maintenance_coeff', 'enzyme_degradation', 'rp_degradation', 'ribosomal_degradation', 'quota_protein_degradation', 'quota_rest_degradation']\n",
    "if rdefba:\n",
    "    f.write(\"<listOfParameters>\\n\")\n",
    "    for index, value in parameters.items():\n",
    "        if index in p_not_to_write:\n",
    "            continue\n",
    "        f.write(\"  <parameter id=\\\"\" + index + \"\\\" constant=\\\"true\\\" value=\\\"\" + str(value) + \"\\\"/>\\n\")\n",
    "    for fbc_param in fbc_parameters:\n",
    "        f.write(\"  <parameter id=\\\"\" + fbc_param + \"\\\" value=\\\"NaN\\\" constant=\\\"false\\\" />\\n\")\n",
    "    for qual_param in qual_parameters:\n",
    "        f.write(\"  <parameter id=\\\"\" + qual_param + \"\\\" value=\\\"NaN\\\" constant=\\\"false\\\" />\\n\")\n",
    "    f.write(\"</listOfParameters>\\n\")"
   ]
  },
  {
   "cell_type": "markdown",
   "metadata": {},
   "source": [
    "## Last lines"
   ]
  },
  {
   "cell_type": "code",
   "execution_count": 154,
   "metadata": {},
   "outputs": [
    {
     "data": {
      "text/plain": [
       "7"
      ]
     },
     "execution_count": 154,
     "metadata": {},
     "output_type": "execute_result"
    }
   ],
   "source": [
    "f.write(\"</model>\\n\")\n",
    "f.write(\"</sbml>\")"
   ]
  },
  {
   "cell_type": "code",
   "execution_count": 155,
   "metadata": {},
   "outputs": [],
   "source": [
    "f.close()"
   ]
  },
  {
   "cell_type": "code",
   "execution_count": 156,
   "metadata": {},
   "outputs": [
    {
     "data": {
      "text/html": [
       "<div>\n",
       "<style scoped>\n",
       "    .dataframe tbody tr th:only-of-type {\n",
       "        vertical-align: middle;\n",
       "    }\n",
       "\n",
       "    .dataframe tbody tr th {\n",
       "        vertical-align: top;\n",
       "    }\n",
       "\n",
       "    .dataframe thead th {\n",
       "        text-align: right;\n",
       "    }\n",
       "</style>\n",
       "<table border=\"1\" class=\"dataframe\">\n",
       "  <thead>\n",
       "    <tr style=\"text-align: right;\">\n",
       "      <th></th>\n",
       "      <th>Covert ID</th>\n",
       "      <th>Protein</th>\n",
       "      <th>Gene</th>\n",
       "      <th>Regulatory logic</th>\n",
       "      <th>id_RP</th>\n",
       "      <th>ID</th>\n",
       "      <th>control variable</th>\n",
       "      <th>Length</th>\n",
       "      <th>reversible</th>\n",
       "      <th>ram:kcatForward</th>\n",
       "      <th>ram:kcatBackward</th>\n",
       "      <th>fbc:maintenanceScaling</th>\n",
       "      <th>fbc:geneProductAssociation</th>\n",
       "    </tr>\n",
       "  </thead>\n",
       "  <tbody>\n",
       "    <tr>\n",
       "      <th>0</th>\n",
       "      <td>ACEA</td>\n",
       "      <td>Isocitrate lyase</td>\n",
       "      <td>aceA</td>\n",
       "      <td>IF not (IclR)</td>\n",
       "      <td>AceA</td>\n",
       "      <td>T_ACEA</td>\n",
       "      <td>qual_con_ACEA_bar</td>\n",
       "      <td>434</td>\n",
       "      <td>false</td>\n",
       "      <td>2.35023</td>\n",
       "      <td>0.0</td>\n",
       "      <td>0.0</td>\n",
       "      <td>R</td>\n",
       "    </tr>\n",
       "    <tr>\n",
       "      <th>1</th>\n",
       "      <td>ACEB</td>\n",
       "      <td>Malate synthase A</td>\n",
       "      <td>aceB</td>\n",
       "      <td>IF not (ArcA or IclR)</td>\n",
       "      <td>AceB</td>\n",
       "      <td>T_ACEB</td>\n",
       "      <td>qual_con_ACEB_bar</td>\n",
       "      <td>533</td>\n",
       "      <td>false</td>\n",
       "      <td>1.91370</td>\n",
       "      <td>0.0</td>\n",
       "      <td>0.0</td>\n",
       "      <td>R</td>\n",
       "    </tr>\n",
       "    <tr>\n",
       "      <th>2</th>\n",
       "      <td>ACEE</td>\n",
       "      <td>Pyruvate dehydrogenase</td>\n",
       "      <td>aceE, aceF, lpdA</td>\n",
       "      <td>IF (not PdhR)</td>\n",
       "      <td>AceE, AceF, LpdA</td>\n",
       "      <td>T_ACEE</td>\n",
       "      <td>qual_con_ACEE_bar</td>\n",
       "      <td>1991</td>\n",
       "      <td>false</td>\n",
       "      <td>0.51231</td>\n",
       "      <td>0.0</td>\n",
       "      <td>0.0</td>\n",
       "      <td>R</td>\n",
       "    </tr>\n",
       "    <tr>\n",
       "      <th>3</th>\n",
       "      <td>ACKAR</td>\n",
       "      <td>Acetate kinase A</td>\n",
       "      <td>ackA</td>\n",
       "      <td>NaN</td>\n",
       "      <td>AckA</td>\n",
       "      <td>T_ACKAR</td>\n",
       "      <td>qual_con_ACKAR_bar</td>\n",
       "      <td>400</td>\n",
       "      <td>false</td>\n",
       "      <td>2.55000</td>\n",
       "      <td>0.0</td>\n",
       "      <td>0.0</td>\n",
       "      <td>R</td>\n",
       "    </tr>\n",
       "    <tr>\n",
       "      <th>4</th>\n",
       "      <td>ACNAR</td>\n",
       "      <td>Aconitase A</td>\n",
       "      <td>acnA</td>\n",
       "      <td>IF (GLCxt or LCTSxt or RIBxt or GLxt or LACxt ...</td>\n",
       "      <td>AcnA</td>\n",
       "      <td>T_ACNAR</td>\n",
       "      <td>carbon_neg</td>\n",
       "      <td>891</td>\n",
       "      <td>false</td>\n",
       "      <td>1.14478</td>\n",
       "      <td>0.0</td>\n",
       "      <td>0.0</td>\n",
       "      <td>R</td>\n",
       "    </tr>\n",
       "    <tr>\n",
       "      <th>...</th>\n",
       "      <td>...</td>\n",
       "      <td>...</td>\n",
       "      <td>...</td>\n",
       "      <td>...</td>\n",
       "      <td>...</td>\n",
       "      <td>...</td>\n",
       "      <td>...</td>\n",
       "      <td>...</td>\n",
       "      <td>...</td>\n",
       "      <td>...</td>\n",
       "      <td>...</td>\n",
       "      <td>...</td>\n",
       "      <td>...</td>\n",
       "    </tr>\n",
       "    <tr>\n",
       "      <th>103</th>\n",
       "      <td>NaN</td>\n",
       "      <td>Ribose response regulator</td>\n",
       "      <td>rbsR</td>\n",
       "      <td>active IF not (RIBxt)</td>\n",
       "      <td>RbsR</td>\n",
       "      <td>T_RbsR</td>\n",
       "      <td>qual_con_rbsR_bar</td>\n",
       "      <td>330</td>\n",
       "      <td>false</td>\n",
       "      <td>3.09091</td>\n",
       "      <td>0.0</td>\n",
       "      <td>0.0</td>\n",
       "      <td>R</td>\n",
       "    </tr>\n",
       "    <tr>\n",
       "      <th>104</th>\n",
       "      <td>NaN</td>\n",
       "      <td>Ribose response regulator</td>\n",
       "      <td>rpiR</td>\n",
       "      <td>active IF not (RIBxt)</td>\n",
       "      <td>RpiR</td>\n",
       "      <td>T_RpiR</td>\n",
       "      <td>qual_con_rpiR_bar</td>\n",
       "      <td>296</td>\n",
       "      <td>false</td>\n",
       "      <td>3.44595</td>\n",
       "      <td>0.0</td>\n",
       "      <td>0.0</td>\n",
       "      <td>R</td>\n",
       "    </tr>\n",
       "    <tr>\n",
       "      <th>105</th>\n",
       "      <td>ASPT</td>\n",
       "      <td>L-aspartase</td>\n",
       "      <td>aspA</td>\n",
       "      <td>NaN</td>\n",
       "      <td>AspA</td>\n",
       "      <td>T_ASPT</td>\n",
       "      <td>qual_con_ASPT_bar</td>\n",
       "      <td>478</td>\n",
       "      <td>false</td>\n",
       "      <td>2.13389</td>\n",
       "      <td>0.0</td>\n",
       "      <td>0.0</td>\n",
       "      <td>R</td>\n",
       "    </tr>\n",
       "    <tr>\n",
       "      <th>106</th>\n",
       "      <td>R</td>\n",
       "      <td>Ribosome</td>\n",
       "      <td>rplA, rplB, rplC, rplD, rplE, rplF, rplI, rplJ...</td>\n",
       "      <td>NaN</td>\n",
       "      <td>RplA, RplB, RplC, RplD, RplE, RplF, RplI, RplJ...</td>\n",
       "      <td>T_R</td>\n",
       "      <td>qual_con_R_bar</td>\n",
       "      <td>7132</td>\n",
       "      <td>false</td>\n",
       "      <td>0.14302</td>\n",
       "      <td>0.0</td>\n",
       "      <td>0.0</td>\n",
       "      <td>R</td>\n",
       "    </tr>\n",
       "    <tr>\n",
       "      <th>107</th>\n",
       "      <td>NaN</td>\n",
       "      <td>NaN</td>\n",
       "      <td>NaN</td>\n",
       "      <td>NaN</td>\n",
       "      <td>NaN</td>\n",
       "      <td>T_Quota_protein</td>\n",
       "      <td>NaN</td>\n",
       "      <td>461.0</td>\n",
       "      <td>false</td>\n",
       "      <td>2.21258</td>\n",
       "      <td>0.0</td>\n",
       "      <td>0.0</td>\n",
       "      <td>R</td>\n",
       "    </tr>\n",
       "  </tbody>\n",
       "</table>\n",
       "<p>108 rows × 13 columns</p>\n",
       "</div>"
      ],
      "text/plain": [
       "    Covert ID                    Protein  \\\n",
       "0        ACEA           Isocitrate lyase   \n",
       "1        ACEB          Malate synthase A   \n",
       "2        ACEE     Pyruvate dehydrogenase   \n",
       "3       ACKAR           Acetate kinase A   \n",
       "4       ACNAR                Aconitase A   \n",
       "..        ...                        ...   \n",
       "103       NaN  Ribose response regulator   \n",
       "104       NaN  Ribose response regulator   \n",
       "105      ASPT                L-aspartase   \n",
       "106         R                   Ribosome   \n",
       "107       NaN                        NaN   \n",
       "\n",
       "                                                  Gene  \\\n",
       "0                                                 aceA   \n",
       "1                                                 aceB   \n",
       "2                                     aceE, aceF, lpdA   \n",
       "3                                                 ackA   \n",
       "4                                                 acnA   \n",
       "..                                                 ...   \n",
       "103                                               rbsR   \n",
       "104                                               rpiR   \n",
       "105                                               aspA   \n",
       "106  rplA, rplB, rplC, rplD, rplE, rplF, rplI, rplJ...   \n",
       "107                                                NaN   \n",
       "\n",
       "                                      Regulatory logic  \\\n",
       "0                                        IF not (IclR)   \n",
       "1                                IF not (ArcA or IclR)   \n",
       "2                                        IF (not PdhR)   \n",
       "3                                                  NaN   \n",
       "4    IF (GLCxt or LCTSxt or RIBxt or GLxt or LACxt ...   \n",
       "..                                                 ...   \n",
       "103                              active IF not (RIBxt)   \n",
       "104                              active IF not (RIBxt)   \n",
       "105                                                NaN   \n",
       "106                                                NaN   \n",
       "107                                                NaN   \n",
       "\n",
       "                                                 id_RP               ID  \\\n",
       "0                                                 AceA           T_ACEA   \n",
       "1                                                 AceB           T_ACEB   \n",
       "2                                     AceE, AceF, LpdA           T_ACEE   \n",
       "3                                                 AckA          T_ACKAR   \n",
       "4                                                 AcnA          T_ACNAR   \n",
       "..                                                 ...              ...   \n",
       "103                                               RbsR           T_RbsR   \n",
       "104                                               RpiR           T_RpiR   \n",
       "105                                               AspA           T_ASPT   \n",
       "106  RplA, RplB, RplC, RplD, RplE, RplF, RplI, RplJ...              T_R   \n",
       "107                                                NaN  T_Quota_protein   \n",
       "\n",
       "       control variable Length reversible  ram:kcatForward  ram:kcatBackward  \\\n",
       "0     qual_con_ACEA_bar    434      false          2.35023               0.0   \n",
       "1     qual_con_ACEB_bar    533      false          1.91370               0.0   \n",
       "2     qual_con_ACEE_bar   1991      false          0.51231               0.0   \n",
       "3    qual_con_ACKAR_bar    400      false          2.55000               0.0   \n",
       "4            carbon_neg    891      false          1.14478               0.0   \n",
       "..                  ...    ...        ...              ...               ...   \n",
       "103   qual_con_rbsR_bar    330      false          3.09091               0.0   \n",
       "104   qual_con_rpiR_bar    296      false          3.44595               0.0   \n",
       "105   qual_con_ASPT_bar    478      false          2.13389               0.0   \n",
       "106      qual_con_R_bar   7132      false          0.14302               0.0   \n",
       "107                 NaN  461.0      false          2.21258               0.0   \n",
       "\n",
       "     fbc:maintenanceScaling fbc:geneProductAssociation  \n",
       "0                       0.0                          R  \n",
       "1                       0.0                          R  \n",
       "2                       0.0                          R  \n",
       "3                       0.0                          R  \n",
       "4                       0.0                          R  \n",
       "..                      ...                        ...  \n",
       "103                     0.0                          R  \n",
       "104                     0.0                          R  \n",
       "105                     0.0                          R  \n",
       "106                     0.0                          R  \n",
       "107                     0.0                          R  \n",
       "\n",
       "[108 rows x 13 columns]"
      ]
     },
     "execution_count": 156,
     "metadata": {},
     "output_type": "execute_result"
    }
   ],
   "source": [
    "translation"
   ]
  },
  {
   "cell_type": "code",
   "execution_count": 157,
   "metadata": {},
   "outputs": [
    {
     "data": {
      "text/html": [
       "<div>\n",
       "<style scoped>\n",
       "    .dataframe tbody tr th:only-of-type {\n",
       "        vertical-align: middle;\n",
       "    }\n",
       "\n",
       "    .dataframe tbody tr th {\n",
       "        vertical-align: top;\n",
       "    }\n",
       "\n",
       "    .dataframe thead th {\n",
       "        text-align: right;\n",
       "    }\n",
       "</style>\n",
       "<table border=\"1\" class=\"dataframe\">\n",
       "  <thead>\n",
       "    <tr style=\"text-align: right;\">\n",
       "      <th></th>\n",
       "      <th>Covert ID</th>\n",
       "      <th>Protein</th>\n",
       "      <th>Gene</th>\n",
       "      <th>Reaction</th>\n",
       "      <th>BiGG ID</th>\n",
       "      <th>reversible</th>\n",
       "      <th>kcat_fwd/s</th>\n",
       "      <th>kcat_bwd/s</th>\n",
       "      <th>Organism (fwd)</th>\n",
       "      <th>EC number</th>\n",
       "      <th>Organism (bwd)</th>\n",
       "      <th>transport</th>\n",
       "    </tr>\n",
       "  </thead>\n",
       "  <tbody>\n",
       "    <tr>\n",
       "      <th>0</th>\n",
       "      <td>ACEA</td>\n",
       "      <td>Isocitrate lyase</td>\n",
       "      <td>aceA</td>\n",
       "      <td>ICIT -&gt; GLX + SUCC</td>\n",
       "      <td>ICL</td>\n",
       "      <td>False</td>\n",
       "      <td>145.44</td>\n",
       "      <td>0</td>\n",
       "      <td>All organisms</td>\n",
       "      <td>4.1.3.1</td>\n",
       "      <td>NaN</td>\n",
       "      <td>False</td>\n",
       "    </tr>\n",
       "    <tr>\n",
       "      <th>1</th>\n",
       "      <td>ACEB</td>\n",
       "      <td>Malate synthase A</td>\n",
       "      <td>aceB</td>\n",
       "      <td>ACCOA + GLX -&gt; COA + MAL + H</td>\n",
       "      <td>MALS</td>\n",
       "      <td>False</td>\n",
       "      <td>48.1</td>\n",
       "      <td>0</td>\n",
       "      <td>E. coli</td>\n",
       "      <td>2.3.3.9</td>\n",
       "      <td>NaN</td>\n",
       "      <td>False</td>\n",
       "    </tr>\n",
       "    <tr>\n",
       "      <th>2</th>\n",
       "      <td>ACEE</td>\n",
       "      <td>Pyruvate dehydrogenase</td>\n",
       "      <td>aceE, aceF, lpdA</td>\n",
       "      <td>PYR + COA + NAD -&gt; NADH + CO2 + ACCOA</td>\n",
       "      <td>PDH</td>\n",
       "      <td>False</td>\n",
       "      <td>0.52</td>\n",
       "      <td>0</td>\n",
       "      <td>E. coli</td>\n",
       "      <td>1.2.4.1</td>\n",
       "      <td>NaN</td>\n",
       "      <td>False</td>\n",
       "    </tr>\n",
       "    <tr>\n",
       "      <th>3</th>\n",
       "      <td>ACKAR</td>\n",
       "      <td>Acetate kinase A</td>\n",
       "      <td>ackA</td>\n",
       "      <td>ACTP + ADP &lt;-&gt; ATP + AC</td>\n",
       "      <td>ACKr</td>\n",
       "      <td>True</td>\n",
       "      <td>632.67</td>\n",
       "      <td>942.75</td>\n",
       "      <td>All organisms</td>\n",
       "      <td>2.7.2.1</td>\n",
       "      <td>NaN</td>\n",
       "      <td>False</td>\n",
       "    </tr>\n",
       "    <tr>\n",
       "      <th>4</th>\n",
       "      <td>ACNAR</td>\n",
       "      <td>Aconitase A</td>\n",
       "      <td>acnA</td>\n",
       "      <td>CIT &lt;-&gt; ICIT</td>\n",
       "      <td>ACONTa</td>\n",
       "      <td>True</td>\n",
       "      <td>44.8</td>\n",
       "      <td>44.8</td>\n",
       "      <td>E. coli</td>\n",
       "      <td>4.2.1.3</td>\n",
       "      <td>NaN</td>\n",
       "      <td>False</td>\n",
       "    </tr>\n",
       "    <tr>\n",
       "      <th>...</th>\n",
       "      <td>...</td>\n",
       "      <td>...</td>\n",
       "      <td>...</td>\n",
       "      <td>...</td>\n",
       "      <td>...</td>\n",
       "      <td>...</td>\n",
       "      <td>...</td>\n",
       "      <td>...</td>\n",
       "      <td>...</td>\n",
       "      <td>...</td>\n",
       "      <td>...</td>\n",
       "      <td>...</td>\n",
       "    </tr>\n",
       "    <tr>\n",
       "      <th>93</th>\n",
       "      <td>TKTB1R</td>\n",
       "      <td>Transketolase II</td>\n",
       "      <td>tktB</td>\n",
       "      <td>R5P + X5P &lt;-&gt; T3P1 + S7P</td>\n",
       "      <td>TKT1</td>\n",
       "      <td>True</td>\n",
       "      <td>17</td>\n",
       "      <td>123.5</td>\n",
       "      <td>All organisms</td>\n",
       "      <td>2.2.1.1</td>\n",
       "      <td>NaN</td>\n",
       "      <td>False</td>\n",
       "    </tr>\n",
       "    <tr>\n",
       "      <th>94</th>\n",
       "      <td>TKTB2R</td>\n",
       "      <td>Transketolase II</td>\n",
       "      <td>tktB</td>\n",
       "      <td>X5P + E4P &lt;-&gt; F6P + T3P1</td>\n",
       "      <td>TKT2</td>\n",
       "      <td>True</td>\n",
       "      <td>69</td>\n",
       "      <td>97</td>\n",
       "      <td>All organisms</td>\n",
       "      <td>2.2.1.1</td>\n",
       "      <td>NaN</td>\n",
       "      <td>False</td>\n",
       "    </tr>\n",
       "    <tr>\n",
       "      <th>95</th>\n",
       "      <td>TPIAR</td>\n",
       "      <td>Triosphosphate Isomerase</td>\n",
       "      <td>tpiA</td>\n",
       "      <td>T3P1 &lt;-&gt; T3P2</td>\n",
       "      <td>TPI</td>\n",
       "      <td>True</td>\n",
       "      <td>460.5</td>\n",
       "      <td>9000</td>\n",
       "      <td>All organisms</td>\n",
       "      <td>5.3.1.1</td>\n",
       "      <td>NaN</td>\n",
       "      <td>False</td>\n",
       "    </tr>\n",
       "    <tr>\n",
       "      <th>96</th>\n",
       "      <td>ZWFR</td>\n",
       "      <td>Glucose 6-phosphate-1-dehydrogenase</td>\n",
       "      <td>zwf</td>\n",
       "      <td>G6P + NADP &lt;-&gt; D6PGL + NADPH + H</td>\n",
       "      <td>G6PDH2r</td>\n",
       "      <td>True</td>\n",
       "      <td>3472.94</td>\n",
       "      <td>0.17</td>\n",
       "      <td>All organisms</td>\n",
       "      <td>1.1.1.49</td>\n",
       "      <td>E. coli</td>\n",
       "      <td>False</td>\n",
       "    </tr>\n",
       "    <tr>\n",
       "      <th>97</th>\n",
       "      <td>ASPT</td>\n",
       "      <td>L-aspartase</td>\n",
       "      <td>aspA</td>\n",
       "      <td>FUM &lt;-&gt; Z</td>\n",
       "      <td>ASPT</td>\n",
       "      <td>True</td>\n",
       "      <td>180</td>\n",
       "      <td>kcat</td>\n",
       "      <td>E. coli</td>\n",
       "      <td>4.3.1.1</td>\n",
       "      <td>NaN</td>\n",
       "      <td>False</td>\n",
       "    </tr>\n",
       "  </tbody>\n",
       "</table>\n",
       "<p>80 rows × 12 columns</p>\n",
       "</div>"
      ],
      "text/plain": [
       "   Covert ID                              Protein              Gene  \\\n",
       "0       ACEA                     Isocitrate lyase              aceA   \n",
       "1       ACEB                    Malate synthase A              aceB   \n",
       "2       ACEE               Pyruvate dehydrogenase  aceE, aceF, lpdA   \n",
       "3      ACKAR                     Acetate kinase A              ackA   \n",
       "4      ACNAR                          Aconitase A              acnA   \n",
       "..       ...                                  ...               ...   \n",
       "93    TKTB1R                     Transketolase II              tktB   \n",
       "94    TKTB2R                     Transketolase II              tktB   \n",
       "95     TPIAR             Triosphosphate Isomerase              tpiA   \n",
       "96      ZWFR  Glucose 6-phosphate-1-dehydrogenase               zwf   \n",
       "97      ASPT                          L-aspartase              aspA   \n",
       "\n",
       "                                 Reaction  BiGG ID  reversible kcat_fwd/s  \\\n",
       "0                      ICIT -> GLX + SUCC      ICL       False     145.44   \n",
       "1            ACCOA + GLX -> COA + MAL + H     MALS       False       48.1   \n",
       "2   PYR + COA + NAD -> NADH + CO2 + ACCOA      PDH       False       0.52   \n",
       "3                 ACTP + ADP <-> ATP + AC     ACKr        True     632.67   \n",
       "4                            CIT <-> ICIT   ACONTa        True       44.8   \n",
       "..                                    ...      ...         ...        ...   \n",
       "93               R5P + X5P <-> T3P1 + S7P     TKT1        True         17   \n",
       "94               X5P + E4P <-> F6P + T3P1     TKT2        True         69   \n",
       "95                          T3P1 <-> T3P2      TPI        True      460.5   \n",
       "96       G6P + NADP <-> D6PGL + NADPH + H  G6PDH2r        True    3472.94   \n",
       "97                              FUM <-> Z     ASPT        True        180   \n",
       "\n",
       "   kcat_bwd/s Organism (fwd) EC number Organism (bwd)  transport  \n",
       "0           0  All organisms   4.1.3.1            NaN      False  \n",
       "1           0        E. coli   2.3.3.9            NaN      False  \n",
       "2           0        E. coli   1.2.4.1            NaN      False  \n",
       "3      942.75  All organisms   2.7.2.1            NaN      False  \n",
       "4        44.8        E. coli   4.2.1.3            NaN      False  \n",
       "..        ...            ...       ...            ...        ...  \n",
       "93      123.5  All organisms   2.2.1.1            NaN      False  \n",
       "94         97  All organisms   2.2.1.1            NaN      False  \n",
       "95       9000  All organisms   5.3.1.1            NaN      False  \n",
       "96       0.17  All organisms  1.1.1.49        E. coli      False  \n",
       "97       kcat        E. coli   4.3.1.1            NaN      False  \n",
       "\n",
       "[80 rows x 12 columns]"
      ]
     },
     "execution_count": 157,
     "metadata": {},
     "output_type": "execute_result"
    }
   ],
   "source": [
    "turnover_metabolic\n"
   ]
  }
 ],
 "metadata": {
  "kernelspec": {
   "display_name": "Python 3 (ipykernel)",
   "language": "python",
   "name": "python3"
  },
  "language_info": {
   "codemirror_mode": {
    "name": "ipython",
    "version": 3
   },
   "file_extension": ".py",
   "mimetype": "text/x-python",
   "name": "python",
   "nbconvert_exporter": "python",
   "pygments_lexer": "ipython3",
   "version": "3.9.12"
  }
 },
 "nbformat": 4,
 "nbformat_minor": 4
}
