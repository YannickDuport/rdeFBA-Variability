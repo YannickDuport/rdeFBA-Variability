{
 "cells": [
  {
   "cell_type": "code",
   "execution_count": 1,
   "metadata": {},
   "outputs": [],
   "source": [
    "import pandas as pd\n",
    "import numpy as np\n",
    "import re"
   ]
  },
  {
   "cell_type": "markdown",
   "metadata": {},
   "source": [
    "# Read original rFBA model\n",
    "\n",
    "PDF file needs to be parsed manually...\n",
    "\n",
    "(in order to be in accordance with the syntax of 'id' attribute values of the SBML type 'SId' (Reference: L3V2 Section 3.1.7), the metabolites 13PDG, 2PG, and 3PG were renamed to PDG13, PG2, and PG3, respectively.)"
   ]
  },
  {
   "cell_type": "code",
   "execution_count": 2,
   "metadata": {},
   "outputs": [],
   "source": [
    "#import PyPDF2\n",
    "#pdfFileObj = open('Covert2002/SI.pdf', 'rb')\n",
    "#pdfReader = PyPDF2.PdfFileReader(pdfFileObj)\n",
    "#pageObj = pdfReader.getPage(3)\n",
    "#pageObj.extractText()"
   ]
  },
  {
   "cell_type": "code",
   "execution_count": 3,
   "metadata": {},
   "outputs": [],
   "source": [
    "# reactions\n",
    "SI1 = pd.read_csv('SI-1.tsv', sep='\\t')"
   ]
  },
  {
   "cell_type": "code",
   "execution_count": 4,
   "metadata": {},
   "outputs": [],
   "source": [
    "# \"superoxide radicals\" are not modeled \n",
    "SI1.loc[SI1.ID == 'FUMCR', 'Regulatory logic'] = np.nan\n",
    "# crp regulation is complex and thus split into many separate statements (vide infra)\n",
    "SI1.drop(SI1[SI1.Gene == 'crp'].index, inplace=True)\n"
   ]
  },
  {
   "cell_type": "code",
   "execution_count": 5,
   "metadata": {
    "scrolled": false
   },
   "outputs": [],
   "source": [
    "# metabolites\n",
    "SI2 = pd.read_csv('SI-2.tsv', sep='\\t')\n",
    "SI2 = SI2.sort_values(by=['id'])"
   ]
  },
  {
   "cell_type": "markdown",
   "metadata": {},
   "source": [
    "## Add Amino Acid-producing enzyme and Ribosome"
   ]
  },
  {
   "cell_type": "code",
   "execution_count": 6,
   "metadata": {},
   "outputs": [],
   "source": [
    "SI1 = SI1.append({'ID': 'ASPT', 'Protein': 'L-aspartase', 'Gene': 'aspA', 'Reaction': 'FUM <-> Z'}, ignore_index=True)\n",
    "SI1 = SI1.append({'ID': 'R', 'Protein': 'Ribosome', 'Gene': 'rplA, rplB, rplC, rplD, rplE, rplF, rplI, rplJ, rplK, rplL, rplM, rplN, rplO, rplP, rplQ, rplR, rplS, rplT, rplU, rplV, rplW, rplX, rplY, rpmA, rpmB, rpmC, rpmD, rpmE, rpmF, rpmG, rpmH, rpmI, rpmJ, rpsA, rpsB, rpsC, rpsD, rpsE, rpsF, rpsG, rpsH, rpsI, rpsJ, rpsK, rpsL, rpsM, rpsN, rpsO, rpsP, rpsQ, rpsR, rpsS, rpsT, rpsU'}, ignore_index=True)"
   ]
  },
  {
   "cell_type": "markdown",
   "metadata": {},
   "source": [
    "## Reformulate gene IDs"
   ]
  },
  {
   "cell_type": "code",
   "execution_count": 7,
   "metadata": {},
   "outputs": [],
   "source": [
    "# Reformulation of \"lumped\" IDs\n",
    "SI1.loc[SI1.ID == 'ACEE', 'Gene'] = 'aceE, aceF, lpdA'\n",
    "SI1.loc[SI1.ID == 'ATPAR', 'Gene'] = 'atpA, atpB, atpC, atpD, atpE, atpF, atpG, atpH, atpI'\n",
    "SI1.loc[SI1.ID == 'CYDA', 'Gene'] = 'cydA, cydB'\n",
    "SI1.loc[SI1.ID == 'CYOA', 'Gene'] = 'cyoA, cyoB, cyoC, cyoD'\n",
    "SI1.loc[SI1.ID == 'FDNG', 'Gene'] = 'fdnG, fdnH, fdnI'\n",
    "SI1.loc[SI1.ID == 'FDOH', 'Gene'] = 'fdoI, fdoH, fdoG'\n",
    "SI1.loc[SI1.ID == 'FRDA', 'Gene'] = 'frdA, frdB, frdC, frdD'\n",
    "SI1.loc[SI1.ID == 'GLPA', 'Gene'] = 'glpA, glpB, glpC'\n",
    "SI1.loc[SI1.ID == 'NUOA', 'Gene'] = 'nuoA, nuoB, nuoE, nuoF, nuoG, nuoH, nuoI, nuoJ, nuoK, nuoL, nuoM, nuoN'\n",
    "SI1.loc[SI1.ID == 'PFLA', 'Gene'] = 'pflA, pflB'\n",
    "SI1.loc[SI1.ID == 'PFLC', 'Gene'] = 'pflC, pflD'\n",
    "SI1.loc[SI1.ID == 'PNTA1', 'Gene'] = 'pntA, pntB'\n",
    "SI1.loc[SI1.ID == 'PNTA2', 'Gene'] = 'pntA, pntB'\n",
    "SI1.loc[SI1.ID == 'SDHA1', 'Gene'] = 'sdhA, sdhB, sdhC, sdhD'\n",
    "SI1.loc[SI1.ID == 'SDHA2', 'Gene'] = 'sdhA, sdhB, sdhC, sdhD'\n",
    "SI1.loc[SI1.ID == 'SUCA', 'Gene'] = 'sucA, sucB, lpdA'\n",
    "SI1.loc[SI1.ID == 'SUCCR', 'Gene'] = 'sucC, sucD'\n",
    "SI1.loc[SI1.ID == 'GLCPTS', 'Gene'] = 'ptsG, ptsH, ptsI, crr'\n",
    "SI1.loc[SI1.ID == 'PIUP2R', 'Gene'] = 'pitA, pitB'\n",
    "SI1.loc[SI1.ID == 'RIBUPR', 'Gene'] = 'rbsA, rbsB, rbsC, rbsD'"
   ]
  },
  {
   "cell_type": "code",
   "execution_count": 8,
   "metadata": {},
   "outputs": [],
   "source": [
    "# manual curation\n",
    "SI1.loc[SI1.Protein == 'Catabolite activator protein', 'Gene'] = 'cra' # 'cra (fruR)' - beide Namen bezeichnen das gleiche Gen\n",
    "SI1.loc[SI1.ID == 'GLCUP', 'Gene'] = 'galP' # 'galP, etc.' - galP ist ausreichend\n",
    "SI1.loc[SI1.ID == 'PCKA', 'Gene'] = 'pck' # 'pckA'\n",
    "SI1.loc[SI1.ID == 'SFCA', 'Gene'] = 'maeA' # 'sfcA'\n",
    "SI1.loc[SI1.ID == 'GPMBR', 'Gene'] = 'gpmA' # 'sfcA' - gpmB gibt es nicht; gpmA katalysiert die gleiche Reaktion"
   ]
  },
  {
   "cell_type": "code",
   "execution_count": 9,
   "metadata": {},
   "outputs": [],
   "source": [
    "genes_list = []\n",
    "\n",
    "for index, value in SI1['Gene'].items():\n",
    "    if isinstance(value, str):\n",
    "        for g in value.split(', '):\n",
    "            if g not in genes_list:\n",
    "                genes_list.append(g)"
   ]
  },
  {
   "cell_type": "markdown",
   "metadata": {},
   "source": [
    "# Species"
   ]
  },
  {
   "cell_type": "code",
   "execution_count": 10,
   "metadata": {},
   "outputs": [],
   "source": [
    "# Split SI2 into intra- and extracellular metabolites\n",
    "\n",
    "# add column with boolean variable\n",
    "SI2['external'] = 1\n",
    "SI2['external'] = SI2['name'].str.contains(\"External\")\n",
    "\n",
    "# split dataset\n",
    "extracellular = SI2.query(\"external\")\n",
    "intracellular = SI2.query(\"external == False\")"
   ]
  },
  {
   "cell_type": "markdown",
   "metadata": {},
   "source": [
    "## Intracellular Metabolites $\\mathcal{X}$"
   ]
  },
  {
   "cell_type": "code",
   "execution_count": 11,
   "metadata": {},
   "outputs": [],
   "source": [
    "# drop boolean column\n",
    "intracellular = intracellular.drop(['external'], axis=1)"
   ]
  },
  {
   "cell_type": "code",
   "execution_count": 12,
   "metadata": {},
   "outputs": [],
   "source": [
    "# add amino acid\n",
    "intracellular = intracellular.append({'id': 'Z', 'name': 'amino acid'}, ignore_index=True)"
   ]
  },
  {
   "cell_type": "code",
   "execution_count": 13,
   "metadata": {},
   "outputs": [],
   "source": [
    "# add attributes\n",
    "intracellular[\"compartment\"] = 'cytosol'\n",
    "intracellular[\"constant\"] = 'false'\n",
    "intracellular[\"boundaryCondition\"] = 'false'\n",
    "intracellular[\"hasOnlySubstanceUnits\"] = 'true'\n",
    "intracellular[\"ram:speciesType\"] = 'metabolite'"
   ]
  },
  {
   "cell_type": "markdown",
   "metadata": {},
   "source": [
    "## Extracellular Metabolites $\\mathcal{Y}$"
   ]
  },
  {
   "cell_type": "code",
   "execution_count": 14,
   "metadata": {},
   "outputs": [],
   "source": [
    "# drop boolean column\n",
    "extracellular = extracellular.drop(['external'], axis=1)"
   ]
  },
  {
   "cell_type": "code",
   "execution_count": 15,
   "metadata": {},
   "outputs": [],
   "source": [
    "# abundant species\n",
    "extracellular.at[extracellular['id'] == 'CO2xt', 'initialAmount'] = 10000\n",
    "extracellular.at[extracellular['id'] == 'HEXT', 'initialAmount'] = 10000\n",
    "extracellular.at[extracellular['id'] == 'PIxt', 'initialAmount'] = 10000\n",
    "\n",
    "# potential product are initially zero\n",
    "extracellular.at[extracellular['id'] == 'ETHxt', 'initialAmount'] = 0\n",
    "extracellular.at[extracellular['id'] == 'FORxt', 'initialAmount'] = 0\n",
    "extracellular.at[extracellular['id'] == 'LACxt', 'initialAmount'] = 0\n",
    "extracellular.at[extracellular['id'] == 'LCTSxt', 'initialAmount'] = 0\n",
    "extracellular.at[extracellular['id'] == 'PYRxt', 'initialAmount'] = 0\n",
    "\n",
    "# carbon sources and O2: initial amount depends on the scenario; aerobic glucose as default:\n",
    "extracellular.at[extracellular['id'] == 'ACxt', 'initialAmount'] = 0\n",
    "extracellular.at[extracellular['id'] == 'GLCxt', 'initialAmount'] = 100\n",
    "extracellular.at[extracellular['id'] == 'GLxt', 'initialAmount'] = 0\n",
    "extracellular.at[extracellular['id'] == 'O2xt', 'initialAmount'] = 10000\n",
    "extracellular.at[extracellular['id'] == 'RIBxt', 'initialAmount'] = 0\n",
    "extracellular.at[extracellular['id'] == 'SUCCxt', 'initialAmount'] = 0"
   ]
  },
  {
   "cell_type": "code",
   "execution_count": 16,
   "metadata": {},
   "outputs": [],
   "source": [
    "# add attributes\n",
    "extracellular[\"compartment\"] = 'extracellular'\n",
    "extracellular[\"constant\"] = 'false'\n",
    "extracellular[\"boundaryCondition\"] = 'false' # not false for every species\n",
    "extracellular[\"hasOnlySubstanceUnits\"] = 'true'\n",
    "extracellular[\"ram:speciesType\"] = 'extracellular'"
   ]
  },
  {
   "cell_type": "markdown",
   "metadata": {},
   "source": [
    "## Macromolecules $\\mathcal{P}$"
   ]
  },
  {
   "cell_type": "markdown",
   "metadata": {},
   "source": [
    "### Enzymes $\\mathcal{E}$"
   ]
  },
  {
   "cell_type": "code",
   "execution_count": 17,
   "metadata": {},
   "outputs": [],
   "source": [
    "# create copy of first part of SI\n",
    "enzymes = SI1[['ID', 'Protein', 'Gene', 'Regulatory logic']].copy()"
   ]
  },
  {
   "cell_type": "code",
   "execution_count": 18,
   "metadata": {},
   "outputs": [],
   "source": [
    "# delete rows without ID (i.e. regulatory proteins), without Gene (i.e. spontaneous) or without Protein (exchange, biomass, maintenance)\n",
    "enzymes.dropna(subset=['ID', 'Protein', 'Gene'], inplace=True) # in place: Keep df with valid entries in the same variable"
   ]
  },
  {
   "cell_type": "code",
   "execution_count": 19,
   "metadata": {},
   "outputs": [],
   "source": [
    "# create enzyme IDs ('E_' + reaction id)\n",
    "enzymes[\"id\"] = 'E_' + enzymes[\"ID\"]\n",
    "enzymes = enzymes.drop(['ID'], axis=1) # delete old IDs\n",
    "enzymes = enzymes[['id', 'Protein', 'Gene', 'Regulatory logic']] # order columns"
   ]
  },
  {
   "cell_type": "code",
   "execution_count": 20,
   "metadata": {
    "scrolled": true
   },
   "outputs": [],
   "source": [
    "enzymes = enzymes.rename(columns={\"Protein\": \"name\"})"
   ]
  },
  {
   "cell_type": "code",
   "execution_count": 21,
   "metadata": {},
   "outputs": [],
   "source": [
    "# add attributes\n",
    "enzymes[\"compartment\"] = 'cytosol'\n",
    "enzymes[\"constant\"] = 'false'\n",
    "enzymes[\"boundaryCondition\"] = 'false'\n",
    "enzymes[\"hasOnlySubstanceUnits\"] = 'true'\n",
    "enzymes[\"initialAmount\"] = 'NaN'\n",
    "enzymes[\"ram:molecularWeight\"] = None # are set later\n",
    "enzymes[\"ram:objectiveWeight\"] = None # are set later\n",
    "enzymes[\"ram:biomassPercentage\"] = 0.0\n",
    "enzymes[\"ram:speciesType\"] = 'enzyme'\n",
    "enzymes[\"degradationRate\"] = 0.01"
   ]
  },
  {
   "cell_type": "code",
   "execution_count": 22,
   "metadata": {
    "scrolled": true
   },
   "outputs": [],
   "source": [
    "enzymes.at[enzymes[\"id\"] == \"R\", \"degradationRate\"] = 0.001"
   ]
  },
  {
   "cell_type": "markdown",
   "metadata": {},
   "source": [
    "### Regulatory Proteins $\\mathcal{RP}$"
   ]
  },
  {
   "cell_type": "code",
   "execution_count": 23,
   "metadata": {},
   "outputs": [],
   "source": [
    "# create copy of first part of SI\n",
    "rp = SI1[['ID', 'Protein', 'Gene']].copy()"
   ]
  },
  {
   "cell_type": "code",
   "execution_count": 24,
   "metadata": {},
   "outputs": [],
   "source": [
    "# keep rows without ID\n",
    "rp = rp[pd.isnull(rp['ID'])]\n",
    "rp = rp.drop(['ID'], axis=1)"
   ]
  },
  {
   "cell_type": "code",
   "execution_count": 25,
   "metadata": {},
   "outputs": [],
   "source": [
    "# define function for create protein names (uppercase) from gene names (lowercase)\n",
    "def repl_func(m):\n",
    "    \"\"\"process regular expression match groups for word upper-casing problem\"\"\"\n",
    "    return m.group(1) + m.group(2).upper()"
   ]
  },
  {
   "cell_type": "code",
   "execution_count": 26,
   "metadata": {},
   "outputs": [],
   "source": [
    "rp['id_protein'] = rp['Gene'].map(lambda element: re.sub(\"(^|\\s)(\\S)\", repl_func, element))"
   ]
  },
  {
   "cell_type": "code",
   "execution_count": 27,
   "metadata": {},
   "outputs": [],
   "source": [
    "# rp id = 'RP_' + protein id\n",
    "rp[\"id\"] = 'RP_' + rp[\"id_protein\"]\n",
    "rp = rp[['id', 'Protein', 'Gene']] # order columns"
   ]
  },
  {
   "cell_type": "code",
   "execution_count": 28,
   "metadata": {},
   "outputs": [],
   "source": [
    "rp.loc[rp.id == 'RP_Fnr', 'id'] = 'RP_FNR'"
   ]
  },
  {
   "cell_type": "code",
   "execution_count": 29,
   "metadata": {
    "scrolled": true
   },
   "outputs": [],
   "source": [
    "rp = rp.rename(columns={\"Protein\": \"name\"})"
   ]
  },
  {
   "cell_type": "code",
   "execution_count": 30,
   "metadata": {},
   "outputs": [],
   "source": [
    "# add attributes\n",
    "rp[\"compartment\"] = 'cytosol'\n",
    "rp[\"constant\"] = 'false'\n",
    "rp[\"boundaryCondition\"] = 'false'\n",
    "rp[\"hasOnlySubstanceUnits\"] = 'true'\n",
    "rp[\"initialAmount\"] = 'NaN'\n",
    "rp[\"ram:biomassPercentage\"] = 0.0\n",
    "rp[\"ram:molecularWeight\"] = None # are set later\n",
    "rp[\"ram:objectiveWeight\"] = None # are set later\n",
    "rp[\"ram:speciesType\"] = 'enzyme'\n",
    "rp[\"degradationRate\"] = 0.2"
   ]
  },
  {
   "cell_type": "markdown",
   "metadata": {},
   "source": [
    "### Quota $\\mathcal{Q}$"
   ]
  },
  {
   "cell_type": "code",
   "execution_count": 31,
   "metadata": {},
   "outputs": [],
   "source": [
    "quota = SI1[['Reaction']].loc[SI1['Protein'] == \"Biomass production flux\"]"
   ]
  },
  {
   "cell_type": "code",
   "execution_count": 32,
   "metadata": {},
   "outputs": [],
   "source": [
    "biomass_rxn = quota['Reaction'].values"
   ]
  },
  {
   "cell_type": "code",
   "execution_count": 33,
   "metadata": {},
   "outputs": [],
   "source": [
    "stoich = []\n",
    "spec = []\n",
    "product = False\n",
    "\n",
    "for s in biomass_rxn[0].split():\n",
    "    if '-' in s:\n",
    "        product = True\n",
    "    try:\n",
    "        s = float(s)\n",
    "        if product:\n",
    "            stoich.append(s)\n",
    "        else:\n",
    "            stoich.append(-s)\n",
    "    except ValueError:\n",
    "        if '+' not in s and '-' not in s:\n",
    "            spec.append(s)"
   ]
  },
  {
   "cell_type": "code",
   "execution_count": 34,
   "metadata": {},
   "outputs": [],
   "source": [
    "mw_mol = [503.15, 662.42, 741.38, 258.12, 258.12, 228.09, 198.07, 170.06, 183.03, 165.02, 87.05, 805.54, 130.06, 144.08, 763.50, 424.18, 94.98, 663.42, 740.38, 1000]\n",
    "mw_mmol = [mw/1000 for mw in mw_mol]"
   ]
  },
  {
   "cell_type": "code",
   "execution_count": 35,
   "metadata": {},
   "outputs": [],
   "source": [
    "biomass = pd.DataFrame({'id': spec, 'stoichiometry': stoich, 'molecular weight [g/mmol]': mw_mmol})"
   ]
  },
  {
   "cell_type": "code",
   "execution_count": 36,
   "metadata": {},
   "outputs": [],
   "source": [
    "biomass['weight [g]'] = biomass['stoichiometry'] * biomass['molecular weight [g/mmol]']"
   ]
  },
  {
   "cell_type": "code",
   "execution_count": 37,
   "metadata": {},
   "outputs": [],
   "source": [
    "# calculate weight of biomass\n",
    "educt_surplus = biomass['weight [g]'].sum() - 1.0 # subtract biomass 'weight'\n",
    "biomass_weight = -educt_surplus # new biomass weight equals educt surplus"
   ]
  },
  {
   "cell_type": "code",
   "execution_count": 38,
   "metadata": {},
   "outputs": [],
   "source": [
    "# set weight of 'biomass', which will be reformulated as Quota_rest\n",
    "biomass.at[biomass['id'] == 'Biomass', 'biomass_weight'] = biomass_weight"
   ]
  },
  {
   "cell_type": "markdown",
   "metadata": {},
   "source": [
    "Fraction of proteins $\\varphi_{\\mathrm{protein}}$ is set to 0.55 (for details, see report), so the 'remaining' quota will make up 45 %"
   ]
  },
  {
   "cell_type": "code",
   "execution_count": 39,
   "metadata": {},
   "outputs": [],
   "source": [
    "# add attributes for quota 'rest'\n",
    "quota[\"ID\"] = 'Quota_rest'\n",
    "quota[\"ram:molecularWeight\"] = biomass_weight\n",
    "quota[\"ram:objectiveWeight\"] = biomass_weight\n",
    "quota[\"ram:biomassPercentage\"] = 0.45\n",
    "quota[\"degradationRate\"] = 0.001\n",
    "quota[\"initialAmount\"] = 0.45"
   ]
  },
  {
   "cell_type": "markdown",
   "metadata": {},
   "source": [
    "#### adjust protein fraction $\\phi^*_{\\text{protein}}$\n",
    "Determine fraction of proteins explicitly modeled using data by *Li et al.* for E. coli on minimal medium"
   ]
  },
  {
   "cell_type": "code",
   "execution_count": 40,
   "metadata": {
    "scrolled": true
   },
   "outputs": [],
   "source": [
    "li = pd.read_csv('Li_minimal.tsv', sep='\\t')"
   ]
  },
  {
   "cell_type": "code",
   "execution_count": 41,
   "metadata": {},
   "outputs": [],
   "source": [
    "li = li.rename(columns={\"!Protein:Identifier\": \"protein_id\"})\n",
    "li = li.rename(columns={\"!Protein:Name\": \"protein_name\"})"
   ]
  },
  {
   "cell_type": "code",
   "execution_count": 42,
   "metadata": {},
   "outputs": [],
   "source": [
    "subunits = pd.DataFrame(genes_list, columns=['Gene'])"
   ]
  },
  {
   "cell_type": "code",
   "execution_count": 43,
   "metadata": {
    "scrolled": true
   },
   "outputs": [],
   "source": [
    "for unit in subunits['Gene']:\n",
    "    if unit in li['protein_name'].tolist():\n",
    "        abundance = li.loc[li['protein_name'] == unit, '!Abundance:[original]'].iloc[0]\n",
    "        subunits.loc[subunits.Gene == unit, 'Abundance'] = abundance"
   ]
  },
  {
   "cell_type": "code",
   "execution_count": 44,
   "metadata": {},
   "outputs": [],
   "source": [
    "# manual curation\n",
    "subunits.loc[subunits.Gene == 'lpdA', 'Abundance'] = li.loc[li['protein_name'] == 'lpd', '!Abundance:[ppm]'].iloc[0]\n",
    "subunits.loc[subunits.Gene == 'ackA', 'Abundance'] = li.loc[li['protein_name'] == 'AckA', '!Abundance:[ppm]'].iloc[0]\n",
    "subunits.loc[subunits.Gene == 'atpB', 'Abundance'] = li.loc[li['protein_name'] == 'AtpB', '!Abundance:[ppm]'].iloc[0]\n",
    "subunits.loc[subunits.Gene == 'eno', 'Abundance'] = li.loc[li['protein_name'] == 'Eno', '!Abundance:[ppm]'].iloc[0]\n",
    "subunits.loc[subunits.Gene == 'fba', 'Abundance'] = li.loc[li['protein_name'] == 'fbaA', '!Abundance:[ppm]'].iloc[0]\n",
    "subunits.loc[subunits.Gene == 'fbp', 'Abundance'] = li.loc[li['protein_name'] == 'Fbp', '!Abundance:[ppm]'].iloc[0]\n",
    "subunits.loc[subunits.Gene == 'icdA', 'Abundance'] = li.loc[li['protein_name'] == 'Icd', '!Abundance:[ppm]'].iloc[0]\n",
    "subunits.loc[subunits.Gene == 'pflA', 'Abundance'] = li.loc[li['protein_id'] == 'b0902', '!Abundance:[ppm]'].iloc[0]\n",
    "subunits.loc[subunits.Gene == 'ppsA', 'Abundance'] = li.loc[li['protein_name'] == 'PpsA', '!Abundance:[ppm]'].iloc[0]\n",
    "subunits.loc[subunits.Gene == 'rbsB', 'Abundance'] = li.loc[li['protein_name'] == 'RbsB', '!Abundance:[ppm]'].iloc[0]\n",
    "subunits.loc[subunits.Gene == 'glpR', 'Abundance'] = li.loc[li['protein_id'] == 'b3423', '!Abundance:[ppm]'].iloc[0]\n",
    "subunits.loc[subunits.Gene == 'lacI', 'Abundance'] = li.loc[li['protein_id'] == 'b0345', '!Abundance:[ppm]'].iloc[0]\n",
    "subunits.loc[subunits.Gene == 'rpiR', 'Abundance'] = li.loc[li['protein_id'] == 'b4089', '!Abundance:[ppm]'].iloc[0]\n"
   ]
  },
  {
   "cell_type": "code",
   "execution_count": 45,
   "metadata": {},
   "outputs": [],
   "source": [
    "proteins = SI1[['ID', 'Gene']].copy()"
   ]
  },
  {
   "cell_type": "code",
   "execution_count": 46,
   "metadata": {},
   "outputs": [],
   "source": [
    "# delete rows without Gene\n",
    "proteins.dropna(subset=['Gene'], inplace=True) # in place: Keep df with valid entries in the same variable"
   ]
  },
  {
   "cell_type": "code",
   "execution_count": 47,
   "metadata": {},
   "outputs": [],
   "source": [
    "proteins['Abundance'] = None\n",
    "proteins['Length'] = None"
   ]
  },
  {
   "cell_type": "code",
   "execution_count": 48,
   "metadata": {},
   "outputs": [],
   "source": [
    "for index, value in proteins['Gene'].items():\n",
    "    abundance = 0\n",
    "    for g in value.split(', '):\n",
    "        try:\n",
    "            abundance = abundance + subunits.loc[subunits['Gene'] == g, 'Abundance'].values[0]\n",
    "        except ValueError:\n",
    "            print(value)\n",
    "    proteins['Abundance'][index] = abundance"
   ]
  },
  {
   "cell_type": "code",
   "execution_count": 49,
   "metadata": {},
   "outputs": [],
   "source": [
    "uniprot = pd.read_csv('uniprot.tsv', sep='\\t')"
   ]
  },
  {
   "cell_type": "code",
   "execution_count": 50,
   "metadata": {},
   "outputs": [],
   "source": [
    "for index, value in proteins['Gene'].items():\n",
    "    length = 0\n",
    "    for g in value.split(', '):\n",
    "        try:\n",
    "            length = length + uniprot.loc[uniprot['yourlist'] == g, 'Length'].values[0]\n",
    "        except ValueError:\n",
    "            pass\n",
    "    proteins['Length'][index] = length"
   ]
  },
  {
   "cell_type": "code",
   "execution_count": 51,
   "metadata": {},
   "outputs": [],
   "source": [
    "proteins['model_MW / mmol'] = proteins['Length'] * 0.1331"
   ]
  },
  {
   "cell_type": "code",
   "execution_count": 52,
   "metadata": {},
   "outputs": [],
   "source": [
    "proteins['Weighted_Abundance'] = proteins['model_MW / mmol'] * proteins['Abundance']"
   ]
  },
  {
   "cell_type": "code",
   "execution_count": 53,
   "metadata": {},
   "outputs": [],
   "source": [
    "# sum should be 167 mg\n",
    "adjust_factor = 0.167 / proteins['Weighted_Abundance'].sum()"
   ]
  },
  {
   "cell_type": "code",
   "execution_count": 54,
   "metadata": {},
   "outputs": [],
   "source": [
    "proteins['Abundance_adjusted'] = proteins['Abundance'] * adjust_factor"
   ]
  },
  {
   "cell_type": "code",
   "execution_count": 55,
   "metadata": {},
   "outputs": [],
   "source": [
    "proteins['Weighted_Abundance_adjusted'] =  proteins['model_MW / mmol'] * proteins['Abundance_adjusted']"
   ]
  },
  {
   "cell_type": "code",
   "execution_count": 56,
   "metadata": {},
   "outputs": [
    {
     "data": {
      "text/plain": [
       "0.16699999999999998"
      ]
     },
     "execution_count": 56,
     "metadata": {},
     "output_type": "execute_result"
    }
   ],
   "source": [
    "proteins['Weighted_Abundance_adjusted'].sum()"
   ]
  },
  {
   "cell_type": "code",
   "execution_count": null,
   "metadata": {},
   "outputs": [],
   "source": [
    "# Abundance adjusted = initial amount\n",
    "for index, value in enzymes['Gene'].items():\n",
    "    enzymes[\"initialAmount\"][index] = proteins.loc[proteins['Gene'] == value, 'Weighted_Abundance_adjusted'].values[0]\n"
   ]
  },
  {
   "cell_type": "code",
   "execution_count": null,
   "metadata": {},
   "outputs": [],
   "source": [
    "for index, value in rp['Gene'].items():\n",
    "    rp[\"initialAmount\"][index] = proteins.loc[proteins['Gene'] == value, 'Weighted_Abundance_adjusted'].values[0]\n"
   ]
  },
  {
   "cell_type": "code",
   "execution_count": 63,
   "metadata": {},
   "outputs": [],
   "source": [
    "sum_total = li['!Abundance:[original]'].sum()\n",
    "sum_explicit = subunits['Abundance'].sum()\n",
    "frac_explicit = sum_explicit / (sum_total - sum_explicit)\n",
    "frac_adjusted_total = 0.55*(1-frac_explicit)\n",
    "frac_explicit_total = frac_explicit * 0.55"
   ]
  },
  {
   "cell_type": "code",
   "execution_count": 64,
   "metadata": {
    "scrolled": true
   },
   "outputs": [
    {
     "name": "stdout",
     "output_type": "stream",
     "text": [
      "The fraction of protein explicitly modeled in the dataset by Li et al. is 43.954835%. Therefore, the adjusted protein quota is 30.824841% and the fraction of explicitly modeled proteins in the model is 24.175159%\n"
     ]
    }
   ],
   "source": [
    "print(\"The fraction of protein explicitly modeled in the dataset by Li et al. is %f%%. Therefore, the adjusted protein quota is %f%% and the fraction of explicitly modeled proteins in the model is %f%%\" %(frac_explicit*100, frac_adjusted_total*100, (0.55-frac_adjusted_total)*100))"
   ]
  },
  {
   "cell_type": "code",
   "execution_count": 68,
   "metadata": {},
   "outputs": [],
   "source": [
    "# add protein quota\n",
    "# weights are determined later: length will be set to median length of all proteins explicitly modeled\n",
    "quota = quota.append({\"ID\": 'Quota_protein', \"Gene\": 'R', \"ram:biomassPercentage\": frac_adjusted_total, \"degradationRate\": 0.01, \"initialAmount\": frac_adjusted_total}, ignore_index=True)"
   ]
  },
  {
   "cell_type": "code",
   "execution_count": 69,
   "metadata": {},
   "outputs": [],
   "source": [
    "quota['compartment'] = 'cytosol'\n",
    "quota['ram:molecularWeight'] = 1.0\n",
    "quota['ram:objectiveWeight'] = 1.0"
   ]
  },
  {
   "cell_type": "code",
   "execution_count": 70,
   "metadata": {
    "scrolled": true
   },
   "outputs": [
    {
     "data": {
      "text/html": [
       "<div>\n",
       "<style scoped>\n",
       "    .dataframe tbody tr th:only-of-type {\n",
       "        vertical-align: middle;\n",
       "    }\n",
       "\n",
       "    .dataframe tbody tr th {\n",
       "        vertical-align: top;\n",
       "    }\n",
       "\n",
       "    .dataframe thead th {\n",
       "        text-align: right;\n",
       "    }\n",
       "</style>\n",
       "<table border=\"1\" class=\"dataframe\">\n",
       "  <thead>\n",
       "    <tr style=\"text-align: right;\">\n",
       "      <th></th>\n",
       "      <th>Reaction</th>\n",
       "      <th>ID</th>\n",
       "      <th>ram:molecularWeight</th>\n",
       "      <th>ram:objectiveWeight</th>\n",
       "      <th>ram:biomassPercentage</th>\n",
       "      <th>degradationRate</th>\n",
       "      <th>initialAmount</th>\n",
       "      <th>Gene</th>\n",
       "      <th>compartment</th>\n",
       "    </tr>\n",
       "  </thead>\n",
       "  <tbody>\n",
       "    <tr>\n",
       "      <th>0</th>\n",
       "      <td>41.25 ATP + 3.54 NAD + 18.22 NADPH + 0.2 G6P +...</td>\n",
       "      <td>Quota_rest</td>\n",
       "      <td>1.0</td>\n",
       "      <td>1.0</td>\n",
       "      <td>0.450000</td>\n",
       "      <td>0.001</td>\n",
       "      <td>0.450000</td>\n",
       "      <td>NaN</td>\n",
       "      <td>cytosol</td>\n",
       "    </tr>\n",
       "    <tr>\n",
       "      <th>1</th>\n",
       "      <td>NaN</td>\n",
       "      <td>Quota_protein</td>\n",
       "      <td>1.0</td>\n",
       "      <td>1.0</td>\n",
       "      <td>0.308248</td>\n",
       "      <td>0.010</td>\n",
       "      <td>0.308248</td>\n",
       "      <td>R</td>\n",
       "      <td>cytosol</td>\n",
       "    </tr>\n",
       "  </tbody>\n",
       "</table>\n",
       "</div>"
      ],
      "text/plain": [
       "                                            Reaction             ID  \\\n",
       "0  41.25 ATP + 3.54 NAD + 18.22 NADPH + 0.2 G6P +...     Quota_rest   \n",
       "1                                                NaN  Quota_protein   \n",
       "\n",
       "   ram:molecularWeight  ram:objectiveWeight  ram:biomassPercentage  \\\n",
       "0                  1.0                  1.0               0.450000   \n",
       "1                  1.0                  1.0               0.308248   \n",
       "\n",
       "   degradationRate  initialAmount Gene compartment  \n",
       "0            0.001       0.450000  NaN     cytosol  \n",
       "1            0.010       0.308248    R     cytosol  "
      ]
     },
     "execution_count": 70,
     "metadata": {},
     "output_type": "execute_result"
    }
   ],
   "source": [
    "quota"
   ]
  },
  {
   "cell_type": "markdown",
   "metadata": {},
   "source": [
    "# Reactions $\\mathcal{R}$"
   ]
  },
  {
   "cell_type": "markdown",
   "metadata": {},
   "source": [
    "## Metabolic Reactions $\\mathcal{R_X}$ and Uptake Reactions $\\mathcal{R_Y}$"
   ]
  },
  {
   "cell_type": "code",
   "execution_count": 71,
   "metadata": {},
   "outputs": [],
   "source": [
    "# create copy of first part of SI\n",
    "reactions = SI1[['ID', 'Protein', 'Gene', 'Reaction']].copy()"
   ]
  },
  {
   "cell_type": "code",
   "execution_count": 72,
   "metadata": {},
   "outputs": [],
   "source": [
    "# delete rows without Reaction\n",
    "reactions.dropna(subset=['Reaction'], inplace=True)"
   ]
  },
  {
   "cell_type": "code",
   "execution_count": 73,
   "metadata": {},
   "outputs": [],
   "source": [
    "# delete exchange reactions\n",
    "reactions = reactions[~reactions.Protein.str.contains('exchange')]"
   ]
  },
  {
   "cell_type": "code",
   "execution_count": 74,
   "metadata": {},
   "outputs": [],
   "source": [
    "# delete maintenance and biomass reactions\n",
    "reactions.drop(reactions[reactions.ID == 'ATPM'].index, inplace=True)\n",
    "reactions.drop(reactions[reactions.ID == 'VGRO'].index, inplace=True)"
   ]
  },
  {
   "cell_type": "code",
   "execution_count": 75,
   "metadata": {},
   "outputs": [],
   "source": [
    "# add reaction for amino acid\n",
    "reactions = reactions.append({'ID': 'ASPT', 'Protein': 'L-aspartase', 'Reaction': 'FUM <-> Z'}, ignore_index=True)"
   ]
  },
  {
   "cell_type": "markdown",
   "metadata": {},
   "source": [
    "### turnover rates"
   ]
  },
  {
   "cell_type": "code",
   "execution_count": 76,
   "metadata": {},
   "outputs": [],
   "source": [
    "reactions_turnover = pd.read_csv('TurnoverRates.tsv', sep='\\t')"
   ]
  },
  {
   "cell_type": "code",
   "execution_count": 77,
   "metadata": {},
   "outputs": [],
   "source": [
    "# add column with boolean variable\n",
    "reactions_turnover['transport'] = 1\n",
    "reactions_turnover['transport'] = reactions_turnover['Protein'].str.contains(\"transport|efflux|uptake|secretion|permease\")\n",
    "\n",
    "# split dataset\n",
    "turnover_transport = reactions_turnover.query(\"transport\")\n",
    "turnover_metabolic = reactions_turnover.query(\"transport == False\")"
   ]
  },
  {
   "cell_type": "code",
   "execution_count": 78,
   "metadata": {},
   "outputs": [],
   "source": [
    "missing = reactions_turnover['kcat_fwd/s'].str.count('kcat').sum()+reactions_turnover['kcat_bwd/s'].str.count('kcat').sum()+reactions_turnover['kcat_fwd/s'].str.count('diffusion').sum()+reactions_turnover['kcat_bwd/s'].str.count('diffusion').sum()"
   ]
  },
  {
   "cell_type": "code",
   "execution_count": 79,
   "metadata": {
    "scrolled": true
   },
   "outputs": [
    {
     "name": "stdout",
     "output_type": "stream",
     "text": [
      "Total number of reactions and reverse reactions: 152\n",
      "Missing values (total): 37 (24.342105 %)\n",
      "Missing values (metabolic): 7 (5.737705 %)\n",
      "Missing values (transport): 30 (100.000000 %)\n"
     ]
    }
   ],
   "source": [
    "print(\"Total number of reactions and reverse reactions: %i\" %(len(reactions_turnover)+reactions_turnover['reversible'].sum()))\n",
    "print(\"Missing values (total): %i (%f %%)\" %(missing, missing/(len(reactions_turnover)+reactions_turnover['reversible'].sum())*100))\n",
    "print(\"Missing values (metabolic): %i (%f %%)\" %(turnover_metabolic['kcat_fwd/s'].str.count('kcat').sum()+turnover_metabolic['kcat_bwd/s'].str.count('kcat').sum(), (turnover_metabolic['kcat_fwd/s'].str.count('kcat').sum()+turnover_metabolic['kcat_bwd/s'].str.count('kcat').sum())/(len(turnover_metabolic)+turnover_metabolic['reversible'].sum())*100))\n",
    "print(\"Missing values (transport): %i (%f %%)\" %(missing-turnover_metabolic['kcat_fwd/s'].str.count('kcat').sum()-turnover_metabolic['kcat_bwd/s'].str.count('kcat').sum(), (missing-turnover_metabolic['kcat_fwd/s'].str.count('kcat').sum()-turnover_metabolic['kcat_bwd/s'].str.count('kcat').sum())/(len(turnover_transport)+turnover_transport['reversible'].sum())*100))"
   ]
  },
  {
   "cell_type": "code",
   "execution_count": 80,
   "metadata": {},
   "outputs": [],
   "source": [
    "all_values = []\n",
    "\n",
    "# Iterate over two given columns only from the dataframe\n",
    "for column in reactions_turnover[['kcat_fwd/s', 'kcat_bwd/s']]:\n",
    "    # Select column contents by column name using [] operator\n",
    "    columnSeriesObj = reactions_turnover[column]\n",
    "    for v in columnSeriesObj.values:\n",
    "        try:\n",
    "            v = float(v)\n",
    "            if v > 0:\n",
    "                all_values.append(v)\n",
    "        except ValueError:\n",
    "            pass"
   ]
  },
  {
   "cell_type": "code",
   "execution_count": 81,
   "metadata": {},
   "outputs": [
    {
     "data": {
      "text/plain": [
       "66.6"
      ]
     },
     "execution_count": 81,
     "metadata": {},
     "output_type": "execute_result"
    }
   ],
   "source": [
    "np.median(all_values)\n",
    "#np.mean(all_values)"
   ]
  },
  {
   "cell_type": "code",
   "execution_count": 82,
   "metadata": {},
   "outputs": [],
   "source": [
    "reactions_turnover = reactions_turnover.replace(to_replace = 'kcat', value = np.median(all_values))\n",
    "reactions_turnover = reactions_turnover.replace(to_replace = 'diffusion', value = 0.0) # spontaneous rxns"
   ]
  },
  {
   "cell_type": "code",
   "execution_count": 83,
   "metadata": {},
   "outputs": [],
   "source": [
    "reactions_turnover[\"kcat_fwd/s\"] = pd.to_numeric(reactions_turnover[\"kcat_fwd/s\"])\n",
    "reactions_turnover[\"kcat_bwd/s\"] = pd.to_numeric(reactions_turnover[\"kcat_bwd/s\"])"
   ]
  },
  {
   "cell_type": "code",
   "execution_count": 84,
   "metadata": {},
   "outputs": [],
   "source": [
    "reactions_turnover[\"fbc:geneProductAssociation\"] = np.where(pd.isna(reactions_turnover[\"Gene\"]), np.nan, 'E_' + reactions_turnover[\"Covert ID\"])\n",
    "reactions_turnover['kcat_fwd/min'] = reactions_turnover['kcat_fwd/s'].apply(lambda x: x*60) # conversion from 1/s to 1/min\n",
    "reactions_turnover['kcat_bwd/min'] = reactions_turnover['kcat_bwd/s'].apply(lambda x: x*60) # conversion from 1/s to 1/min\n",
    "reactions_turnover[\"fbc:maintenanceScaling\"] = 0.0"
   ]
  },
  {
   "cell_type": "markdown",
   "metadata": {},
   "source": [
    "## Translation $\\mathcal{R_P}$"
   ]
  },
  {
   "cell_type": "code",
   "execution_count": 85,
   "metadata": {},
   "outputs": [],
   "source": [
    "# Ribosomal activity: 17 amino acids / s\n",
    "amino_acids_per_min = 1020\n",
    "# take molecular weight of Asp as MW for amino acid, i.e. 0.1331 g/mmol\n",
    "weight_amino_acid = 0.1331"
   ]
  },
  {
   "cell_type": "code",
   "execution_count": 86,
   "metadata": {},
   "outputs": [],
   "source": [
    "translation = SI1[['ID', 'Protein', 'Gene', 'Regulatory logic']].copy()"
   ]
  },
  {
   "cell_type": "code",
   "execution_count": 87,
   "metadata": {},
   "outputs": [],
   "source": [
    "# drop rows without Gene (spontaneous reactions...)\n",
    "translation.dropna(subset=['Gene'], inplace=True)"
   ]
  },
  {
   "cell_type": "code",
   "execution_count": 88,
   "metadata": {},
   "outputs": [],
   "source": [
    "# rename old ID column to \"Covert ID\"\n",
    "translation = translation.rename(columns={\"ID\": \"Covert ID\"})"
   ]
  },
  {
   "cell_type": "code",
   "execution_count": 89,
   "metadata": {},
   "outputs": [],
   "source": [
    "# create new ID\n",
    "translation['id_RP'] = translation['Gene'].map(lambda element: re.sub(\"(^|\\s)(\\S)\", repl_func, element))\n",
    "translation[\"ID\"] = np.where(pd.isna(translation[\"Covert ID\"]), 'T_' + translation[\"id_RP\"], 'T_' + translation[\"Covert ID\"])\n"
   ]
  },
  {
   "cell_type": "code",
   "execution_count": 90,
   "metadata": {},
   "outputs": [],
   "source": [
    "translation.loc[translation.ID == 'T_Fnr', 'ID'] = 'T_FNR'"
   ]
  },
  {
   "cell_type": "code",
   "execution_count": 91,
   "metadata": {},
   "outputs": [],
   "source": [
    "# create default ID of Boolean control variable\n",
    "translation[\"control variable\"] = np.where(pd.isna(translation[\"Covert ID\"]), 'qual_con_' + translation[\"Gene\"] + '_bar', 'qual_con_' + translation[\"Covert ID\"] + '_bar')"
   ]
  },
  {
   "cell_type": "code",
   "execution_count": 92,
   "metadata": {},
   "outputs": [],
   "source": [
    "translation[\"Length\"] = None"
   ]
  },
  {
   "cell_type": "code",
   "execution_count": 93,
   "metadata": {},
   "outputs": [],
   "source": [
    "for index, value in translation['Gene'].items():\n",
    "    length = 0\n",
    "    for g in value.split(', '):\n",
    "        try:\n",
    "            length = length + uniprot.loc[uniprot['yourlist'] == g, 'Length'].values[0]\n",
    "        except ValueError:\n",
    "            pass\n",
    "    translation['Length'][index] = length"
   ]
  },
  {
   "cell_type": "code",
   "execution_count": 94,
   "metadata": {},
   "outputs": [],
   "source": [
    "median_length = translation['Length'].median()"
   ]
  },
  {
   "cell_type": "code",
   "execution_count": 95,
   "metadata": {},
   "outputs": [],
   "source": [
    "# append translation of protein quota\n",
    "translation = translation.append({\"ID\": 'T_Quota_protein', \"Length\": median_length}, ignore_index=True)"
   ]
  },
  {
   "cell_type": "code",
   "execution_count": 96,
   "metadata": {},
   "outputs": [],
   "source": [
    "translation[\"reversible\"] = 'false'\n",
    "translation['ram:kcatForward'] = round(translation['Length'].apply(lambda x: amino_acids_per_min/x),5)\n",
    "translation['ram:kcatBackward'] = 0.0\n",
    "translation[\"fbc:maintenanceScaling\"] = 0.0\n",
    "translation[\"fbc:geneProductAssociation\"] = 'R'"
   ]
  },
  {
   "cell_type": "markdown",
   "metadata": {},
   "source": [
    "### set weights for macromolecules"
   ]
  },
  {
   "cell_type": "code",
   "execution_count": 97,
   "metadata": {
    "scrolled": true
   },
   "outputs": [],
   "source": [
    "# take molecular weight of Asp as MW for amino acid, i.e. 0.1331 g/mmol\n",
    "for index, value in enzymes['id'].items():\n",
    "    weight = weight_amino_acid * float(translation.loc[translation['ID'] == value.replace('E_', 'T_'), 'Length'].values[0])\n",
    "    enzymes.at[index, \"ram:molecularWeight\"] = weight\n",
    "    enzymes.at[index, \"ram:objectiveWeight\"] = weight"
   ]
  },
  {
   "cell_type": "code",
   "execution_count": 98,
   "metadata": {},
   "outputs": [],
   "source": [
    "# take molecular weight of Asp as MW for amino acid, i.e. 0.1331 g/mmol\n",
    "for index, value in rp['id'].items():\n",
    "    weight = weight_amino_acid * float(translation.loc[translation['ID'] == value.replace('RP_', 'T_'), 'Length'].values[0])\n",
    "    rp.at[index, \"ram:molecularWeight\"] = weight\n",
    "    rp.at[index, \"ram:objectiveWeight\"] = weight"
   ]
  },
  {
   "cell_type": "code",
   "execution_count": 99,
   "metadata": {},
   "outputs": [],
   "source": [
    "# now set weights of protein quota\n",
    "quota.at[quota['ID'] == 'Quota_protein', 'ram:molecularWeight'] = median_length * weight_amino_acid\n",
    "quota.at[quota['ID'] == 'Quota_protein', 'ram:objectiveWeight'] = median_length * weight_amino_acid"
   ]
  },
  {
   "cell_type": "markdown",
   "metadata": {},
   "source": [
    "## Maintenance Reaction $\\mathcal{R_M}$"
   ]
  },
  {
   "cell_type": "code",
   "execution_count": 100,
   "metadata": {},
   "outputs": [],
   "source": [
    "# filter maintenance reaction from SI\n",
    "main_df = SI1.filter(SI1[SI1.ID == 'ATPM'].index, axis = 0)"
   ]
  },
  {
   "cell_type": "markdown",
   "metadata": {},
   "source": [
    "# Regulated Proteins $p = \\mathcal{RE} \\cup \\mathcal{RP}$"
   ]
  },
  {
   "cell_type": "code",
   "execution_count": 101,
   "metadata": {},
   "outputs": [],
   "source": [
    "# create copy of first part of SI\n",
    "regulated = SI1[['ID', 'Protein', 'Gene', 'Regulatory logic']].copy()"
   ]
  },
  {
   "cell_type": "code",
   "execution_count": 102,
   "metadata": {},
   "outputs": [],
   "source": [
    "# delete rows without Regulation\n",
    "regulated.dropna(subset=['Regulatory logic'], inplace=True)"
   ]
  },
  {
   "cell_type": "code",
   "execution_count": 103,
   "metadata": {},
   "outputs": [],
   "source": [
    "# Create IDs of boolean variables representing gene expresssion for regulated proteins\n",
    "# regulated enzymes: 'G_' + ID (uppercase)\n",
    "# regulatory proteins: 'G_' + Gene (lowercase)\n",
    "regulated[\"bool_ID\"] = np.where(pd.isna(regulated[\"ID\"]), 'G_' + regulated[\"Gene\"] + '_bar', 'G_' + regulated[\"ID\"] + '_bar')"
   ]
  },
  {
   "cell_type": "markdown",
   "metadata": {},
   "source": [
    "## Events and Algebaric Rules"
   ]
  },
  {
   "cell_type": "code",
   "execution_count": 104,
   "metadata": {},
   "outputs": [],
   "source": [
    "events = pd.DataFrame()"
   ]
  },
  {
   "cell_type": "code",
   "execution_count": 105,
   "metadata": {},
   "outputs": [],
   "source": [
    "rules = pd.DataFrame()"
   ]
  },
  {
   "cell_type": "markdown",
   "metadata": {},
   "source": [
    "### Carbon Catabolite Repression and Crp"
   ]
  },
  {
   "cell_type": "code",
   "execution_count": 106,
   "metadata": {},
   "outputs": [],
   "source": [
    "# Glc_neg defined by Event low_/high_Glc below\n",
    "# Lactose\n",
    "events = events.append({'id':'low_LCTS_aux', 'variable':['GLCxt', 'LCTSxt'], 'relation':'lt', 'threshold':'theta_xt', 'assignment':['Lcts_neg_aux'], 'value':['1']}, ignore_index=True)\n",
    "events = events.append({'id':'high_LCTS_aux', 'variable':['GLCxt', 'LCTSxt'], 'relation':'geq', 'threshold':'theta_xt', 'assignment':['Lcts_neg_aux'], 'value':['0']}, ignore_index=True)\n",
    "# Ribose\n",
    "events = events.append({'id':'low_RIB_aux', 'variable':['GLCxt', 'LCTSxt', 'RIBxt'], 'relation':'lt', 'threshold':'theta_xt', 'assignment':['Rib_neg_aux'], 'value':['1']}, ignore_index=True)\n",
    "events = events.append({'id':'high_RIB_aux', 'variable':['GLCxt', 'LCTSxt', 'RIBxt'], 'relation':'geq', 'threshold':'theta_xt', 'assignment':['Rib_neg_aux'], 'value':['0']}, ignore_index=True)\n",
    "# Glycerol\n",
    "events = events.append({'id':'low_GL_aux', 'variable':['GLCxt', 'LCTSxt', 'RIBxt', 'GLxt'], 'relation':'lt', 'threshold':'theta_xt', 'assignment':['Gl_neg_aux'], 'value':['1']}, ignore_index=True)\n",
    "events = events.append({'id':'high_GL_aux', 'variable':['GLCxt', 'LCTSxt', 'RIBxt', 'GLxt'], 'relation':'geq', 'threshold':'theta_xt', 'assignment':['Gl_neg_aux'], 'value':['0']}, ignore_index=True)\n",
    "# Lactate / Pyruvate\n",
    "events = events.append({'id':'low_LacPyr_aux', 'variable':['GLCxt', 'LCTSxt', 'RIBxt', 'GLxt', 'LACxt', 'PYRxt'], 'relation':'lt', 'threshold':'theta_xt', 'assignment':['LacPyr_neg_aux'], 'value':['1']}, ignore_index=True)\n",
    "events = events.append({'id':'high_LacPyr_aux', 'variable':['GLCxt', 'LCTSxt', 'RIBxt', 'GLxt', 'LACxt', 'PYRxt'], 'relation':'geq', 'threshold':'theta_xt', 'assignment':['LacPyr_neg_aux'], 'value':['0']}, ignore_index=True)\n",
    "# Succinate / Ethanol\n",
    "events = events.append({'id':'low_SuccEth_aux', 'variable':['GLCxt', 'LCTSxt', 'RIBxt', 'GLxt', 'LACxt', 'PYRxt', 'SUCCxt', 'ETHxt'], 'relation':'lt', 'threshold':'theta_xt', 'assignment':['SuccEth_neg_aux'], 'value':['1']}, ignore_index=True)\n",
    "events = events.append({'id':'high_SuccEth_aux', 'variable':['GLCxt', 'LCTSxt', 'RIBxt', 'GLxt', 'LACxt', 'PYRxt', 'SUCCxt', 'ETHxt'], 'relation':'geq', 'threshold':'theta_xt', 'assignment':['SuccEth_neg_aux'], 'value':['0']}, ignore_index=True)\n",
    "# All Carbon\n",
    "events = events.append({'id':'low_carbon_neg', 'variable':['GLCxt', 'LCTSxt', 'RIBxt', 'GLxt', 'LACxt', 'PYRxt', 'SUCCxt', 'ETHxt', 'ACxt', 'FORxt'], 'relation':'lt', 'threshold':'theta_xt', 'assignment':['carbon_neg', 'carbon'], 'value':['1', '0']}, ignore_index=True)\n",
    "events = events.append({'id':'high_carbon_neg', 'variable':['GLCxt', 'LCTSxt', 'RIBxt', 'GLxt', 'LACxt', 'PYRxt', 'SUCCxt', 'ETHxt', 'ACxt', 'FORxt'], 'relation':'geq', 'threshold':'theta_xt', 'assignment':['carbon_neg', 'carbon'], 'value':['0', '1']}, ignore_index=True)\n"
   ]
  },
  {
   "cell_type": "code",
   "execution_count": 107,
   "metadata": {},
   "outputs": [],
   "source": [
    "# GLCUP: reset control variable\n",
    "translation.loc[translation.ID == 'T_GLCUP', 'control variable'] = 'carbon'\n",
    "\n",
    "# GLCPTS\n",
    "events = events.append({'id':'low_Mlc', 'variable':['RP_Mlc'], 'relation':'lt', 'threshold':'theta_RP', 'assignment':['Mlc_neg'], 'value':['1']}, ignore_index=True)\n",
    "events = events.append({'id':'high_Mlc', 'variable':['RP_Mlc'], 'relation':'geq', 'threshold':'theta_RP', 'assignment':['Mlc_neg'], 'value':['0']}, ignore_index=True)\n",
    "# Cra_neg defined below\n",
    "rules = rules.append({'variable': 'Glcpts_aux1', 'indicators': ['carbon', 'Mlc_neg'], 'relation': '<and/>'}, ignore_index=True)\n",
    "rules = rules.append({'variable': 'Glcpts_aux2', 'indicators': ['carbon', 'Cra_neg'], 'relation': '<and/>'}, ignore_index=True)\n",
    "rules = rules.append({'variable': 'qual_con_GLCPTS_bar', 'indicators': ['Glcpts_aux1', 'Glcpts_aux2'], 'relation': '<or/>'}, ignore_index=True)\n",
    "\n",
    "# Galactose\n",
    "events = events.append({'id':'low_GalRS', 'variable':['RP_GalR', 'RP_GalS'], 'relation':'lt', 'threshold':'theta_RP', 'assignment':['GalRS_neg'], 'value':['1']}, ignore_index=True)\n",
    "events = events.append({'id':'high_GalRS', 'variable':['RP_GalR', 'RP_GalS'], 'relation':'geq', 'threshold':'theta_RP', 'assignment':['GalRS_neg'], 'value':['0']}, ignore_index=True)\n",
    "rules = rules.append({'variable': 'Gal_aux', 'indicators': ['Glc_neg', 'GalRS_neg'], 'relation': '<and/>'}, ignore_index=True)\n",
    "translation.loc[translation.ID == 'T_GALER', 'control variable'] = 'Gal_aux'\n",
    "translation.loc[translation.ID == 'T_GALKR', 'control variable'] = 'Gal_aux'\n",
    "translation.loc[translation.ID == 'T_GALM1R', 'control variable'] = 'Gal_aux'\n",
    "translation.loc[translation.ID == 'T_GALM2R', 'control variable'] = 'Gal_aux'\n",
    "translation.loc[translation.ID == 'T_GALTR', 'control variable'] = 'Gal_aux'\n",
    "\n",
    "# Lactose\n",
    "events = events.append({'id':'low_LacI', 'variable':['RP_LacI'], 'relation':'lt', 'threshold':'theta_RP', 'assignment':['LacI_neg'], 'value':['1']}, ignore_index=True)\n",
    "events = events.append({'id':'high_LacI', 'variable':['RP_LacI'], 'relation':'geq', 'threshold':'theta_RP', 'assignment':['LacI_neg'], 'value':['0']}, ignore_index=True)\n",
    "rules = rules.append({'variable': 'Lcts_aux', 'indicators': ['Glc_neg', 'LacI_neg'], 'relation': '<and/>'}, ignore_index=True)\n",
    "translation.loc[translation.ID == 'T_LACYR', 'control variable'] = 'Lcts_aux'\n",
    "translation.loc[translation.ID == 'T_LACZ', 'control variable'] = 'Lcts_aux'\n",
    "\n",
    "# Ribose\n",
    "events = events.append({'id':'low_RbsR', 'variable':['RP_RbsR'], 'relation':'lt', 'threshold':'theta_RP', 'assignment':['RbsR_neg'], 'value':['1']}, ignore_index=True)\n",
    "events = events.append({'id':'high_RbsR', 'variable':['RP_RbsR'], 'relation':'geq', 'threshold':'theta_RP', 'assignment':['RbsR_neg'], 'value':['0']}, ignore_index=True)\n",
    "rules = rules.append({'variable': 'Rib_aux', 'indicators': ['Lcts_neg', 'RbsR_neg'], 'relation': '<and/>'}, ignore_index=True)\n",
    "translation.loc[translation.ID == 'T_RIBUPR', 'control variable'] = 'Rib_aux'\n",
    "translation.loc[translation.ID == 'T_RBSK', 'control variable'] = 'Rib_aux'\n",
    "\n",
    "# Glycerol\n",
    "# GLPK, GLUPR\n",
    "events = events.append({'id':'low_GlpR', 'variable':['RP_GlpR'], 'relation':'lt', 'threshold':'theta_RP', 'assignment':['GlpR_neg'], 'value':['1']}, ignore_index=True)\n",
    "events = events.append({'id':'high_GlpR', 'variable':['RP_GlpR'], 'relation':'geq', 'threshold':'theta_RP', 'assignment':['GlpR_neg'], 'value':['0']}, ignore_index=True)\n",
    "rules = rules.append({'variable': 'GG_aux', 'indicators': ['Rib_neg', 'GlpR_neg'], 'relation': '<and/>'}, ignore_index=True)\n",
    "translation.loc[translation.ID == 'T_GLPK', 'control variable'] = 'GG_aux'\n",
    "translation.loc[translation.ID == 'T_GLUPR', 'control variable'] = 'GG_aux'\n",
    "# GLPA (FNR_neg defined below)\n",
    "rules = rules.append({'variable': 'qual_con_GLPA_bar', 'indicators': ['GG_aux', 'FNR_aux'], 'relation': '<and/>'}, ignore_index=True)\n",
    "# GLPD\n",
    "events = events.append({'id':'low_ArcA_GlpR', 'variable':['RP_ArcA', 'RP_GlpR'], 'relation':'lt', 'threshold':'theta_RP', 'assignment':['Arca_GlpR_neg'], 'value':['1']}, ignore_index=True)\n",
    "events = events.append({'id':'high_ArcA_GlpR', 'variable':['RP_ArcA', 'RP_GlpR'], 'relation':'geq', 'threshold':'theta_RP', 'assignment':['Arca_GlpR_neg'], 'value':['0']}, ignore_index=True)\n",
    "rules = rules.append({'variable': 'qual_con_GLPD_bar', 'indicators': ['Rib_neg', 'Arca_GlpR_neg'], 'relation': '<and/>'}, ignore_index=True)\n",
    "\n",
    "# Succinate\n",
    "# DCTAR (ArcA_neg defined below)\n",
    "events = events.append({'id':'low_DcuR', 'variable':['RP_DcuR'], 'relation':'lt', 'threshold':'theta_RP', 'assignment':['DcuR_aux'], 'value':['0']}, ignore_index=True)\n",
    "events = events.append({'id':'high_DcuR', 'variable':['RP_DcuR'], 'relation':'geq', 'threshold':'theta_RP', 'assignment':['DcuR_aux'], 'value':['1']}, ignore_index=True)\n",
    "rules = rules.append({'variable': 'qual_con_DCTAR_bar', 'indicators': ['LacPyr_neg', 'Arca_neg', 'DcuR_aux'], 'relation': '<and/>'}, ignore_index=True)\n",
    "# DCUBR\n",
    "rules = rules.append({'variable': 'qual_con_DCUBR_bar', 'indicators': ['LacPyr_neg', 'FNR_aux', 'DcuR_aux'], 'relation': '<and/>'}, ignore_index=True)\n",
    "\n",
    "# Acetate (IclR_neg defined below)\n",
    "rules = rules.append({'variable': 'qual_con_ACS_bar', 'indicators': ['SuccEth_neg', 'IclR_neg'], 'relation': '<and/>'}, ignore_index=True)\n",
    "\n",
    "# downstream\n",
    "translation.loc[translation.ID == 'T_ACNAR', 'control variable'] = 'carbon_neg'\n",
    "translation.loc[translation.ID == 'T_ACNBR', 'control variable'] = 'carbon_neg'\n",
    "translation.loc[translation.ID == 'T_PGKR', 'control variable'] = 'carbon_neg'\n"
   ]
  },
  {
   "cell_type": "markdown",
   "metadata": {},
   "source": [
    "### Cra"
   ]
  },
  {
   "cell_type": "code",
   "execution_count": 108,
   "metadata": {},
   "outputs": [],
   "source": [
    "events = events.append({'id':'low_flux_FBP', 'variable':['FBP'], 'relation':'lt', 'threshold':'theta_v', 'assignment':['FDP_aux'], 'value':['0']}, ignore_index=True)\n",
    "events = events.append({'id':'high_flux_FBP', 'variable':['FBP'], 'relation':'geq', 'threshold':'theta_v', 'assignment':['FDP_aux'], 'value':['1']}, ignore_index=True)\n",
    "\n",
    "events = events.append({'id':'low_flux_F6P', 'variable':['TKTA2R', 'TKTB2R', 'TALAR', 'TALBR', 'PGIR'], 'relation':'lt', 'threshold':'theta_v', 'assignment':['F6P_neg'], 'value':['1']}, ignore_index=True)\n",
    "events = events.append({'id':'high_flux_F6P', 'variable':['TKTA2R', 'TKTB2R', 'TALAR', 'TALBR', 'PGIR'], 'relation':'geq', 'threshold':'theta_v', 'assignment':['F6P_neg'], 'value':['0']}, ignore_index=True)\n",
    "\n",
    "rules = rules.append({'variable': 'qual_con_cra_bar', 'indicators': ['FDP_aux', 'F6P_neg'], 'relation': '<and/>'}, ignore_index=True)\n"
   ]
  },
  {
   "cell_type": "markdown",
   "metadata": {},
   "source": [
    "### PdhR"
   ]
  },
  {
   "cell_type": "code",
   "execution_count": 109,
   "metadata": {},
   "outputs": [],
   "source": [
    "events = events.append({'id':'low_flux_MAEB_SFCA', 'variable':['MAEB', 'SFCA'], 'relation':'lt', 'threshold':'theta_v', 'assignment':['PYR_aux1'], 'value':['0']}, ignore_index=True)\n",
    "events = events.append({'id':'high_flux_MAEB_SFCA', 'variable':['MAEB', 'SFCA'], 'relation':'geq', 'threshold':'theta_v', 'assignment':['PYR_aux1'], 'value':['1']}, ignore_index=True)\n",
    "\n",
    "events = events.append({'id':'low_flux_DLD1R', 'variable':['DLD1R'], 'relation':'lt', 'threshold':'theta_v', 'assignment':['DLD1R_aux'], 'value':['0']}, ignore_index=True)\n",
    "events = events.append({'id':'high_flux_DLD1R', 'variable':['DLD1R'], 'relation':'geq', 'threshold':'theta_v', 'assignment':['DLD1R_aux'], 'value':['1']}, ignore_index=True)\n",
    "\n",
    "events = events.append({'id':'low_flux_PYR_aux', 'variable':['GLCPTS', 'PYKF', 'PYKA', 'DLD2', 'DCTAR', 'DCUAR', 'DCUBR'], 'relation':'lt', 'threshold':'theta_v', 'assignment':['PYR_neg_aux3'], 'value':['1']}, ignore_index=True)\n",
    "events = events.append({'id':'high_flux_PYR_aux', 'variable':['GLCPTS', 'PYKF', 'PYKA', 'DLD2', 'DCTAR', 'DCUAR', 'DCUBR'], 'relation':'geq', 'threshold':'theta_v', 'assignment':['PYR_neg_aux3'], 'value':['0']}, ignore_index=True)\n",
    "\n",
    "rules = rules.append({'variable': 'qual_con_pdhR_bar', 'indicators': ['PYR_aux1', 'DLD1R_aux', 'PYR_neg_aux3'], 'relation': '<and/>'}, ignore_index=True)\n"
   ]
  },
  {
   "cell_type": "markdown",
   "metadata": {},
   "source": [
    "### ADHER"
   ]
  },
  {
   "cell_type": "code",
   "execution_count": 110,
   "metadata": {},
   "outputs": [],
   "source": [
    "# O2_neg and Cra_neg are defined below\n",
    "rules = rules.append({'variable': 'O2_Cra_neg', 'indicators': ['O2_neg', 'Cra_neg'], 'relation': '<and/>'}, ignore_index=True)\n",
    "rules = rules.append({'variable': 'qual_con_ADHER_bar', 'indicators': ['O2_neg', 'O2_Cra_neg'], 'relation': '<or/>'}, ignore_index=True)\n"
   ]
  },
  {
   "cell_type": "markdown",
   "metadata": {},
   "source": [
    "### Proteins controlled by two continuous variables"
   ]
  },
  {
   "cell_type": "code",
   "execution_count": 111,
   "metadata": {},
   "outputs": [],
   "source": [
    "# ACEB\n",
    "rules = rules.append({'variable': 'qual_con_ACEB_bar', 'indicators': ['ArcA_neg', 'IclR_neg'], 'relation': '<and/>'}, ignore_index=True)\n",
    "\n",
    "# CYDA\n",
    "rules = rules.append({'variable': 'qual_con_CYDA_bar', 'indicators': ['ArcA_aux', 'FNR_neg'], 'relation': '<or/>'}, ignore_index=True)\n",
    "\n",
    "# FRDA\n",
    "rules = rules.append({'variable': 'qual_con_FRDA_bar', 'indicators': ['FNR_aux', 'DcuR_aux'], 'relation': '<or/>'}, ignore_index=True)\n",
    "\n",
    "# DCUC, FORUPR, PFLA, PFLC\n",
    "rules = rules.append({'variable': 'DFPP_aux', 'indicators': ['ArcA_aux', 'FNR_aux'], 'relation': '<or/>'}, ignore_index=True)\n",
    "translation.loc[translation.ID == 'T_DCUC', 'control variable'] = 'DFPP_aux'\n",
    "translation.loc[translation.ID == 'T_FORUPR', 'control variable'] = 'DFPP_aux'\n",
    "translation.loc[translation.ID == 'T_PFLA', 'control variable'] = 'DFPP_aux'\n",
    "translation.loc[translation.ID == 'T_PFLC', 'control variable'] = 'DFPP_aux'\n",
    "\n",
    "# CYOA, FUMAR, SDHA1, SDHA2\n",
    "rules = rules.append({'variable': 'CFSS_aux', 'indicators': ['ArcA_neg', 'FNR_neg'], 'relation': '<and/>'}, ignore_index=True)\n",
    "translation.loc[translation.ID == 'T_CYOA', 'control variable'] = 'CFSS_aux'\n",
    "translation.loc[translation.ID == 'T_FUMAR', 'control variable'] = 'CFSS_aux'\n",
    "translation.loc[translation.ID == 'T_SDHA1', 'control variable'] = 'CFSS_aux'\n",
    "translation.loc[translation.ID == 'T_SDHA2', 'control variable'] = 'CFSS_aux'\n",
    "\n",
    "# FadR\n",
    "events = events.append({'id':'low_AC', 'variable':['ACxt'], 'relation':'lt', 'threshold':'theta_xt', 'assignment':['AC_neg'], 'value':['1']}, ignore_index=True)\n",
    "events = events.append({'id':'high_AC', 'variable':['ACxt'], 'relation':'geq', 'threshold':'theta_xt', 'assignment':['AC_neg'], 'value':['0']}, ignore_index=True)\n",
    "rules = rules.append({'variable': 'qual_con_fadR_bar', 'indicators': ['GLC_aux', 'AC_neg'], 'relation': '<or/>'}, ignore_index=True)\n"
   ]
  },
  {
   "cell_type": "markdown",
   "metadata": {},
   "source": [
    "### Proteins controlled by only one continuous variable"
   ]
  },
  {
   "cell_type": "code",
   "execution_count": 112,
   "metadata": {},
   "outputs": [],
   "source": [
    "# effect of O2 only\n",
    "events = events.append({'id':'low_O2', 'variable':['O2xt'], 'relation':'lt', 'threshold':'theta_xt', 'assignment':['qual_con_arcA_bar', 'qual_con_fnr_bar', 'O2_neg'], 'value':['1', '1', '1']}, ignore_index=True)\n",
    "events = events.append({'id':'high_O2', 'variable':['O2xt'], 'relation':'geq', 'threshold':'theta_xt', 'assignment':['qual_con_arcA_bar', 'qual_con_fnr_bar', 'O2_neg'], 'value':['0', '0', '0']}, ignore_index=True)\n",
    "# effect of SUCC only\n",
    "events = events.append({'id':'low_SUCC', 'variable':['SUCCxt'], 'relation':'lt', 'threshold':'theta_xt', 'assignment':['qual_con_dcuS_bar'], 'value':['0']}, ignore_index=True)\n",
    "events = events.append({'id':'high_SUCC', 'variable':['SUCCxt'], 'relation':'geq', 'threshold':'theta_xt', 'assignment':['qual_con_dcuS_bar'], 'value':['1']}, ignore_index=True)\n",
    "# effect of LCTS only\n",
    "events = events.append({'id':'low_LCTS', 'variable':['LCTSxt'], 'relation':'lt', 'threshold':'theta_xt', 'assignment':['qual_con_galR_bar', 'qual_con_galS_bar', 'qual_con_lacI_bar'], 'value':['1', '1', '1']}, ignore_index=True)\n",
    "events = events.append({'id':'high_LCTS', 'variable':['LCTSxt'], 'relation':'geq', 'threshold':'theta_xt', 'assignment':['qual_con_galR_bar', 'qual_con_galS_bar', 'qual_con_lacI_bar'], 'value':['0', '0', '0']}, ignore_index=True)\n",
    "# effect of GL only\n",
    "events = events.append({'id':'low_GL', 'variable':['GLxt'], 'relation':'lt', 'threshold':'theta_xt', 'assignment':['qual_con_glpR_bar'], 'value':['1']}, ignore_index=True)\n",
    "events = events.append({'id':'high_GL', 'variable':['GLxt'], 'relation':'geq', 'threshold':'theta_xt', 'assignment':['qual_con_glpR_bar'], 'value':['0']}, ignore_index=True)\n",
    "# effect of GLC only\n",
    "events = events.append({'id':'low_GLC', 'variable':['GLCxt'], 'relation':'lt', 'threshold':'theta_xt', 'assignment':['qual_con_mlc_bar', 'Glc_neg', 'Glc_aux'], 'value':['1', '1', '0']}, ignore_index=True)\n",
    "events = events.append({'id':'high_GLC', 'variable':['GLCxt'], 'relation':'geq', 'threshold':'theta_xt', 'assignment':['qual_con_mlc_bar', 'Glc_neg', 'Glc_aux'], 'value':['0', '0', '1']}, ignore_index=True)\n",
    "# effect of RIB only\n",
    "events = events.append({'id':'low_RIB', 'variable':['RIBxt'], 'relation':'lt', 'threshold':'theta_xt', 'assignment':['qual_con_rbsR_bar', 'qual_con_rpiR_bar'], 'value':['1', '1']}, ignore_index=True)\n",
    "events = events.append({'id':'high_RIB', 'variable':['RIBxt'], 'relation':'geq', 'threshold':'theta_xt', 'assignment':['qual_con_rbsR_bar', 'qual_con_rpiR_bar'], 'value':['0', '0']}, ignore_index=True)\n",
    "# effect of RP DcuS only\n",
    "events = events.append({'id':'low_DcuS', 'variable':['RP_DcuS'], 'relation':'lt', 'threshold':'theta_RP', 'assignment':['qual_con_dcuR_bar'], 'value':['0']}, ignore_index=True)\n",
    "events = events.append({'id':'high_DcuS', 'variable':['RP_DcuS'], 'relation':'geq', 'threshold':'theta_RP', 'assignment':['qual_con_dcuR_bar'], 'value':['1']}, ignore_index=True)\n",
    "# effect of RP FadR only\n",
    "events = events.append({'id':'low_FadR', 'variable':['RP_FadR'], 'relation':'lt', 'threshold':'theta_RP', 'assignment':['qual_con_iclR_bar'], 'value':['0']}, ignore_index=True)\n",
    "events = events.append({'id':'high_FadR', 'variable':['RP_FadR'], 'relation':'geq', 'threshold':'theta_RP', 'assignment':['qual_con_iclR_bar'], 'value':['1']}, ignore_index=True)\n",
    "\n",
    "# effect of RP IclR only\n",
    "events = events.append({'id':'low_IclR', 'variable':['RP_IclR'], 'relation':'lt', 'threshold':'theta_RP', 'assignment':['qual_con_ACEA_bar', 'IclR_neg'], 'value':['1', '1']}, ignore_index=True)\n",
    "events = events.append({'id':'high_IclR', 'variable':['RP_IclR'], 'relation':'geq', 'threshold':'theta_RP', 'assignment':['qual_con_ACEA_bar', 'IclR_neg'], 'value':['0', '0']}, ignore_index=True)\n",
    "# effect of RP PdhR only\n",
    "events = events.append({'id':'low_PdhR', 'variable':['RP_PdhR'], 'relation':'lt', 'threshold':'theta_RP', 'assignment':['qual_con_ACEE_bar', 'qual_con_SUCA_bar'], 'value':['1', '1']}, ignore_index=True)\n",
    "events = events.append({'id':'high_PdhR', 'variable':['RP_PdhR'], 'relation':'geq', 'threshold':'theta_RP', 'assignment':['qual_con_ACEE_bar', 'qual_con_SUCA_bar'], 'value':['0', '0']}, ignore_index=True)\n",
    "# effect of RP FNR only\n",
    "events = events.append({'id':'low_FNR', 'variable':['RP_FNR'], 'relation':'lt', 'threshold':'theta_RP', 'assignment':['qual_con_FDNG_bar', 'qual_con_FUMBR_bar', 'qual_con_NDH_bar', 'FNR_aux', 'FNR_neg'], 'value':['0', '0', '1', '0', '1']}, ignore_index=True)\n",
    "events = events.append({'id':'high_FNR', 'variable':['RP_FNR'], 'relation':'geq', 'threshold':'theta_RP', 'assignment':['qual_con_FDNG_bar', 'qual_con_FUMBR_bar', 'qual_con_NDH_bar', 'FNR_aux', 'FNR_neg'], 'value':['1', '1', '0', '1', '0']}, ignore_index=True)\n",
    "# effect of RP ArcA only\n",
    "events = events.append({'id':'low_arcA', 'variable':['RP_ArcA'], 'relation':'lt', 'threshold':'theta_RP', 'assignment':['qual_con_MDHR_bar', 'ArcA_aux', 'ArcA_neg'], 'value':['1', '0', '1']}, ignore_index=True)\n",
    "events = events.append({'id':'high_arcA', 'variable':['RP_ArcA'], 'relation':'geq', 'threshold':'theta_RP', 'assignment':['qual_con_MDHR_bar', 'ArcA_aux', 'ArcA_neg'], 'value':['0', '1', '0']}, ignore_index=True)\n",
    "# effects of Cra only\n",
    "events = events.append({'id':'low_Cra', 'variable':['RP_Cra'], 'relation':'lt', 'threshold':'theta_RP', 'assignment':['qual_con_PPSA_bar', 'qual_con_PYKF_bar', 'Cra_neg'], 'value':['0', '1', '1']}, ignore_index=True)\n",
    "events = events.append({'id':'high_Cra', 'variable':['RP_Cra'], 'relation':'geq', 'threshold':'theta_RP', 'assignment':['qual_con_PPSA_bar', 'qual_con_PYKF_bar', 'Cra_neg'], 'value':['1', '0', '0']}, ignore_index=True)\n",
    "# effect of RpiR only\n",
    "events = events.append({'id':'low_RpiR', 'variable':['RP_RpiR'], 'relation':'lt', 'threshold':'theta_RP', 'assignment':['qual_con_RPIBR_bar'], 'value':['1']}, ignore_index=True)\n",
    "events = events.append({'id':'high_RpiR', 'variable':['RP_RpiR'], 'relation':'geq', 'threshold':'theta_RP', 'assignment':['qual_con_RPIBR_bar'], 'value':['0']}, ignore_index=True)"
   ]
  },
  {
   "cell_type": "markdown",
   "metadata": {},
   "source": [
    "## Qualitative Species"
   ]
  },
  {
   "cell_type": "code",
   "execution_count": 113,
   "metadata": {},
   "outputs": [],
   "source": [
    "# initialize with gene names of regulatory proteins\n",
    "qualspec = rp[['Gene']].copy()\n",
    "qualspec['id'] = qualspec['Gene'] + '_bar'"
   ]
  },
  {
   "cell_type": "code",
   "execution_count": 114,
   "metadata": {},
   "outputs": [],
   "source": [
    "# gene expression of regulated enzymes\n",
    "for index, enzyme in enzymes['id'].items():\n",
    "    if not pd.isna(enzymes['Regulatory logic'][index]):\n",
    "        ID = enzyme[2:] + '_bar'\n",
    "        qualspec = qualspec.append({'id': ID}, ignore_index=True)"
   ]
  },
  {
   "cell_type": "code",
   "execution_count": 115,
   "metadata": {},
   "outputs": [],
   "source": [
    "# LACUP: spontaneous, but regulated\n",
    "qualspec = qualspec.append({'id': 'LACUP_bar'}, ignore_index=True)"
   ]
  },
  {
   "cell_type": "code",
   "execution_count": 116,
   "metadata": {
    "scrolled": true
   },
   "outputs": [],
   "source": [
    "qualspec['max'] = 1"
   ]
  },
  {
   "cell_type": "markdown",
   "metadata": {},
   "source": [
    "# Parameters"
   ]
  },
  {
   "cell_type": "code",
   "execution_count": 117,
   "metadata": {},
   "outputs": [],
   "source": [
    "parameters = {'epsilon_trans':0.0001, 'theta_xt':0.00001, 'theta_RP': 0.000001, 'theta_v': 0.00001}"
   ]
  },
  {
   "cell_type": "code",
   "execution_count": 118,
   "metadata": {},
   "outputs": [],
   "source": [
    "fbc_parameters = []"
   ]
  },
  {
   "cell_type": "code",
   "execution_count": 119,
   "metadata": {},
   "outputs": [],
   "source": [
    "qual_parameters = []"
   ]
  },
  {
   "cell_type": "markdown",
   "metadata": {},
   "source": [
    "# Write Model as XML"
   ]
  },
  {
   "cell_type": "code",
   "execution_count": 120,
   "metadata": {},
   "outputs": [],
   "source": [
    "rdefba = True"
   ]
  },
  {
   "cell_type": "code",
   "execution_count": 121,
   "metadata": {},
   "outputs": [],
   "source": [
    "if rdefba:\n",
    "    name = 'ecoli_rdeFBA'\n",
    "else:\n",
    "    name = 'ecoli_deFBA'"
   ]
  },
  {
   "cell_type": "code",
   "execution_count": 122,
   "metadata": {},
   "outputs": [],
   "source": [
    "f = open(name + '.xml', 'w').close()\n",
    "f = open(name + '.xml', 'w')"
   ]
  },
  {
   "cell_type": "markdown",
   "metadata": {},
   "source": [
    "## First lines"
   ]
  },
  {
   "cell_type": "code",
   "execution_count": 123,
   "metadata": {
    "scrolled": true
   },
   "outputs": [
    {
     "data": {
      "text/plain": [
       "39"
      ]
     },
     "execution_count": 123,
     "metadata": {},
     "output_type": "execute_result"
    }
   ],
   "source": [
    "# XML definition\n",
    "f.write(\"<?xml version=\\\"1.0\\\" encoding=\\\"UTF-8\\\"?>\\n\")"
   ]
  },
  {
   "cell_type": "code",
   "execution_count": 124,
   "metadata": {},
   "outputs": [],
   "source": [
    "# SBML definition\n",
    "if rdefba:\n",
    "    f.write(\"<sbml xmlns=\\\"http://www.sbml.org/sbml/level3/version2/core\\\" level=\\\"3\\\" version=\\\"2\\\" xmlns:qual=\\\"http://www.sbml.org/sbml/level3/version1/qual/version1\\\" qual:required=\\\"true\\\" xmlns:fbc=\\\"http://www.sbml.org/sbml/level3/version1/fbc/version2\\\" fbc:required=\\\"false\\\">\\n\")\n",
    "else:\n",
    "    f.write(\"<sbml xmlns=\\\"http://www.sbml.org/sbml/level3/version2/core\\\" level=\\\"3\\\" version=\\\"2\\\" xmlns:fbc=\\\"http://www.sbml.org/sbml/level3/version1/fbc/version2\\\" fbc:required=\\\"false\\\">\\n\")\n"
   ]
  },
  {
   "cell_type": "code",
   "execution_count": 125,
   "metadata": {},
   "outputs": [
    {
     "data": {
      "text/plain": [
       "66"
      ]
     },
     "execution_count": 125,
     "metadata": {},
     "output_type": "execute_result"
    }
   ],
   "source": [
    "# Model Definition\n",
    "f.write(\"<model id=\\\"\" + name + \"\\\" name=\\\"\" + name + \"\\\" fbc:strict=\\\"false\\\">\\n\\n\")"
   ]
  },
  {
   "cell_type": "markdown",
   "metadata": {},
   "source": [
    "## List of Compartments"
   ]
  },
  {
   "cell_type": "code",
   "execution_count": 126,
   "metadata": {
    "scrolled": true
   },
   "outputs": [
    {
     "data": {
      "text/plain": [
       "142"
      ]
     },
     "execution_count": 126,
     "metadata": {},
     "output_type": "execute_result"
    }
   ],
   "source": [
    "f.write(\"<listOfCompartments>\\n  <compartment id=\\\"extracellular\\\" constant=\\\"true\\\"/>\\n  <compartment id=\\\"cytosol\\\" constant=\\\"true\\\"/>\\n</listOfCompartments>\\n\\n\")"
   ]
  },
  {
   "cell_type": "markdown",
   "metadata": {},
   "source": [
    "## List of Species"
   ]
  },
  {
   "cell_type": "code",
   "execution_count": 127,
   "metadata": {},
   "outputs": [
    {
     "data": {
      "text/plain": [
       "16"
      ]
     },
     "execution_count": 127,
     "metadata": {},
     "output_type": "execute_result"
    }
   ],
   "source": [
    "f.write(\"<listOfSpecies>\\n\")"
   ]
  },
  {
   "cell_type": "markdown",
   "metadata": {},
   "source": [
    "### Metabolites"
   ]
  },
  {
   "cell_type": "markdown",
   "metadata": {},
   "source": [
    "#### extracellular metabolites $\\mathcal{Y}$"
   ]
  },
  {
   "cell_type": "code",
   "execution_count": 128,
   "metadata": {},
   "outputs": [],
   "source": [
    "for index, value in extracellular['id'].items():\n",
    "    f.write(\"<species id=\\\"\"+value+\"\\\" name=\\\"\"+extracellular['name'][index]+\"\\\" compartment=\\\"extracellular\\\" initialAmount=\\\"\"+str(extracellular['initialAmount'][index])+\"\\\" constant=\\\"false\\\" boundaryCondition=\\\"\"+extracellular['boundaryCondition'][index]+\"\\\" hasOnlySubstanceUnits=\\\"true\\\">\\n  <annotation>\\n    <ram:RAM xmlns:ram=\\\"https://www.fairdomhub.org/sops/304\\\">\\n      <ram:species ram:molecularWeight=\\\"0.0\\\" ram:objectiveWeight=\\\"0.0\\\" ram:biomassPercentage=\\\"0.0\\\" ram:speciesType=\\\"extracellular\\\"/>\\n    </ram:RAM>\\n  </annotation>\\n</species>\\n\")"
   ]
  },
  {
   "cell_type": "markdown",
   "metadata": {},
   "source": [
    "#### extracellular metabolites $\\mathcal{X}$"
   ]
  },
  {
   "cell_type": "code",
   "execution_count": 129,
   "metadata": {},
   "outputs": [],
   "source": [
    "for index, value in intracellular['id'].items():\n",
    "    f.write(\"<species id=\\\"\"+value+\"\\\" name=\\\"\"+intracellular['name'][index]+\"\\\" compartment=\\\"cytosol\\\" initialAmount=\\\"0.0\\\" constant=\\\"false\\\" boundaryCondition=\\\"false\\\" hasOnlySubstanceUnits=\\\"true\\\">\\n  <annotation>\\n    <ram:RAM xmlns:ram=\\\"https://www.fairdomhub.org/sops/304\\\">\\n      <ram:species ram:molecularWeight=\\\"0.0\\\" ram:objectiveWeight=\\\"0.0\\\" ram:biomassPercentage=\\\"0.0\\\" ram:speciesType=\\\"metabolite\\\"/>\\n    </ram:RAM>\\n  </annotation>\\n</species>\\n\")"
   ]
  },
  {
   "cell_type": "markdown",
   "metadata": {},
   "source": [
    "### Macromolecules $\\mathcal{P}$"
   ]
  },
  {
   "cell_type": "markdown",
   "metadata": {},
   "source": [
    "#### Enzymes $\\mathcal{E}$ (including Ribosome)"
   ]
  },
  {
   "cell_type": "code",
   "execution_count": 130,
   "metadata": {},
   "outputs": [],
   "source": [
    "for index, value in enzymes['id'].items():\n",
    "    f.write(\"<species id=\\\"\"+value+\"\\\" name=\\\"\"+enzymes['name'][index]+\"\\\" compartment=\\\"cytosol\\\" initialAmount=\\\"\"+str(enzymes['initialAmount'][index])+\"\\\" constant=\\\"false\\\" boundaryCondition=\\\"false\\\" hasOnlySubstanceUnits=\\\"true\\\">\\n  <annotation>\\n    <ram:RAM xmlns:ram=\\\"https://www.fairdomhub.org/sops/304\\\">\\n      <ram:species ram:molecularWeight=\\\"\"+str(enzymes['ram:molecularWeight'][index])+\"\\\" ram:objectiveWeight=\\\"\"+str(enzymes['ram:objectiveWeight'][index])+\"\\\" ram:biomassPercentage=\\\"0.0\\\" ram:speciesType=\\\"enzyme\\\"/>\\n    </ram:RAM>\\n  </annotation>\\n</species>\\n\")"
   ]
  },
  {
   "cell_type": "markdown",
   "metadata": {},
   "source": [
    "#### Regulatory Proteins $\\mathcal{RP}$"
   ]
  },
  {
   "cell_type": "code",
   "execution_count": 131,
   "metadata": {},
   "outputs": [],
   "source": [
    "if rdefba:\n",
    "    for index, value in rp['id'].items():\n",
    "        f.write(\"<species id=\\\"\"+value+\"\\\" name=\\\"\"+rp['name'][index]+\"\\\" compartment=\\\"cytosol\\\" initialAmount=\\\"\"+str(rp['initialAmount'][index])+\"\\\" constant=\\\"false\\\" boundaryCondition=\\\"false\\\" hasOnlySubstanceUnits=\\\"true\\\">\\n  <annotation>\\n    <ram:RAM xmlns:ram=\\\"https://www.fairdomhub.org/sops/304\\\">\\n      <ram:species ram:molecularWeight=\\\"\"+str(rp['ram:molecularWeight'][index])+\"\\\" ram:objectiveWeight=\\\"\"+str(rp['ram:objectiveWeight'][index])+\"\\\" ram:biomassPercentage=\\\"0.0\\\" ram:speciesType=\\\"enzyme\\\"/>\\n    </ram:RAM>\\n  </annotation>\\n</species>\\n\")"
   ]
  },
  {
   "cell_type": "markdown",
   "metadata": {},
   "source": [
    "#### Quota $\\mathcal{Q}$"
   ]
  },
  {
   "cell_type": "code",
   "execution_count": 132,
   "metadata": {},
   "outputs": [],
   "source": [
    "for index, value in quota['ID'].items():\n",
    "    f.write(\"<species id=\\\"\"+value+\"\\\" compartment=\\\"cytosol\\\" initialAmount=\\\"\"+str(quota['initialAmount'][index])+\"\\\" constant=\\\"false\\\" boundaryCondition=\\\"false\\\" hasOnlySubstanceUnits=\\\"true\\\">\\n  <annotation>\\n    <ram:RAM xmlns:ram=\\\"https://www.fairdomhub.org/sops/304\\\">\\n      <ram:species ram:molecularWeight=\\\"\"+str(quota['ram:molecularWeight'][index])+\"\\\" ram:objectiveWeight=\\\"\"+str(quota['ram:objectiveWeight'][index])+\"\\\" ram:biomassPercentage=\\\"\"+str(quota['ram:biomassPercentage'][index])+\"\\\" ram:speciesType=\\\"quota\\\"/>\\n    </ram:RAM>\\n  </annotation>\\n</species>\\n\")    "
   ]
  },
  {
   "cell_type": "code",
   "execution_count": 133,
   "metadata": {},
   "outputs": [
    {
     "data": {
      "text/plain": [
       "18"
      ]
     },
     "execution_count": 133,
     "metadata": {},
     "output_type": "execute_result"
    }
   ],
   "source": [
    "f.write(\"</listOfSpecies>\\n\\n\")"
   ]
  },
  {
   "cell_type": "markdown",
   "metadata": {},
   "source": [
    "## List of Reactions $\\mathcal{R}$"
   ]
  },
  {
   "cell_type": "code",
   "execution_count": 134,
   "metadata": {
    "scrolled": true
   },
   "outputs": [
    {
     "data": {
      "text/plain": [
       "18"
      ]
     },
     "execution_count": 134,
     "metadata": {},
     "output_type": "execute_result"
    }
   ],
   "source": [
    "f.write(\"<listOfReactions>\\n\")"
   ]
  },
  {
   "cell_type": "markdown",
   "metadata": {},
   "source": [
    "### Metabolic Reactions $\\mathcal{R_X}$ and $\\mathcal{R_Y}$"
   ]
  },
  {
   "cell_type": "code",
   "execution_count": 135,
   "metadata": {},
   "outputs": [],
   "source": [
    "stoich = 1.0\n",
    "stoich_bool = False\n",
    "for index, value in reactions_turnover['Covert ID'].items():\n",
    "    if rdefba and value == 'LACUP':\n",
    "        param_lower = 'T_LACUP_FBClower'\n",
    "        param_upper = 'T_LACUP_FBCupper'\n",
    "        fbc_parameters.append(param_lower)\n",
    "        fbc_parameters.append(param_upper)\n",
    "        f.write(\"<reaction id=\\\"\"+value+\"\\\" reversible=\\\"false\\\" fbc:lowerFluxBound=\\\"\" + param_lower + \"\\\" fbc:upperFluxBound=\\\"\" + param_upper + \"\\\">\\n  <annotation>\\n    <ram:RAM xmlns:ram=\\\"https://www.fairdomhub.org/sops/304\\\">\\n      <ram:reaction ram:kcatForward=\\\"\"+str(reactions_turnover['kcat_fwd/min'][index])+\"\\\" ram:kcatBackward=\\\"\"+str(reactions_turnover['kcat_bwd/min'][index])+\"\\\" ram:maintenanceScaling=\\\"0.0\\\"/>\\n    </ram:RAM>\\n  </annotation>\\n\")\n",
    "    elif '<' in reactions_turnover['Reaction'][index]: # reversible\n",
    "        f.write(\"<reaction id=\\\"\"+value+\"\\\" reversible=\\\"true\\\">\\n  <annotation>\\n    <ram:RAM xmlns:ram=\\\"https://www.fairdomhub.org/sops/304\\\">\\n      <ram:reaction ram:kcatForward=\\\"\"+str(reactions_turnover['kcat_fwd/min'][index])+\"\\\" ram:kcatBackward=\\\"\"+str(reactions_turnover['kcat_bwd/min'][index])+\"\\\" ram:maintenanceScaling=\\\"0.0\\\"/>\\n    </ram:RAM>\\n  </annotation>\\n\")\n",
    "    else:\n",
    "        f.write(\"<reaction id=\\\"\"+value+\"\\\" reversible=\\\"false\\\">\\n  <annotation>\\n    <ram:RAM xmlns:ram=\\\"https://www.fairdomhub.org/sops/304\\\">\\n      <ram:reaction ram:kcatForward=\\\"\"+str(reactions_turnover['kcat_fwd/min'][index])+\"\\\" ram:kcatBackward=\\\"0.0\\\" ram:maintenanceScaling=\\\"0.0\\\"/>\\n    </ram:RAM>\\n  </annotation>\\n\")\n",
    "    if pd.isna(reactions_turnover['fbc:geneProductAssociation'][index]): # spontaneous reactions\n",
    "        pass\n",
    "    else:\n",
    "        f.write(\"  <fbc:geneProductAssociation fbc:id=\\\"\"+reactions_turnover['fbc:geneProductAssociation'][index]+\"\\\">\\n    <fbc:geneProductRef fbc:geneProduct=\\\"\"+reactions_turnover['fbc:geneProductAssociation'][index]+\"\\\"/>\\n  </fbc:geneProductAssociation>\\n\")\n",
    "    f.write(\"  <listOfReactants>\\n\")\n",
    "    for g in re.split(r'[+\\s]\\s*', reactions_turnover['Reaction'][index]):\n",
    "        if '-' in g:\n",
    "            f.write(\"  </listOfReactants>\\n  <listOfProducts>\\n\")\n",
    "        else:\n",
    "            try:\n",
    "                stoich = float(g)\n",
    "                stoich_bool = True\n",
    "            except ValueError:\n",
    "                if g == \"\":\n",
    "                    pass\n",
    "                else:\n",
    "                    if stoich_bool == False:\n",
    "                        stoich = 1.0\n",
    "                    f.write(\"    <speciesReference species=\\\"\"+g+\"\\\" stoichiometry=\\\"\"+str(stoich)+\"\\\" constant=\\\"true\\\"/>\\n\")\n",
    "                    stoich_bool = False\n",
    "    f.write(\"  </listOfProducts>\\n</reaction>\\n\")"
   ]
  },
  {
   "cell_type": "markdown",
   "metadata": {},
   "source": [
    "### Translation Reactions $\\mathcal{R_P}$"
   ]
  },
  {
   "cell_type": "code",
   "execution_count": 136,
   "metadata": {},
   "outputs": [],
   "source": [
    "for index, value in translation['ID'].items():\n",
    "    if translation['ID'][index] == 'T_Quota_protein':\n",
    "        prefix = ''\n",
    "    elif pd.notnull(translation['Covert ID'][index]):\n",
    "        prefix = 'E_'\n",
    "    # Regulatory Proteins have no \"Covert ID\"\n",
    "    else:\n",
    "        if rdefba:\n",
    "            prefix = 'RP_'\n",
    "        else:\n",
    "            break\n",
    "    if rdefba:\n",
    "        if pd.notnull(translation['Regulatory logic'][index]):\n",
    "            param_upper = value + '_FBCupper'\n",
    "            param_lower = value + '_FBClower'\n",
    "            fbc_parameters.append(param_upper)\n",
    "            fbc_parameters.append(param_lower)\n",
    "            f.write(\"<reaction id=\\\"\"+value+\"\\\" reversible=\\\"false\\\" fbc:lowerFluxBound=\\\"\" + param_lower + \"\\\" fbc:upperFluxBound=\\\"\" + param_upper + \"\\\">\\n  <annotation>\\n    <ram:RAM xmlns:ram=\\\"https://www.fairdomhub.org/sops/304\\\">\\n      <ram:reaction ram:kcatForward=\\\"\"+str(translation['ram:kcatForward'][index])+\"\\\" ram:kcatBackward=\\\"0.0\\\" ram:maintenanceScaling=\\\"0.0\\\"/>\\n    </ram:RAM>\\n  </annotation>\\n\")\n",
    "        else:\n",
    "            f.write(\"<reaction id=\\\"\"+value+\"\\\" reversible=\\\"false\\\">\\n  <annotation>\\n    <ram:RAM xmlns:ram=\\\"https://www.fairdomhub.org/sops/304\\\">\\n      <ram:reaction ram:kcatForward=\\\"\"+str(translation['ram:kcatForward'][index])+\"\\\" ram:kcatBackward=\\\"0.0\\\" ram:maintenanceScaling=\\\"0.0\\\"/>\\n    </ram:RAM>\\n  </annotation>\\n\")    \n",
    "    else:\n",
    "        f.write(\"<reaction id=\\\"\"+value+\"\\\" reversible=\\\"false\\\">\\n  <annotation>\\n    <ram:RAM xmlns:ram=\\\"https://www.fairdomhub.org/sops/304\\\">\\n      <ram:reaction ram:kcatForward=\\\"\"+str(translation['ram:kcatForward'][index])+\"\\\" ram:kcatBackward=\\\"0.0\\\" ram:maintenanceScaling=\\\"0.0\\\"/>\\n    </ram:RAM>\\n  </annotation>\\n\")    \n",
    "    f.write(\"  <fbc:geneProductAssociation fbc:id=\\\"E_R\\\">\\n    <fbc:geneProductRef fbc:geneProduct=\\\"E_R\\\"/>\\n  </fbc:geneProductAssociation>\\n\")\n",
    "    f.write(\"  <listOfReactants>\\n    <speciesReference species=\\\"Z\\\" stoichiometry=\\\"\"+str(translation['Length'][index])+\"\\\" constant=\\\"true\\\"/>\\n    <speciesReference species=\\\"ATP\\\" stoichiometry=\\\"\"+str(3*translation['Length'][index])+\"\\\" constant=\\\"true\\\"/>\\n  </listOfReactants>\\n\")\n",
    "    f.write(\"  <listOfProducts>\\n    <speciesReference species=\\\"\"+prefix+translation['ID'][index][2:]+\"\\\" stoichiometry=\\\"1.0\\\" constant=\\\"true\\\"/>\\n    <speciesReference species=\\\"AMP\\\" stoichiometry=\\\"\"+str(translation['Length'][index])+\"\\\" constant=\\\"true\\\"/>\\n    <speciesReference species=\\\"PPI\\\" stoichiometry=\\\"\"+str(translation['Length'][index])+\"\\\" constant=\\\"true\\\"/>\\n    <speciesReference species=\\\"ADP\\\" stoichiometry=\\\"\"+str(2*translation['Length'][index])+\"\\\" constant=\\\"true\\\"/>\\n    <speciesReference species=\\\"PI\\\" stoichiometry=\\\"\"+str(2*translation['Length'][index])+\"\\\" constant=\\\"true\\\"/>\\n  </listOfProducts>\\n</reaction>\\n\")   \n",
    "    "
   ]
  },
  {
   "cell_type": "markdown",
   "metadata": {},
   "source": [
    "### Quota_rest"
   ]
  },
  {
   "cell_type": "code",
   "execution_count": 137,
   "metadata": {},
   "outputs": [
    {
     "data": {
      "text/plain": [
       "30"
      ]
     },
     "execution_count": 137,
     "metadata": {},
     "output_type": "execute_result"
    }
   ],
   "source": [
    "f.write(\"<reaction id=\\\"R_Quota_rest\\\" reversible=\\\"false\\\">\\n  <annotation>\\n    <ram:RAM xmlns:ram=\\\"https://www.fairdomhub.org/sops/304\\\">\\n      <ram:reaction ram:kcatForward=\\\"\\\" ram:kcatBackward=\\\"\\\" ram:maintenanceScaling=\\\"0.0\\\"/>\\n    </ram:RAM>\\n  </annotation>\\n\")    \n",
    "stoich = 1.0\n",
    "stoich_bool = False\n",
    "f.write(\"  <listOfReactants>\\n\")\n",
    "for g in re.split(r'[+\\s]\\s*', quota['Reaction'][quota.index[quota['ID'] == 'Quota_rest'].tolist()[0]]):\n",
    "    if '-' in g:\n",
    "        f.write(\"  </listOfReactants>\\n  <listOfProducts>\\n\")\n",
    "    else:\n",
    "        try:\n",
    "            stoich = float(g)\n",
    "            stoich_bool = True\n",
    "        except ValueError:\n",
    "            if g == \"\":\n",
    "                pass\n",
    "            else:\n",
    "                if g == \"Biomass\":\n",
    "                    g = \"Quota_rest\"\n",
    "                    stoich = 1.0\n",
    "                elif stoich_bool == False:\n",
    "                    stoich = 1.0\n",
    "                f.write(\"    <speciesReference species=\\\"\"+g+\"\\\" stoichiometry=\\\"\"+str(stoich)+\"\\\" constant=\\\"true\\\"/>\\n\")\n",
    "                stoich_bool = False\n",
    "f.write(\"</listOfProducts>\\n</reaction>\\n\")"
   ]
  },
  {
   "cell_type": "markdown",
   "metadata": {},
   "source": [
    "### Degradation Reactions $\\mathcal{R_{kd}}$"
   ]
  },
  {
   "cell_type": "code",
   "execution_count": 138,
   "metadata": {},
   "outputs": [],
   "source": [
    "include_degradation = False"
   ]
  },
  {
   "cell_type": "markdown",
   "metadata": {},
   "source": [
    "#### Enzymes"
   ]
  },
  {
   "cell_type": "code",
   "execution_count": 139,
   "metadata": {},
   "outputs": [],
   "source": [
    "if include_degradation:\n",
    "    for index, value in enzymes['id'].items():\n",
    "        f.write(\"<reaction id=\\\"kd_\"+value+\"\\\" reversible=\\\"false\\\">\\n  <annotation>\\n    <ram:RAM xmlns:ram=\\\"https://www.fairdomhub.org/sops/304\\\">\\n      <ram:reaction ram:kcatForward=\\\"NaN\\\" ram:kcatBackward=\\\"0.0\\\" ram:maintenanceScaling=\\\"0.0\\\"/>\\n    </ram:RAM>\\n  </annotation>\\n\")\n",
    "        f.write(\"  <listOfReactants>\\n    <speciesReference species=\\\"\"+value+\"\\\" stoichiometry=\\\"\"+str(enzymes['degradationRate'][index])+\"\\\" constant=\\\"true\\\"/>\\n  </listOfReactants>\\n</reaction>\\n\")"
   ]
  },
  {
   "cell_type": "markdown",
   "metadata": {},
   "source": [
    "#### regulatory proteins"
   ]
  },
  {
   "cell_type": "code",
   "execution_count": 140,
   "metadata": {},
   "outputs": [],
   "source": [
    "if rdefba and include_degradation:\n",
    "    for index, value in rp['id'].items():\n",
    "        f.write(\"<reaction id=\\\"kd_\"+value+\"\\\" reversible=\\\"false\\\">\\n  <annotation>\\n    <ram:RAM xmlns:ram=\\\"https://www.fairdomhub.org/sops/304\\\">\\n      <ram:reaction ram:kcatForward=\\\"NaN\\\" ram:kcatBackward=\\\"0.0\\\" ram:maintenanceScaling=\\\"0.0\\\"/>\\n    </ram:RAM>\\n  </annotation>\\n\")\n",
    "        f.write(\"  <listOfReactants>\\n    <speciesReference species=\\\"\"+value+\"\\\" stoichiometry=\\\"\"+str(rp['degradationRate'][index])+\"\\\" constant=\\\"true\\\"/>\\n  </listOfReactants>\\n</reaction>\\n\")    "
   ]
  },
  {
   "cell_type": "markdown",
   "metadata": {},
   "source": [
    "#### Quota"
   ]
  },
  {
   "cell_type": "code",
   "execution_count": 141,
   "metadata": {},
   "outputs": [],
   "source": [
    "if include_degradation:\n",
    "    for index, value in quota['ID'].items():\n",
    "        f.write(\"<reaction id=\\\"kd_\"+value+\"\\\" reversible=\\\"false\\\">\\n  <annotation>\\n    <ram:RAM xmlns:ram=\\\"https://www.fairdomhub.org/sops/304\\\">\\n      <ram:reaction ram:kcatForward=\\\"NaN\\\" ram:kcatBackward=\\\"0.0\\\" ram:maintenanceScaling=\\\"0.0\\\"/>\\n    </ram:RAM>\\n  </annotation>\\n\")\n",
    "        f.write(\"  <listOfReactants>\\n    <speciesReference species=\\\"\"+value+\"\\\" stoichiometry=\\\"\"+str(quota['degradationRate'][index])+\"\\\" constant=\\\"true\\\"/>\\n  </listOfReactants>\\n</reaction>\\n\")    "
   ]
  },
  {
   "cell_type": "markdown",
   "metadata": {},
   "source": [
    "### Maintenance Reaction"
   ]
  },
  {
   "cell_type": "code",
   "execution_count": 142,
   "metadata": {
    "scrolled": true
   },
   "outputs": [
    {
     "data": {
      "text/plain": [
       "553"
      ]
     },
     "execution_count": 142,
     "metadata": {},
     "output_type": "execute_result"
    }
   ],
   "source": [
    "f.write(\"<reaction id=\\\"Maintenance\\\" name=\\\"Maintenance\\\" reversible=\\\"false\\\">\\n\\t<annotation>\\n\\t\\t<ram:RAM xmlns:ram=\\\"https://www.fairdomhub.org/sops/304\\\">\\n\\t\\t\\t<ram:reaction ram:kcatForward=\\\"\\\" ram:kcatBackward=\\\"\\\" ram:maintenanceScaling=\\\"0.14\\\"/>\\n\\t\\t</ram:RAM>\\n\\t</annotation>\\n\\t<listOfReactants>\\n\\t\\t<speciesReference species=\\\"ATP\\\" stoichiometry=\\\"1\\\" constant=\\\"true\\\"/>\\n\\t</listOfReactants>\\n\\t<listOfProducts>\\n\\t\\t<speciesReference species=\\\"ADP\\\" stoichiometry=\\\"1\\\" constant=\\\"true\\\"/>\\n\\t\\t<speciesReference species=\\\"PI\\\" stoichiometry=\\\"1\\\" constant=\\\"true\\\"/>\\n\\t</listOfProducts>\\n</reaction>\\n\")"
   ]
  },
  {
   "cell_type": "code",
   "execution_count": 143,
   "metadata": {},
   "outputs": [
    {
     "data": {
      "text/plain": [
       "20"
      ]
     },
     "execution_count": 143,
     "metadata": {},
     "output_type": "execute_result"
    }
   ],
   "source": [
    "f.write(\"</listOfReactions>\\n\\n\")"
   ]
  },
  {
   "cell_type": "markdown",
   "metadata": {},
   "source": [
    "## List of Gene Products"
   ]
  },
  {
   "cell_type": "markdown",
   "metadata": {},
   "source": [
    "### Enzymes (including Ribosome)"
   ]
  },
  {
   "cell_type": "code",
   "execution_count": 144,
   "metadata": {},
   "outputs": [
    {
     "data": {
      "text/plain": [
       "25"
      ]
     },
     "execution_count": 144,
     "metadata": {},
     "output_type": "execute_result"
    }
   ],
   "source": [
    "f.write(\"<fbc:listOfGeneProducts>\\n\")"
   ]
  },
  {
   "cell_type": "code",
   "execution_count": 145,
   "metadata": {},
   "outputs": [],
   "source": [
    "for index, value in enzymes['id'].items():\n",
    "    if enzymes['Gene'][index]:\n",
    "        f.write(\"  <fbc:geneProduct fbc:id=\\\"\"+value+\"\\\" fbc:label=\\\"\"+enzymes['Gene'][index]+\"_\"+value[2:]+\"\\\" fbc:associatedSpecies=\\\"\"+value+\"\\\"/>\\n\")\n",
    "# Gene_Protein in order to have unique fbc:label values"
   ]
  },
  {
   "cell_type": "markdown",
   "metadata": {},
   "source": [
    "### Regulatory Proteins"
   ]
  },
  {
   "cell_type": "code",
   "execution_count": 146,
   "metadata": {},
   "outputs": [],
   "source": [
    "if rdefba:\n",
    "    for index, value in rp['id'].items():\n",
    "        f.write(\"  <fbc:geneProduct fbc:id=\\\"\"+value+\"\\\" fbc:label=\\\"\"+rp['Gene'][index]+\"\\\" fbc:associatedSpecies=\\\"\"+value+\"\\\"/>\\n\")"
   ]
  },
  {
   "cell_type": "code",
   "execution_count": 147,
   "metadata": {},
   "outputs": [
    {
     "data": {
      "text/plain": [
       "27"
      ]
     },
     "execution_count": 147,
     "metadata": {},
     "output_type": "execute_result"
    }
   ],
   "source": [
    "f.write(\"</fbc:listOfGeneProducts>\\n\\n\")"
   ]
  },
  {
   "cell_type": "markdown",
   "metadata": {},
   "source": [
    "# List of Qualitative Species"
   ]
  },
  {
   "cell_type": "code",
   "execution_count": 148,
   "metadata": {},
   "outputs": [],
   "source": [
    "if rdefba:\n",
    "    f.write(\"<qual:listOfQualitativeSpecies>\\n\")\n",
    "    for index, value in qualspec['id'].items():\n",
    "        f.write(\"  <qual:qualitativeSpecies qual:id=\\\"\"+value+\"\\\" qual:maxLevel=\\\"\"+str(qualspec['max'][index])+\"\\\" qual:compartment=\\\"cytosol\\\" qual:constant=\\\"false\\\"/>\\n\")\n",
    "    f.write(\"</qual:listOfQualitativeSpecies>\\n\\n\")"
   ]
  },
  {
   "cell_type": "markdown",
   "metadata": {},
   "source": [
    "# List of Rules"
   ]
  },
  {
   "cell_type": "code",
   "execution_count": 149,
   "metadata": {},
   "outputs": [],
   "source": [
    "if rdefba:\n",
    "    f.write(\"<listOfRules>\\n\")"
   ]
  },
  {
   "cell_type": "markdown",
   "metadata": {},
   "source": [
    "## FBC rules"
   ]
  },
  {
   "cell_type": "code",
   "execution_count": 150,
   "metadata": {},
   "outputs": [],
   "source": [
    "# translation always irreversible\n",
    "if rdefba:\n",
    "    for index, value in translation['ID'].items():\n",
    "        if pd.notnull(translation['Regulatory logic'][index]):\n",
    "            f.write(\"  <assignmentRule variable=\\\"\" + value + \"_FBCupper\\\">\\n    <math xmlns=\\\"http://www.w3.org/1998/Math/MathML\\\">\\n      <apply>\\n        <times/>\\n        <ci>NaN</ci>\\n        <ci>\" + translation['control variable'][index] + \"</ci>\\n      </apply>\\n    </math>\\n  </assignmentRule>\\n\")\n",
    "            f.write(\"  <assignmentRule variable=\\\"\" + value + \"_FBClower\\\">\\n    <math xmlns=\\\"http://www.w3.org/1998/Math/MathML\\\">\\n      <apply>\\n        <times/>\\n        <ci>epsilon_trans</ci>\\n        <ci>\" + translation['control variable'][index] + \"</ci>\\n      </apply>\\n    </math>\\n  </assignmentRule>\\n\")         \n",
    "        "
   ]
  },
  {
   "cell_type": "code",
   "execution_count": 151,
   "metadata": {},
   "outputs": [],
   "source": [
    "# Lactate (LACUP) -- spontaneous, but regulated\n",
    "if rdefba:\n",
    "    qual_parameters.append('GL_neg')\n",
    "    f.write(\"  <assignmentRule variable=\\\"T_LACUP_FBClower\\\">\\n    <math xmlns=\\\"http://www.w3.org/1998/Math/MathML\\\">\\n      <apply>\\n        <times/>\\n        <ci>epsilon_trans</ci>\\n        <ci>GL_neg</ci>\\n      </apply>\\n    </math>\\n  </assignmentRule>\\n\")         \n",
    "    f.write(\"  <assignmentRule variable=\\\"T_LACUP_FBCupper\\\">\\n    <math xmlns=\\\"http://www.w3.org/1998/Math/MathML\\\">\\n      <apply>\\n        <times/>\\n        <ci>NaN</ci>\\n        <ci>GL_neg</ci>\\n      </apply>\\n    </math>\\n  </assignmentRule>\\n\")\n"
   ]
  },
  {
   "cell_type": "markdown",
   "metadata": {},
   "source": [
    "## Qual Rules"
   ]
  },
  {
   "cell_type": "code",
   "execution_count": 152,
   "metadata": {},
   "outputs": [],
   "source": [
    "if rdefba:\n",
    "    for qual in qualspec['id']:\n",
    "        f.write(\"<assignmentRule variable=\\\"\" + qual + \"\\\">\\n  <math xmlns=\\\"http://www.w3.org/1998/Math/MathML\\\">\\n    <ci>qual_con_\" + qual + \"</ci>\\n  </math>\\n</assignmentRule>\\n\")\n",
    "        "
   ]
  },
  {
   "cell_type": "markdown",
   "metadata": {},
   "source": [
    "## Boolean Rules"
   ]
  },
  {
   "cell_type": "code",
   "execution_count": 153,
   "metadata": {},
   "outputs": [],
   "source": [
    "if rdefba:\n",
    "    for index, value in rules['variable'].items():\n",
    "        qual_parameters.append(value)\n",
    "        f.write(\"<assignmentRule variable=\\\"\" + value + \"\\\">\\n  <math xmlns=\\\"http://www.w3.org/1998/Math/MathML\\\">\\n    <apply>\\n      \" + rules['relation'][index] + \"\\n\")\n",
    "        for i in rules['indicators'][index]:\n",
    "            qual_parameters.append(i)\n",
    "            f.write(\"      <ci>\" + i + \"</ci>\\n\")\n",
    "        f.write(\"    </apply>\\n  </math>\\n</assignmentRule>\\n\")"
   ]
  },
  {
   "cell_type": "code",
   "execution_count": 154,
   "metadata": {},
   "outputs": [],
   "source": [
    "if rdefba:\n",
    "    f.write(\"</listOfRules>\\n\\n\")"
   ]
  },
  {
   "cell_type": "markdown",
   "metadata": {},
   "source": [
    "# Events"
   ]
  },
  {
   "cell_type": "code",
   "execution_count": 155,
   "metadata": {
    "scrolled": true
   },
   "outputs": [],
   "source": [
    "if rdefba:\n",
    "    f.write(\"<listOfEvents>\\n\")\n",
    "    for index, value in events['id'].items():\n",
    "        f.write(\"<event id=\\\"\" + value + \"\\\" useValuesFromTriggerTime=\\\"true\\\">\\n  <trigger persistent=\\\"true\\\" initialValue=\\\"true\\\">\\n    <math xmlns=\\\"http://www.w3.org/1998/Math/MathML\\\">\\n\")\n",
    "        f.write(\"      <apply>\\n        <\" + events['relation'][index] + \"/>\\n\")\n",
    "        if len(events['variable'][index]) > 1: # multiple variables\n",
    "            f.write(\"        <apply>\\n          <plus/>\\n\")\n",
    "            for var in events['variable'][index]:\n",
    "                f.write(\"          <ci>\" + var + \"</ci>\\n\")\n",
    "            f.write(\"        </apply>\\n\")\n",
    "        else:\n",
    "            f.write(\"        <ci>\" + events['variable'][index][0] + \"</ci>\\n\")\n",
    "        f.write(\"        <ci>\"+events['threshold'][index]+\"</ci>\\n      </apply>\\n    </math>\\n  </trigger>\\n  <listOfEventAssignments>\\n\")\n",
    "        for i, assignment in enumerate(events['assignment'][index]):\n",
    "            qual_parameters.append(assignment)\n",
    "            f.write(\"    <eventAssignment variable=\\\"\"+assignment+\"\\\">\\n      <math xmlns=\\\"http://www.w3.org/1998/Math/MathML\\\">\\n        <cn type=\\\"integer\\\">\"+events['value'][index][i]+\"</cn>\\n      </math>\\n    </eventAssignment>\\n\")\n",
    "        f.write(\"  </listOfEventAssignments>\\n</event>\\n\")\n",
    "    f.write(\"</listOfEvents>\\n\\n\")"
   ]
  },
  {
   "cell_type": "markdown",
   "metadata": {},
   "source": [
    "# List of Parameters"
   ]
  },
  {
   "cell_type": "code",
   "execution_count": 156,
   "metadata": {},
   "outputs": [],
   "source": [
    "# filter duplicates\n",
    "qual_parameters = list(set(qual_parameters))"
   ]
  },
  {
   "cell_type": "code",
   "execution_count": 157,
   "metadata": {
    "scrolled": true
   },
   "outputs": [],
   "source": [
    "if rdefba:\n",
    "    f.write(\"<listOfParameters>\\n\")\n",
    "    for index, value in parameters.items():\n",
    "        f.write(\"  <parameter id=\\\"\" + index + \"\\\" constant=\\\"true\\\" value=\\\"\" + str(value) + \"\\\"/>\\n\")\n",
    "    for fbc_param in fbc_parameters:\n",
    "        f.write(\"  <parameter id=\\\"\" + fbc_param + \"\\\" value=\\\"NaN\\\" constant=\\\"false\\\" />\\n\")\n",
    "    for qual_param in qual_parameters:\n",
    "        f.write(\"  <parameter id=\\\"\" + qual_param + \"\\\" value=\\\"NaN\\\" constant=\\\"false\\\" />\\n\")\n",
    "    f.write(\"</listOfParameters>\\n\")"
   ]
  },
  {
   "cell_type": "markdown",
   "metadata": {},
   "source": [
    "## Last lines"
   ]
  },
  {
   "cell_type": "code",
   "execution_count": 158,
   "metadata": {},
   "outputs": [
    {
     "data": {
      "text/plain": [
       "7"
      ]
     },
     "execution_count": 158,
     "metadata": {},
     "output_type": "execute_result"
    }
   ],
   "source": [
    "f.write(\"</model>\\n\")\n",
    "f.write(\"</sbml>\")"
   ]
  },
  {
   "cell_type": "code",
   "execution_count": 159,
   "metadata": {},
   "outputs": [],
   "source": [
    "f.close()"
   ]
  },
  {
   "cell_type": "code",
   "execution_count": null,
   "metadata": {},
   "outputs": [],
   "source": []
  },
  {
   "cell_type": "code",
   "execution_count": null,
   "metadata": {},
   "outputs": [],
   "source": []
  }
 ],
 "metadata": {
  "kernelspec": {
   "display_name": "Python 3",
   "language": "python",
   "name": "python3"
  },
  "language_info": {
   "codemirror_mode": {
    "name": "ipython",
    "version": 3
   },
   "file_extension": ".py",
   "mimetype": "text/x-python",
   "name": "python",
   "nbconvert_exporter": "python",
   "pygments_lexer": "ipython3",
   "version": "3.7.7"
  }
 },
 "nbformat": 4,
 "nbformat_minor": 4
}
